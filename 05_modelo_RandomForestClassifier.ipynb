{
  "nbformat": 4,
  "nbformat_minor": 0,
  "metadata": {
    "colab": {
      "provenance": [],
      "authorship_tag": "ABX9TyOrJ/N1d/uY1YdcZYQZ56dE",
      "include_colab_link": true
    },
    "kernelspec": {
      "name": "python3",
      "display_name": "Python 3"
    },
    "language_info": {
      "name": "python"
    }
  },
  "cells": [
    {
      "cell_type": "markdown",
      "metadata": {
        "id": "view-in-github",
        "colab_type": "text"
      },
      "source": [
        "<a href=\"https://colab.research.google.com/github/soyudea/StrokePredictionModel/blob/main/05_modelo_RandomForestClassifier.ipynb\" target=\"_parent\"><img src=\"https://colab.research.google.com/assets/colab-badge.svg\" alt=\"Open In Colab\"/></a>"
      ]
    },
    {
      "cell_type": "code",
      "execution_count": null,
      "metadata": {
        "id": "9wrVLn3dByJI"
      },
      "outputs": [],
      "source": [
        "import pandas as pd\n",
        "import numpy as np\n",
        "import math\n",
        "from seaborn import distplot\n",
        "import seaborn as sns\n",
        "import matplotlib.pyplot as plt\n",
        "from sklearn.preprocessing import StandardScaler\n",
        "from sklearn.preprocessing import MinMaxScaler\n",
        "from sklearn.model_selection import KFold\n",
        "from sklearn.metrics import f1_score\n",
        "from sklearn.metrics import confusion_matrix\n",
        "from sklearn.metrics import classification_report\n",
        "from sklearn.pipeline import make_pipeline\n",
        "from sklearn.ensemble import RandomForestClassifier\n",
        "from sklearn.model_selection import train_test_split\n",
        "from sklearn.metrics import median_absolute_error, r2_score, mean_squared_error\n",
        "from matplotlib.patches import split_path_inout\n",
        "from imblearn.over_sampling import RandomOverSampler\n",
        "from sklearn.metrics import average_precision_score\n",
        "from sklearn.metrics import roc_auc_score\n",
        "from sklearn.metrics import roc_curve, auc\n",
        "from matplotlib import pyplot\n",
        "\n",
        "from sklearn.model_selection import GridSearchCV\n",
        "\n",
        "from collections import Counter\n",
        "from sklearn.datasets import make_classification\n",
        "from imblearn.over_sampling import RandomOverSampler\n",
        "\n",
        "from sklearn.decomposition import PCA\n",
        "from sklearn.linear_model import LassoCV\n",
        "from sklearn.metrics import roc_auc_score"
      ]
    },
    {
      "cell_type": "markdown",
      "source": [
        "**Carga del dataset** https://www.kaggle.com/competitions/playground-series-s3e2/data?select=train.csv"
      ],
      "metadata": {
        "id": "vUwynZepCqDI"
      }
    },
    {
      "cell_type": "code",
      "source": [
        "#Se carga dataset obtenido de Kaggle de competencia\n",
        "#==============================================================\n",
        "datos = pd.read_csv('train.csv', sep=\",\")\n",
        "datos_test = pd.read_csv('test.csv', sep=\",\")\n",
        "df =datos.copy()\n",
        "df_test=datos_test.copy()"
      ],
      "metadata": {
        "id": "79AC_D2_C_1N"
      },
      "execution_count": null,
      "outputs": []
    },
    {
      "cell_type": "markdown",
      "source": [
        "**Se agregan valores nulos al 5 % de las muestras en los campos age, avg_glucose_level**"
      ],
      "metadata": {
        "id": "j41tieJ2DIXA"
      }
    },
    {
      "cell_type": "code",
      "source": [
        "#Se adiciona valores nulos al atributo age y avg_glucose_level\n",
        "#=============================================================\n",
        "#df =datos.copy()\n",
        "lista=[]\n",
        "porc_nulos =int(np.shape(df)[0]*5/100)   #Calculo de porcentaje de datos nulos\n",
        "rango_df = np.shape(df)[0]\n",
        "\n",
        "for i in range(porc_nulos):\n",
        "    num_aleatprio = np.random.randint(rango_df) \n",
        "    lista.append(num_aleatprio)\n",
        "\n",
        "\n",
        "for i in lista:\n",
        "    df.at[i, \"age\"] = np.nan\n",
        "\n",
        "lista=[]\n",
        "rango_df = np.shape(df)[0]\n",
        "\n",
        "for i in range(porc_nulos):\n",
        "    num_aleatprio = np.random.randint(rango_df) \n",
        "    lista.append(num_aleatprio)\n",
        "\n",
        "\n",
        "for i in lista:\n",
        "    df.at[i, \"avg_glucose_level\"] = np.nan"
      ],
      "metadata": {
        "id": "5hEfGUbnDVC2"
      },
      "execution_count": null,
      "outputs": []
    },
    {
      "cell_type": "markdown",
      "source": [
        "**Estado del dataset despues de agregar valores nulos**"
      ],
      "metadata": {
        "id": "lpcWyI5DDcXe"
      }
    },
    {
      "cell_type": "code",
      "source": [
        "#Lectura del dataSet\n",
        "#==============================================================\n",
        "datos = pd.read_csv('train.csv', sep=\",\")\n",
        "datos_test = pd.read_csv('test.csv', sep=\",\")\n",
        "df =datos.copy()\n",
        "df_test=datos_test.copy()"
      ],
      "metadata": {
        "id": "0CdaMbmsDfUG"
      },
      "execution_count": null,
      "outputs": []
    },
    {
      "cell_type": "markdown",
      "source": [
        "**Se agregan valores promedios en aquellas muestras con valores nulos**"
      ],
      "metadata": {
        "id": "5-7vFx9jDoSZ"
      }
    },
    {
      "cell_type": "code",
      "source": [
        "#Se agregan valores promedios al atributo age cuando son nulos\n",
        "#==================================================================\n",
        "\n",
        "mean_age = df['age'].mean().astype(int) #Calculo media de las edades\n",
        "\n",
        "for i in range(len(df)):\n",
        "    if math. isnan(df.at[i, \"age\"]):\n",
        "       df.at[i, \"age\"] = mean_age"
      ],
      "metadata": {
        "id": "gie1Y8OoDwvd"
      },
      "execution_count": null,
      "outputs": []
    },
    {
      "cell_type": "code",
      "source": [
        "#Se agrega valores promedios al atributo avg_glucose_level cuando son nulos\n",
        "#===============================================================================================\n",
        "mean_avg_glucose_level = df['avg_glucose_level'].mean().astype(int) #Calculo media de las edades\n",
        "\n",
        "for i in range(len(df)):\n",
        "    if math. isnan(df.at[i, \"avg_glucose_level\"]):\n",
        "       df.at[i, \"avg_glucose_level\"] = mean_avg_glucose_level"
      ],
      "metadata": {
        "id": "IxsnzvmWD4PV"
      },
      "execution_count": null,
      "outputs": []
    },
    {
      "cell_type": "markdown",
      "source": [
        "**Estado final del dataset despues de reemplazar valores nulos con valores promedios**"
      ],
      "metadata": {
        "id": "gJAjA6aQD-Kd"
      }
    },
    {
      "cell_type": "code",
      "source": [
        "datos['age'] = datos['age'].astype('int64') \n",
        "datos.info()"
      ],
      "metadata": {
        "colab": {
          "base_uri": "https://localhost:8080/"
        },
        "id": "0ffPKHp1EG3d",
        "outputId": "3c2bc207-9eae-4121-cfbc-2c4da20e1988"
      },
      "execution_count": null,
      "outputs": [
        {
          "output_type": "stream",
          "name": "stdout",
          "text": [
            "<class 'pandas.core.frame.DataFrame'>\n",
            "RangeIndex: 15304 entries, 0 to 15303\n",
            "Data columns (total 12 columns):\n",
            " #   Column             Non-Null Count  Dtype  \n",
            "---  ------             --------------  -----  \n",
            " 0   id                 15304 non-null  int64  \n",
            " 1   gender             15304 non-null  object \n",
            " 2   age                15304 non-null  int64  \n",
            " 3   hypertension       15304 non-null  int64  \n",
            " 4   heart_disease      15304 non-null  int64  \n",
            " 5   ever_married       15304 non-null  object \n",
            " 6   work_type          15304 non-null  object \n",
            " 7   Residence_type     15304 non-null  object \n",
            " 8   avg_glucose_level  15304 non-null  float64\n",
            " 9   bmi                15304 non-null  float64\n",
            " 10  smoking_status     15304 non-null  object \n",
            " 11  stroke             15304 non-null  int64  \n",
            "dtypes: float64(2), int64(5), object(5)\n",
            "memory usage: 1.4+ MB\n"
          ]
        }
      ]
    },
    {
      "cell_type": "code",
      "source": [
        "df.isnull().sum()"
      ],
      "metadata": {
        "colab": {
          "base_uri": "https://localhost:8080/"
        },
        "id": "RLUfxUYhEMgv",
        "outputId": "ee5fe803-acc3-4e3c-91e0-c50b4860db14"
      },
      "execution_count": null,
      "outputs": [
        {
          "output_type": "execute_result",
          "data": {
            "text/plain": [
              "id                   0\n",
              "gender               0\n",
              "age                  0\n",
              "hypertension         0\n",
              "heart_disease        0\n",
              "ever_married         0\n",
              "work_type            0\n",
              "Residence_type       0\n",
              "avg_glucose_level    0\n",
              "bmi                  0\n",
              "smoking_status       0\n",
              "stroke               0\n",
              "dtype: int64"
            ]
          },
          "metadata": {},
          "execution_count": 8
        }
      ]
    },
    {
      "cell_type": "markdown",
      "source": [
        "**Discretización de las variables 'age', 'avge_glucose_level', 'bmi'**"
      ],
      "metadata": {
        "id": "F3j4KxtPETmu"
      }
    },
    {
      "cell_type": "code",
      "source": [
        "#Se transforma campo numerico age a un atributo con valores categoricos, se discretisa\n",
        "#========================================================================================================================================================\n",
        "\n",
        "df = datos.copy()\n",
        "\n",
        "edades = pd.cut(df['age'], bins = [0,10,20,40,np.inf], labels =['niño','joven','adulto','mayor'], include_lowest=True, retbins = True)\n",
        "df['new_age'] = list(edades[0]) \n",
        "\n",
        "glucosa = pd.cut(df['avg_glucose_level'], bins = [0,100,125,np.inf], labels = ['normal', 'prediabetico','diabetico'], include_lowest=True, retbins=True)\n",
        "df[\"avg_glucose\"] = list(glucosa[0])\n",
        "\n",
        "im = pd.cut(df['bmi'], bins = [18.5,24.9,25,29.9,np.inf], labels = ['low_weight', 'Healthy_weight','overweight','obesity'], include_lowest=True, retbins=True)\n",
        "df['bmi_range'] = list(im[0])\n",
        "df.shape"
      ],
      "metadata": {
        "colab": {
          "base_uri": "https://localhost:8080/"
        },
        "id": "ae3-0Gl4EZNt",
        "outputId": "3894981a-e0e4-4a0d-e50b-d46c4ff9a558"
      },
      "execution_count": null,
      "outputs": [
        {
          "output_type": "execute_result",
          "data": {
            "text/plain": [
              "(15304, 15)"
            ]
          },
          "metadata": {},
          "execution_count": 9
        }
      ]
    },
    {
      "cell_type": "markdown",
      "source": [
        "**Transformación del dataset, de variables categoricas a númericas**"
      ],
      "metadata": {
        "id": "V4a8Ait3EnW3"
      }
    },
    {
      "cell_type": "code",
      "source": [
        "#Se obtiene un dataset con todos sus atributos numéricos\n",
        "#========================================================================================================================================================================================================================================\n",
        "#Quitar la variable work_type\n",
        "\n",
        "vnumericas = df.drop([\"id\",\"avg_glucose_level\",\"age\",\"bmi\",\"new_age\",\"avg_glucose\",\"bmi_range\",\"gender\",\"ever_married\",\"work_type\",\"Residence_type\",\"smoking_status\", \"bmi_range\"],axis=1)#SE crea variable númerica sin las categoricas \n",
        "vcategoricas=df.filter([\"new_age\",\"avg_glucose\",\"bmi_range\",\"gender\",\"ever_married\",\"work_type\",\"Residence_type\",\"smoking_status\", \"bmi_range\"]) \n",
        "\n",
        "cat_numerica=pd.get_dummies(vcategoricas,drop_first=False) \n",
        "df=pd.concat([cat_numerica,vnumericas],axis=1)\n",
        "\n",
        "df.shape"
      ],
      "metadata": {
        "colab": {
          "base_uri": "https://localhost:8080/"
        },
        "id": "QAZEhDLlEi89",
        "outputId": "b3a2a35f-dcc8-43b8-88d9-ab2c6e4d51b0"
      },
      "execution_count": null,
      "outputs": [
        {
          "output_type": "execute_result",
          "data": {
            "text/plain": [
              "(15304, 34)"
            ]
          },
          "metadata": {},
          "execution_count": 10
        }
      ]
    },
    {
      "cell_type": "markdown",
      "source": [
        "**Organización del dataset final**"
      ],
      "metadata": {
        "id": "_lfp3I4RE5RF"
      }
    },
    {
      "cell_type": "code",
      "source": [
        "X = df[:len(df)]\n",
        "y = df['stroke']\n",
        "X = X.drop(columns=['stroke'])\n",
        "X.columns\n",
        "X.shape"
      ],
      "metadata": {
        "colab": {
          "base_uri": "https://localhost:8080/"
        },
        "id": "OgQ6c992E2b-",
        "outputId": "264b583e-dd48-4aa7-9165-4a40fb7f8f6e"
      },
      "execution_count": null,
      "outputs": [
        {
          "output_type": "execute_result",
          "data": {
            "text/plain": [
              "(15304, 33)"
            ]
          },
          "metadata": {},
          "execution_count": 11
        }
      ]
    },
    {
      "cell_type": "markdown",
      "source": [
        "**Generador de muestras sintéticas**"
      ],
      "metadata": {
        "id": "hkVAvxO7E_-d"
      }
    },
    {
      "cell_type": "code",
      "source": [
        "pca=PCA(n_components=30) \n",
        "pca.fit(X) #\n",
        "X_pca=pca.transform(X)"
      ],
      "metadata": {
        "id": "XyOQA_M4FIW0"
      },
      "execution_count": null,
      "outputs": []
    },
    {
      "cell_type": "code",
      "source": [
        "ros = RandomOverSampler(random_state=42, sampling_strategy=1.0)                          \n",
        "Xres, yres = ros.fit_resample(X_pca, y)\n",
        "Xtrain, Xtst, ytrain, ytst = train_test_split(Xres,yres, test_size=0.1) #Se toma el 90 % de los datos para Entrenar\n",
        "print (Xtrain.shape, ytrain.shape, Xtst.shape, ytst.shape)\n",
        "X=Xtrain\n",
        "y=ytrain"
      ],
      "metadata": {
        "colab": {
          "base_uri": "https://localhost:8080/"
        },
        "id": "p5AiGhbNFQlZ",
        "outputId": "17e3e3f6-45ca-4cd2-f16d-0c4028256cf1"
      },
      "execution_count": null,
      "outputs": [
        {
          "output_type": "stream",
          "name": "stdout",
          "text": [
            "(26409, 30) (26409,) (2935, 30) (2935,)\n"
          ]
        }
      ]
    },
    {
      "cell_type": "markdown",
      "source": [
        "**Calculo pesos de la clase Parametro que se usa para minimizar el efecto del desbalance del dataset**"
      ],
      "metadata": {
        "id": "NzX2sSDHFeBV"
      }
    },
    {
      "cell_type": "code",
      "source": [
        "def dar_peso_clase():\n",
        "  Xtrain, Xtest, ytrain, ytest = train_test_split(X, y, test_size = 0.2, train_size = 0.8, random_state = 17)\n",
        "  Number_Muestras_por_Clase = ytrain.value_counts()\n",
        "  Number_Muestras_por_Clase = Number_Muestras_por_Clase.sort_index(axis = 0, ascending = True)\n",
        "  Numero_de_Clases = len(Number_Muestras_por_Clase.index)\n",
        "  Peso_por_Clase = len(ytrain)/(Numero_de_Clases*Number_Muestras_por_Clase)\n",
        "  return Peso_por_Clase"
      ],
      "metadata": {
        "id": "wHIfuG95Fga1"
      },
      "execution_count": null,
      "outputs": []
    },
    {
      "cell_type": "markdown",
      "source": [
        "**Modelo de clasificación random Forest Entrenamiento con el 90 % de los datos**\n",
        "\n",
        "https://scikit-learn.org/stable/modules/generated/sklearn.ensemble.RandomForestClassifier.html"
      ],
      "metadata": {
        "id": "eny14wkUF0ue"
      }
    },
    {
      "cell_type": "code",
      "source": [
        "weight = dar_peso_clase() \n",
        "kf = KFokf = KFold(n_splits=10, random_state = True,shuffle=True)\n",
        "\n",
        "#max_features{“sqrt”, “log2”, None}, int or float, default=”sqrt”\n",
        "#  random_state=True,\n",
        "#min_weight_fraction_leaf=0.00005,\n",
        "#n_estimators=5,\n",
        "#min_impurity_decrease=0.005,\n",
        "# ccp_alpha=0.000001,\n",
        "# max_features =\"sqrt\",\n",
        "#  warm_start=True,\n",
        "#  n_jobs=2,\n",
        "\n",
        "X_test =0\n",
        "Y_test =0\n",
        "\n",
        "#warm_start mejoro la velocidad de ejecucion, mejoró la metrica\n",
        "classifier = RandomForestClassifier(min_samples_split=10,\n",
        "                                    ccp_alpha=0.000001,\n",
        "                                    criterion='gini',\n",
        "                                    class_weight = {0: weight[0], 1: weight[1]},\n",
        "                                    random_state=True,max_features =\"sqrt\",\n",
        "                                    warm_start=True,min_impurity_decrease=0.000005)\n",
        "\n",
        "for train_index, test_index in kf.split(X):\n",
        "    \n",
        "    Xtrain, Xtest = X[train_index], X[test_index]\n",
        "    ytrain, ytest = y.iloc[train_index], y.iloc[test_index]\n",
        "    modelo = classifier.fit(Xtrain, ytrain)\n",
        "    ypred = modelo.predict(Xtest)\n",
        "\n",
        "    print()\n",
        "    print(confusion_matrix(ytest, ypred))\n",
        "    print(classification_report(ytest, ypred, digits =4, labels=[0,1]))\n",
        "    s = roc_auc_score(ytest, modelo.predict(Xtest))\n",
        "    print(f'Best val auc: {s: .4f}')"
      ],
      "metadata": {
        "colab": {
          "base_uri": "https://localhost:8080/"
        },
        "id": "k-EhOftTF9mN",
        "outputId": "63ca6e2c-969a-4e15-dac0-9a8e6c8383a1"
      },
      "execution_count": null,
      "outputs": [
        {
          "output_type": "stream",
          "name": "stdout",
          "text": [
            "\n",
            "[[1003  342]\n",
            " [ 157 1139]]\n",
            "              precision    recall  f1-score   support\n",
            "\n",
            "           0     0.8647    0.7457    0.8008      1345\n",
            "           1     0.7691    0.8789    0.8203      1296\n",
            "\n",
            "    accuracy                         0.8111      2641\n",
            "   macro avg     0.8169    0.8123    0.8106      2641\n",
            "weighted avg     0.8178    0.8111    0.8104      2641\n",
            "\n",
            "Best val auc:  0.8123\n",
            "\n",
            "[[ 999  324]\n",
            " [ 141 1177]]\n",
            "              precision    recall  f1-score   support\n",
            "\n",
            "           0     0.8763    0.7551    0.8112      1323\n",
            "           1     0.7841    0.8930    0.8350      1318\n",
            "\n",
            "    accuracy                         0.8239      2641\n",
            "   macro avg     0.8302    0.8241    0.8231      2641\n",
            "weighted avg     0.8303    0.8239    0.8231      2641\n",
            "\n",
            "Best val auc:  0.8241\n"
          ]
        },
        {
          "output_type": "stream",
          "name": "stderr",
          "text": [
            "/usr/local/lib/python3.10/dist-packages/sklearn/ensemble/_forest.py:452: UserWarning: Warm-start fitting without increasing n_estimators does not fit new trees.\n",
            "  warn(\n",
            "/usr/local/lib/python3.10/dist-packages/sklearn/ensemble/_forest.py:452: UserWarning: Warm-start fitting without increasing n_estimators does not fit new trees.\n",
            "  warn(\n"
          ]
        },
        {
          "output_type": "stream",
          "name": "stdout",
          "text": [
            "\n",
            "[[1010  340]\n",
            " [ 139 1152]]\n",
            "              precision    recall  f1-score   support\n",
            "\n",
            "           0     0.8790    0.7481    0.8083      1350\n",
            "           1     0.7721    0.8923    0.8279      1291\n",
            "\n",
            "    accuracy                         0.8186      2641\n",
            "   macro avg     0.8256    0.8202    0.8181      2641\n",
            "weighted avg     0.8268    0.8186    0.8179      2641\n",
            "\n",
            "Best val auc:  0.8202\n",
            "\n",
            "[[1017  341]\n",
            " [ 158 1125]]\n",
            "              precision    recall  f1-score   support\n",
            "\n",
            "           0     0.8655    0.7489    0.8030      1358\n",
            "           1     0.7674    0.8769    0.8185      1283\n",
            "\n",
            "    accuracy                         0.8111      2641\n",
            "   macro avg     0.8165    0.8129    0.8107      2641\n",
            "weighted avg     0.8179    0.8111    0.8105      2641\n",
            "\n"
          ]
        },
        {
          "output_type": "stream",
          "name": "stderr",
          "text": [
            "/usr/local/lib/python3.10/dist-packages/sklearn/ensemble/_forest.py:452: UserWarning: Warm-start fitting without increasing n_estimators does not fit new trees.\n",
            "  warn(\n",
            "/usr/local/lib/python3.10/dist-packages/sklearn/ensemble/_forest.py:452: UserWarning: Warm-start fitting without increasing n_estimators does not fit new trees.\n",
            "  warn(\n"
          ]
        },
        {
          "output_type": "stream",
          "name": "stdout",
          "text": [
            "Best val auc:  0.8129\n",
            "\n",
            "[[ 988  329]\n",
            " [ 137 1187]]\n",
            "              precision    recall  f1-score   support\n",
            "\n",
            "           0     0.8782    0.7502    0.8092      1317\n",
            "           1     0.7830    0.8965    0.8359      1324\n",
            "\n",
            "    accuracy                         0.8236      2641\n",
            "   macro avg     0.8306    0.8234    0.8225      2641\n",
            "weighted avg     0.8305    0.8236    0.8226      2641\n",
            "\n",
            "Best val auc:  0.8234\n",
            "\n"
          ]
        },
        {
          "output_type": "stream",
          "name": "stderr",
          "text": [
            "/usr/local/lib/python3.10/dist-packages/sklearn/ensemble/_forest.py:452: UserWarning: Warm-start fitting without increasing n_estimators does not fit new trees.\n",
            "  warn(\n",
            "/usr/local/lib/python3.10/dist-packages/sklearn/ensemble/_forest.py:452: UserWarning: Warm-start fitting without increasing n_estimators does not fit new trees.\n",
            "  warn(\n"
          ]
        },
        {
          "output_type": "stream",
          "name": "stdout",
          "text": [
            "[[ 969  342]\n",
            " [ 148 1182]]\n",
            "              precision    recall  f1-score   support\n",
            "\n",
            "           0     0.8675    0.7391    0.7982      1311\n",
            "           1     0.7756    0.8887    0.8283      1330\n",
            "\n",
            "    accuracy                         0.8145      2641\n",
            "   macro avg     0.8215    0.8139    0.8132      2641\n",
            "weighted avg     0.8212    0.8145    0.8134      2641\n",
            "\n",
            "Best val auc:  0.8139\n",
            "\n",
            "[[ 942  338]\n",
            " [ 153 1208]]\n",
            "              precision    recall  f1-score   support\n",
            "\n",
            "           0     0.8603    0.7359    0.7933      1280\n",
            "           1     0.7814    0.8876    0.8311      1361\n",
            "\n",
            "    accuracy                         0.8141      2641\n",
            "   macro avg     0.8208    0.8118    0.8122      2641\n",
            "weighted avg     0.8196    0.8141    0.8128      2641\n",
            "\n",
            "Best val auc:  0.8118\n",
            "\n",
            "[[ 981  358]\n",
            " [ 125 1177]]\n",
            "              precision    recall  f1-score   support\n",
            "\n",
            "           0     0.8870    0.7326    0.8025      1339\n",
            "           1     0.7668    0.9040    0.8297      1302\n",
            "\n",
            "    accuracy                         0.8171      2641\n",
            "   macro avg     0.8269    0.8183    0.8161      2641\n",
            "weighted avg     0.8277    0.8171    0.8159      2641\n",
            "\n",
            "Best val auc:  0.8183\n",
            "\n",
            "[[ 969  330]\n",
            " [ 141 1201]]\n"
          ]
        },
        {
          "output_type": "stream",
          "name": "stderr",
          "text": [
            "/usr/local/lib/python3.10/dist-packages/sklearn/ensemble/_forest.py:452: UserWarning: Warm-start fitting without increasing n_estimators does not fit new trees.\n",
            "  warn(\n",
            "/usr/local/lib/python3.10/dist-packages/sklearn/ensemble/_forest.py:452: UserWarning: Warm-start fitting without increasing n_estimators does not fit new trees.\n",
            "  warn(\n"
          ]
        },
        {
          "output_type": "stream",
          "name": "stdout",
          "text": [
            "              precision    recall  f1-score   support\n",
            "\n",
            "           0     0.8730    0.7460    0.8045      1299\n",
            "           1     0.7845    0.8949    0.8361      1342\n",
            "\n",
            "    accuracy                         0.8217      2641\n",
            "   macro avg     0.8287    0.8204    0.8203      2641\n",
            "weighted avg     0.8280    0.8217    0.8205      2641\n",
            "\n",
            "Best val auc:  0.8204\n",
            "\n",
            "[[ 961  308]\n",
            " [ 144 1227]]\n",
            "              precision    recall  f1-score   support\n",
            "\n",
            "           0     0.8697    0.7573    0.8096      1269\n",
            "           1     0.7993    0.8950    0.8445      1371\n",
            "\n",
            "    accuracy                         0.8288      2640\n",
            "   macro avg     0.8345    0.8261    0.8270      2640\n",
            "weighted avg     0.8332    0.8288    0.8277      2640\n",
            "\n",
            "Best val auc:  0.8261\n"
          ]
        },
        {
          "output_type": "stream",
          "name": "stderr",
          "text": [
            "/usr/local/lib/python3.10/dist-packages/sklearn/ensemble/_forest.py:452: UserWarning: Warm-start fitting without increasing n_estimators does not fit new trees.\n",
            "  warn(\n"
          ]
        }
      ]
    },
    {
      "cell_type": "markdown",
      "source": [
        "**Curva ROC, RandomForest**"
      ],
      "metadata": {
        "id": "kwJKeyFvHvd_"
      }
    },
    {
      "cell_type": "code",
      "source": [
        "classes = classifier.predict(Xtest)\n",
        "ns_probs = [0 for _ in range(len(ytest))]\n",
        "ns_auc = roc_auc_score(ytest, ns_probs,average='weighted')\n",
        "classifier_auc = roc_auc_score(ytest,classes,average='weighted')\n",
        "#aps = average_precision_score(ytest, ns_probs)\n",
        "print()\n",
        "#print(\"Average_presicion_score \"+str(aps))\n",
        "print('Sin entrenar: ROC AUC=%.3f' % (ns_auc))\n",
        "print('Algoritmo RandomForest: ROC AUC=%.3f' % (classifier_auc))\n",
        "print()\n",
        "classifier_probs = classes[:]\n",
        "ns_fpr, ns_tpr, _ = roc_curve(ytest, ns_probs)\n",
        "pyplot.plot(ns_fpr, ns_tpr, linestyle='--', label='Sin entrenar')\n",
        "classifier_fpr,classifier_tpr, _ = roc_curve(ytest, classifier_probs)\n",
        "print()\n",
        "pyplot.plot(classifier_fpr,classifier_tpr, marker='.', label='Curva modelo Random Forest')\n",
        "pyplot.xlabel('Tasa de Falsos Positivos')\n",
        "pyplot.ylabel('Tasa de Verdaderos Positivos')\n",
        "pyplot.legend()\n",
        "pyplot.show()"
      ],
      "metadata": {
        "colab": {
          "base_uri": "https://localhost:8080/",
          "height": 536
        },
        "id": "ftZ2DbfFHyZu",
        "outputId": "b79e87b6-17b3-430d-9b5d-d2126d5bc455"
      },
      "execution_count": null,
      "outputs": [
        {
          "output_type": "stream",
          "name": "stdout",
          "text": [
            "\n",
            "Sin entrenar: ROC AUC=0.500\n",
            "Algoritmo RandomForest: ROC AUC=0.826\n",
            "\n",
            "\n"
          ]
        },
        {
          "output_type": "display_data",
          "data": {
            "text/plain": [
              "<Figure size 640x480 with 1 Axes>"
            ],
            "image/png": "[encoded data removed]"
          },
          "metadata": {}
        }
      ]
    }
  ]
}