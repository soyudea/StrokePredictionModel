{
  "nbformat": 4,
  "nbformat_minor": 0,
  "metadata": {
    "colab": {
      "provenance": [],
      "include_colab_link": true
    },
    "kernelspec": {
      "name": "python3",
      "display_name": "Python 3"
    },
    "language_info": {
      "name": "python"
    }
  },
  "cells": [
    {
      "cell_type": "markdown",
      "metadata": {
        "id": "view-in-github",
        "colab_type": "text"
      },
      "source": [
        "<a href=\"https://colab.research.google.com/github/soyudea/StrokePredictionModel/blob/main/05_modelo_de_DecisionTree.ipynb\" target=\"_parent\"><img src=\"https://colab.research.google.com/assets/colab-badge.svg\" alt=\"Open In Colab\"/></a>"
      ]
    },
    {
      "cell_type": "code",
      "execution_count": 1,
      "metadata": {
        "id": "SYMJ0qECxqhQ"
      },
      "outputs": [],
      "source": [
        "import pandas as pd\n",
        "import numpy as np\n",
        "import math\n",
        "from seaborn import distplot\n",
        "import seaborn as sns\n",
        "import matplotlib.pyplot as plt\n",
        "from sklearn.preprocessing import StandardScaler\n",
        "from sklearn.preprocessing import MinMaxScaler\n",
        "from sklearn.model_selection import KFold\n",
        "from sklearn.metrics import f1_score\n",
        "from sklearn.metrics import confusion_matrix\n",
        "from sklearn.metrics import classification_report\n",
        "from sklearn.pipeline import make_pipeline\n",
        "\n",
        "from sklearn.tree import DecisionTreeClassifier\n",
        "from sklearn.model_selection import train_test_split\n",
        "from sklearn.metrics import median_absolute_error, r2_score, mean_squared_error\n",
        "from matplotlib.patches import split_path_inout\n",
        "from imblearn.over_sampling import RandomOverSampler\n",
        "from sklearn.metrics import average_precision_score\n",
        "from sklearn.metrics import roc_auc_score\n",
        "from sklearn.metrics import roc_curve, auc\n",
        "from matplotlib import pyplot\n",
        "\n",
        "from sklearn.model_selection import GridSearchCV\n",
        "\n",
        "from collections import Counter\n",
        "from sklearn.datasets import make_classification\n",
        "from imblearn.over_sampling import RandomOverSampler\n",
        "\n",
        "from sklearn.decomposition import PCA\n",
        "from sklearn.linear_model import LassoCV\n",
        "from sklearn.metrics import roc_auc_score"
      ]
    },
    {
      "cell_type": "markdown",
      "source": [
        "**1. Cargar del dataset**"
      ],
      "metadata": {
        "id": "3yb_mNb9yffL"
      }
    },
    {
      "cell_type": "markdown",
      "source": [
        "Se carga el dataset final luego del preprocesamiento. Se cargan los archivos Dataset.csv y y.csv"
      ],
      "metadata": {
        "id": "tOdUr1VAW9LJ"
      }
    },
    {
      "cell_type": "code",
      "source": [
        "X = pd.read_csv('Dataset.csv', sep=\",\") \n",
        "y = pd.read_csv('y.csv', sep=\",\") \n",
        "\n",
        "X=X.drop(columns=['Unnamed: 0'])\n",
        "y=y.drop(columns=['Unnamed: 0'])\n"
      ],
      "metadata": {
        "id": "bMMV67jdxxXR"
      },
      "execution_count": 2,
      "outputs": []
    },
    {
      "cell_type": "markdown",
      "source": [
        "**2. Generador de muestras sintéticas**"
      ],
      "metadata": {
        "id": "3wl8bni52jWU"
      }
    },
    {
      "cell_type": "code",
      "source": [
        "pca=PCA(n_components=30) \n",
        "pca.fit(X) #\n",
        "X_pca=pca.transform(X)"
      ],
      "metadata": {
        "id": "IzM0xAV52mZ4"
      },
      "execution_count": 3,
      "outputs": []
    },
    {
      "cell_type": "code",
      "source": [
        "ros = RandomOverSampler(random_state=42, sampling_strategy=1.0)                          \n",
        "Xres, yres = ros.fit_resample(X_pca, y)\n",
        "Xtrain, Xtst, ytrain, ytst = train_test_split(Xres,yres, test_size=0.1) #Se toma el 90 % de los datos para Entrenar\n",
        "print (Xtrain.shape, ytrain.shape, Xtst.shape, ytst.shape)\n",
        "X=Xtrain\n",
        "y=ytrain"
      ],
      "metadata": {
        "colab": {
          "base_uri": "https://localhost:8080/"
        },
        "id": "Tl1xVy1_2vmx",
        "outputId": "0988a8ec-50aa-4838-a1a3-8a9a6cb7793e"
      },
      "execution_count": 4,
      "outputs": [
        {
          "output_type": "stream",
          "name": "stdout",
          "text": [
            "(26409, 30) (26409, 1) (2935, 30) (2935, 1)\n"
          ]
        }
      ]
    },
    {
      "cell_type": "markdown",
      "source": [
        "**3. Cálculo pesos de la clase Parámetro que se usa para minimizar el efecto del desbalance del dataset**"
      ],
      "metadata": {
        "id": "XjTt55rR29bz"
      }
    },
    {
      "cell_type": "code",
      "source": [
        "def dar_peso_clase():\n",
        "  Xtrain, Xtest, ytrain, ytest = train_test_split(X, y, test_size = 0.2, train_size = 0.8, random_state = 17)\n",
        "  Number_Muestras_por_Clase = ytrain.value_counts()\n",
        "  Number_Muestras_por_Clase = Number_Muestras_por_Clase.sort_index(axis = 0, ascending = True)\n",
        "  Numero_de_Clases = len(Number_Muestras_por_Clase.index)\n",
        "  Peso_por_Clase = len(ytrain)/(Numero_de_Clases*Number_Muestras_por_Clase)\n",
        "  return Peso_por_Clase"
      ],
      "metadata": {
        "id": "9sr6Uc_e3AgT"
      },
      "execution_count": 5,
      "outputs": []
    },
    {
      "cell_type": "markdown",
      "source": [
        "**4. Modelo DecisionTreeClassifier https://scikit-learn.org/stable/modules/generated/sklearn.tree.DecisionTreeClassifier.html**"
      ],
      "metadata": {
        "id": "Ve1qYr7S3Orh"
      }
    },
    {
      "cell_type": "code",
      "source": [
        "#Entrenamiento del modelo  DecisionTreeClassifier con el 90% de las muestras\n",
        "#=================================================================================================================\n",
        "kf = KFold(n_splits=20, random_state = True,shuffle=True)\n",
        "\n",
        "preds = []\n",
        "scores = []\n",
        "\n",
        "weight= dar_peso_clase()\n",
        "\n",
        "classifier = DecisionTreeClassifier(criterion='gini', \n",
        "                                    ccp_alpha=0.0000001,\n",
        "                                    min_samples_split=10,\n",
        "                                    class_weight= {0: weight[0], 1: weight[1]},\n",
        "                                    random_state=42,\n",
        "                                    max_features=\"sqrt\",min_impurity_decrease=0.0\n",
        "                                    )  #\"log2\"\n",
        "                                \n",
        "X_test =0\n",
        "y_test =0\n",
        "for train_index, test_index in kf.split(X):\n",
        "\n",
        "    X_train, X_test = X[train_index], X[test_index]  #linea de código para pca\n",
        "    y_train, y_test = y.iloc[train_index], y.iloc[test_index]\n",
        "\n",
        "    #modelo = LassoCV(**model_params)\n",
        "    modelo = classifier.fit(X_train, y_train)\n",
        "    y_pred = modelo.predict(X_test)\n",
        "\n",
        "    print()\n",
        "    print(confusion_matrix(y_test, y_pred))\n",
        "    print(classification_report(y_test, y_pred, digits =4, labels=[0,1]))\n",
        "    preds.append(modelo.predict(X_test))\n",
        "    s = roc_auc_score(y_test, modelo.predict(X_test))\n",
        "    print(f'Best val auc: {s: .4f}')\n",
        "    scores.append(s)\n",
        "    print()"
      ],
      "metadata": {
        "colab": {
          "base_uri": "https://localhost:8080/"
        },
        "id": "KYt_6S2m3Sxb",
        "outputId": "26c00741-8814-42b8-c9ac-0c108593fad2"
      },
      "execution_count": 6,
      "outputs": [
        {
          "output_type": "stream",
          "name": "stdout",
          "text": [
            "\n",
            "[[467 188]\n",
            " [ 59 607]]\n",
            "              precision    recall  f1-score   support\n",
            "\n",
            "           0     0.8878    0.7130    0.7909       655\n",
            "           1     0.7635    0.9114    0.8309       666\n",
            "\n",
            "    accuracy                         0.8130      1321\n",
            "   macro avg     0.8257    0.8122    0.8109      1321\n",
            "weighted avg     0.8252    0.8130    0.8111      1321\n",
            "\n",
            "Best val auc:  0.8122\n",
            "\n",
            "\n",
            "[[479 203]\n",
            " [ 75 564]]\n",
            "              precision    recall  f1-score   support\n",
            "\n",
            "           0     0.8646    0.7023    0.7751       682\n",
            "           1     0.7353    0.8826    0.8023       639\n",
            "\n",
            "    accuracy                         0.7896      1321\n",
            "   macro avg     0.8000    0.7925    0.7887      1321\n",
            "weighted avg     0.8021    0.7896    0.7882      1321\n",
            "\n",
            "Best val auc:  0.7925\n",
            "\n",
            "\n",
            "[[435 187]\n",
            " [ 75 624]]\n",
            "              precision    recall  f1-score   support\n",
            "\n",
            "           0     0.8529    0.6994    0.7686       622\n",
            "           1     0.7694    0.8927    0.8265       699\n",
            "\n",
            "    accuracy                         0.8017      1321\n",
            "   macro avg     0.8112    0.7960    0.7975      1321\n",
            "weighted avg     0.8087    0.8017    0.7992      1321\n",
            "\n",
            "Best val auc:  0.7960\n",
            "\n",
            "\n",
            "[[451 197]\n",
            " [ 74 599]]\n",
            "              precision    recall  f1-score   support\n",
            "\n",
            "           0     0.8590    0.6960    0.7690       648\n",
            "           1     0.7525    0.8900    0.8155       673\n",
            "\n",
            "    accuracy                         0.7949      1321\n",
            "   macro avg     0.8058    0.7930    0.7922      1321\n",
            "weighted avg     0.8048    0.7949    0.7927      1321\n",
            "\n",
            "Best val auc:  0.7930\n",
            "\n",
            "\n",
            "[[468 182]\n",
            " [ 65 606]]\n",
            "              precision    recall  f1-score   support\n",
            "\n",
            "           0     0.8780    0.7200    0.7912       650\n",
            "           1     0.7690    0.9031    0.8307       671\n",
            "\n",
            "    accuracy                         0.8130      1321\n",
            "   macro avg     0.8235    0.8116    0.8110      1321\n",
            "weighted avg     0.8227    0.8130    0.8113      1321\n",
            "\n",
            "Best val auc:  0.8116\n",
            "\n",
            "\n",
            "[[477 171]\n",
            " [ 72 601]]\n",
            "              precision    recall  f1-score   support\n",
            "\n",
            "           0     0.8689    0.7361    0.7970       648\n",
            "           1     0.7785    0.8930    0.8318       673\n",
            "\n",
            "    accuracy                         0.8160      1321\n",
            "   macro avg     0.8237    0.8146    0.8144      1321\n",
            "weighted avg     0.8228    0.8160    0.8147      1321\n",
            "\n",
            "Best val auc:  0.8146\n",
            "\n",
            "\n",
            "[[472 195]\n",
            " [ 69 585]]\n",
            "              precision    recall  f1-score   support\n",
            "\n",
            "           0     0.8725    0.7076    0.7815       667\n",
            "           1     0.7500    0.8945    0.8159       654\n",
            "\n",
            "    accuracy                         0.8002      1321\n",
            "   macro avg     0.8112    0.8011    0.7987      1321\n",
            "weighted avg     0.8118    0.8002    0.7985      1321\n",
            "\n",
            "Best val auc:  0.8011\n",
            "\n",
            "\n",
            "[[474 178]\n",
            " [ 86 583]]\n",
            "              precision    recall  f1-score   support\n",
            "\n",
            "           0     0.8464    0.7270    0.7822       652\n",
            "           1     0.7661    0.8714    0.8154       669\n",
            "\n",
            "    accuracy                         0.8002      1321\n",
            "   macro avg     0.8063    0.7992    0.7988      1321\n",
            "weighted avg     0.8057    0.8002    0.7990      1321\n",
            "\n",
            "Best val auc:  0.7992\n",
            "\n",
            "\n",
            "[[478 188]\n",
            " [ 68 587]]\n",
            "              precision    recall  f1-score   support\n",
            "\n",
            "           0     0.8755    0.7177    0.7888       666\n",
            "           1     0.7574    0.8962    0.8210       655\n",
            "\n",
            "    accuracy                         0.8062      1321\n",
            "   macro avg     0.8164    0.8070    0.8049      1321\n",
            "weighted avg     0.8169    0.8062    0.8047      1321\n",
            "\n",
            "Best val auc:  0.8070\n",
            "\n",
            "\n",
            "[[469 187]\n",
            " [ 80 584]]\n",
            "              precision    recall  f1-score   support\n",
            "\n",
            "           0     0.8543    0.7149    0.7784       656\n",
            "           1     0.7575    0.8795    0.8139       664\n",
            "\n",
            "    accuracy                         0.7977      1320\n",
            "   macro avg     0.8059    0.7972    0.7962      1320\n",
            "weighted avg     0.8056    0.7977    0.7963      1320\n",
            "\n",
            "Best val auc:  0.7972\n",
            "\n",
            "\n",
            "[[490 202]\n",
            " [ 61 567]]\n",
            "              precision    recall  f1-score   support\n",
            "\n",
            "           0     0.8893    0.7081    0.7884       692\n",
            "           1     0.7373    0.9029    0.8117       628\n",
            "\n",
            "    accuracy                         0.8008      1320\n",
            "   macro avg     0.8133    0.8055    0.8001      1320\n",
            "weighted avg     0.8170    0.8008    0.7995      1320\n",
            "\n",
            "Best val auc:  0.8055\n",
            "\n",
            "\n",
            "[[478 186]\n",
            " [ 76 580]]\n",
            "              precision    recall  f1-score   support\n",
            "\n",
            "           0     0.8628    0.7199    0.7849       664\n",
            "           1     0.7572    0.8841    0.8158       656\n",
            "\n",
            "    accuracy                         0.8015      1320\n",
            "   macro avg     0.8100    0.8020    0.8003      1320\n",
            "weighted avg     0.8103    0.8015    0.8002      1320\n",
            "\n",
            "Best val auc:  0.8020\n",
            "\n",
            "\n",
            "[[454 198]\n",
            " [ 72 596]]\n",
            "              precision    recall  f1-score   support\n",
            "\n",
            "           0     0.8631    0.6963    0.7708       652\n",
            "           1     0.7506    0.8922    0.8153       668\n",
            "\n",
            "    accuracy                         0.7955      1320\n",
            "   macro avg     0.8069    0.7943    0.7931      1320\n",
            "weighted avg     0.8062    0.7955    0.7933      1320\n",
            "\n",
            "Best val auc:  0.7943\n",
            "\n",
            "\n",
            "[[462 192]\n",
            " [ 74 592]]\n",
            "              precision    recall  f1-score   support\n",
            "\n",
            "           0     0.8619    0.7064    0.7765       654\n",
            "           1     0.7551    0.8889    0.8166       666\n",
            "\n",
            "    accuracy                         0.7985      1320\n",
            "   macro avg     0.8085    0.7977    0.7965      1320\n",
            "weighted avg     0.8080    0.7985    0.7967      1320\n",
            "\n",
            "Best val auc:  0.7977\n",
            "\n",
            "\n",
            "[[460 199]\n",
            " [ 56 605]]\n",
            "              precision    recall  f1-score   support\n",
            "\n",
            "           0     0.8915    0.6980    0.7830       659\n",
            "           1     0.7525    0.9153    0.8259       661\n",
            "\n",
            "    accuracy                         0.8068      1320\n",
            "   macro avg     0.8220    0.8067    0.8045      1320\n",
            "weighted avg     0.8219    0.8068    0.8045      1320\n",
            "\n",
            "Best val auc:  0.8067\n",
            "\n",
            "\n",
            "[[487 199]\n",
            " [ 64 570]]\n",
            "              precision    recall  f1-score   support\n",
            "\n",
            "           0     0.8838    0.7099    0.7874       686\n",
            "           1     0.7412    0.8991    0.8125       634\n",
            "\n",
            "    accuracy                         0.8008      1320\n",
            "   macro avg     0.8125    0.8045    0.8000      1320\n",
            "weighted avg     0.8153    0.8008    0.7995      1320\n",
            "\n",
            "Best val auc:  0.8045\n",
            "\n",
            "\n",
            "[[491 201]\n",
            " [ 58 570]]\n",
            "              precision    recall  f1-score   support\n",
            "\n",
            "           0     0.8944    0.7095    0.7913       692\n",
            "           1     0.7393    0.9076    0.8149       628\n",
            "\n",
            "    accuracy                         0.8038      1320\n",
            "   macro avg     0.8168    0.8086    0.8031      1320\n",
            "weighted avg     0.8206    0.8038    0.8025      1320\n",
            "\n",
            "Best val auc:  0.8086\n",
            "\n",
            "\n",
            "[[485 187]\n",
            " [ 71 577]]\n",
            "              precision    recall  f1-score   support\n",
            "\n",
            "           0     0.8723    0.7217    0.7899       672\n",
            "           1     0.7552    0.8904    0.8173       648\n",
            "\n",
            "    accuracy                         0.8045      1320\n",
            "   macro avg     0.8138    0.8061    0.8036      1320\n",
            "weighted avg     0.8148    0.8045    0.8033      1320\n",
            "\n",
            "Best val auc:  0.8061\n",
            "\n",
            "\n",
            "[[464 183]\n",
            " [ 72 601]]\n",
            "              precision    recall  f1-score   support\n",
            "\n",
            "           0     0.8657    0.7172    0.7844       647\n",
            "           1     0.7666    0.8930    0.8250       673\n",
            "\n",
            "    accuracy                         0.8068      1320\n",
            "   macro avg     0.8161    0.8051    0.8047      1320\n",
            "weighted avg     0.8152    0.8068    0.8051      1320\n",
            "\n",
            "Best val auc:  0.8051\n",
            "\n",
            "\n",
            "[[443 195]\n",
            " [ 64 618]]\n",
            "              precision    recall  f1-score   support\n",
            "\n",
            "           0     0.8738    0.6944    0.7738       638\n",
            "           1     0.7601    0.9062    0.8268       682\n",
            "\n",
            "    accuracy                         0.8038      1320\n",
            "   macro avg     0.8170    0.8003    0.8003      1320\n",
            "weighted avg     0.8151    0.8038    0.8012      1320\n",
            "\n",
            "Best val auc:  0.8003\n",
            "\n"
          ]
        }
      ]
    },
    {
      "cell_type": "markdown",
      "source": [
        "**Curva ROC para el DecisionTreeClassifier**"
      ],
      "metadata": {
        "id": "llEHd6XF48Ni"
      }
    },
    {
      "cell_type": "code",
      "source": [
        "#Curva ROC Arbol de desición\n",
        "\n",
        "classes = classifier.predict(X_test) \n",
        "ns_probs = [0 for _ in range(len(y_test))]\n",
        "\n",
        "ns_auc = roc_auc_score(y_test, ns_probs,average='weighted')\n",
        "classifier_auc = roc_auc_score(y_test,classes,average='weighted')\n",
        "\n",
        "#aps = average_precision_score(y_test, ns_probs)\n",
        "#print(\"Average_presicion_score \"+str(aps))\n",
        "\n",
        "print('Sin entrenar: ROC AUC=%.3f' % (ns_auc))\n",
        "print('Algoritmo arbol de: ROC AUC=%.3f' % (classifier_auc))\n",
        "classifier_probs = classes[:]\n",
        "ns_fpr, ns_tpr, _ = roc_curve(y_test, ns_probs)\n",
        "pyplot.plot(ns_fpr, ns_tpr, linestyle='--', label='Sin entrenar')\n",
        "classifier_fpr, classifier_tpr, _ = roc_curve(y_test, classifier_probs)\n",
        "print()\n",
        "pyplot.plot(classifier_fpr, classifier_tpr, marker='.', label='Curva arbol de desición')\n",
        "pyplot.xlabel('Tasa de Falsos Positivos')\n",
        "pyplot.ylabel('Tasa de Verdaderos Positivos')\n",
        "pyplot.legend()\n",
        "pyplot.show()\n",
        "print()"
      ],
      "metadata": {
        "colab": {
          "base_uri": "https://localhost:8080/",
          "height": 518
        },
        "id": "4Mw6iYm65Dch",
        "outputId": "e358f415-e1dd-4163-e9fb-09cc73ad188d"
      },
      "execution_count": 7,
      "outputs": [
        {
          "output_type": "stream",
          "name": "stdout",
          "text": [
            "Sin entrenar: ROC AUC=0.500\n",
            "Algoritmo arbol de: ROC AUC=0.800\n",
            "\n"
          ]
        },
        {
          "output_type": "display_data",
          "data": {
            "text/plain": [
              "<Figure size 640x480 with 1 Axes>"
            ],
            "image/png": "[encoded data removed]"
          },
          "metadata": {}
        },
        {
          "output_type": "stream",
          "name": "stdout",
          "text": [
            "\n"
          ]
        }
      ]
    }
  ]
}