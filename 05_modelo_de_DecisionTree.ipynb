{
  "nbformat": 4,
  "nbformat_minor": 0,
  "metadata": {
    "colab": {
      "provenance": [],
      "include_colab_link": true
    },
    "kernelspec": {
      "name": "python3",
      "display_name": "Python 3"
    },
    "language_info": {
      "name": "python"
    }
  },
  "cells": [
    {
      "cell_type": "markdown",
      "metadata": {
        "id": "view-in-github",
        "colab_type": "text"
      },
      "source": [
        "<a href=\"https://colab.research.google.com/github/soyudea/StrokePredictionModel/blob/main/05_modelo_de_DecisionTree.ipynb\" target=\"_parent\"><img src=\"https://colab.research.google.com/assets/colab-badge.svg\" alt=\"Open In Colab\"/></a>"
      ]
    },
    {
      "cell_type": "code",
      "execution_count": 10,
      "metadata": {
        "id": "SYMJ0qECxqhQ"
      },
      "outputs": [],
      "source": [
        "import pandas as pd\n",
        "import numpy as np\n",
        "import math\n",
        "from seaborn import distplot\n",
        "import seaborn as sns\n",
        "import matplotlib.pyplot as plt\n",
        "from sklearn.preprocessing import StandardScaler\n",
        "from sklearn.preprocessing import MinMaxScaler\n",
        "from sklearn.model_selection import KFold\n",
        "from sklearn.metrics import f1_score\n",
        "from sklearn.metrics import confusion_matrix\n",
        "from sklearn.metrics import classification_report\n",
        "from sklearn.pipeline import make_pipeline\n",
        "\n",
        "from sklearn.tree import DecisionTreeClassifier\n",
        "from sklearn.model_selection import train_test_split\n",
        "from sklearn.metrics import median_absolute_error, r2_score, mean_squared_error\n",
        "from matplotlib.patches import split_path_inout\n",
        "from imblearn.over_sampling import RandomOverSampler\n",
        "from sklearn.metrics import average_precision_score\n",
        "from sklearn.metrics import roc_auc_score\n",
        "from sklearn.metrics import roc_curve, auc\n",
        "from matplotlib import pyplot\n",
        "\n",
        "from sklearn.model_selection import GridSearchCV\n",
        "\n",
        "from collections import Counter\n",
        "from sklearn.datasets import make_classification\n",
        "from imblearn.over_sampling import RandomOverSampler\n",
        "\n",
        "from sklearn.decomposition import PCA\n",
        "from sklearn.linear_model import LassoCV\n",
        "from sklearn.metrics import roc_auc_score"
      ]
    },
    {
      "cell_type": "markdown",
      "source": [
        "**1. Cargar del dataset**"
      ],
      "metadata": {
        "id": "3yb_mNb9yffL"
      }
    },
    {
      "cell_type": "markdown",
      "source": [
        "Se carga el dataset final luego del preprocesamiento. Se cargan los archivos Dataset.csv y y.csv"
      ],
      "metadata": {
        "id": "tOdUr1VAW9LJ"
      }
    },
    {
      "cell_type": "code",
      "source": [
        "X = pd.read_csv('Dataset.csv', sep=\",\") \n",
        "y = pd.read_csv('y.csv', sep=\",\") \n",
        "\n",
        "X=X.drop(columns=['Unnamed: 0'])\n",
        "y=y.drop(columns=['Unnamed: 0'])\n"
      ],
      "metadata": {
        "id": "bMMV67jdxxXR"
      },
      "execution_count": 11,
      "outputs": []
    },
    {
      "cell_type": "markdown",
      "source": [
        "**2. Generador de muestras sintéticas**"
      ],
      "metadata": {
        "id": "3wl8bni52jWU"
      }
    },
    {
      "cell_type": "code",
      "source": [
        "pca=PCA(n_components=30) \n",
        "pca.fit(X) #\n",
        "X_pca=pca.transform(X)"
      ],
      "metadata": {
        "id": "IzM0xAV52mZ4"
      },
      "execution_count": 12,
      "outputs": []
    },
    {
      "cell_type": "code",
      "source": [
        "ros = RandomOverSampler(random_state=42, sampling_strategy=1.0)                          \n",
        "Xres, yres = ros.fit_resample(X_pca, y)\n",
        "Xtrain, Xtst, ytrain, ytst = train_test_split(Xres,yres, test_size=0.1) #Se toma el 90 % de los datos para Entrenar\n",
        "print (Xtrain.shape, ytrain.shape, Xtst.shape, ytst.shape)\n",
        "X=Xtrain\n",
        "y=ytrain"
      ],
      "metadata": {
        "colab": {
          "base_uri": "https://localhost:8080/"
        },
        "id": "Tl1xVy1_2vmx",
        "outputId": "0d4c574b-8488-4fd3-e529-1cb57ee4c6c2"
      },
      "execution_count": 13,
      "outputs": [
        {
          "output_type": "stream",
          "name": "stdout",
          "text": [
            "(26409, 30) (26409, 1) (2935, 30) (2935, 1)\n"
          ]
        }
      ]
    },
    {
      "cell_type": "markdown",
      "source": [
        "**3. Cálculo pesos de la clase Parámetro que se usa para minimizar el efecto del desbalance del dataset**"
      ],
      "metadata": {
        "id": "XjTt55rR29bz"
      }
    },
    {
      "cell_type": "code",
      "source": [
        "def dar_peso_clase():\n",
        "  Xtrain, Xtest, ytrain, ytest = train_test_split(X, y, test_size = 0.2, train_size = 0.8, random_state = 17)\n",
        "  Number_Muestras_por_Clase = ytrain.value_counts()\n",
        "  Number_Muestras_por_Clase = Number_Muestras_por_Clase.sort_index(axis = 0, ascending = True)\n",
        "  Numero_de_Clases = len(Number_Muestras_por_Clase.index)\n",
        "  Peso_por_Clase = len(ytrain)/(Numero_de_Clases*Number_Muestras_por_Clase)\n",
        "  return Peso_por_Clase"
      ],
      "metadata": {
        "id": "9sr6Uc_e3AgT"
      },
      "execution_count": 14,
      "outputs": []
    },
    {
      "cell_type": "markdown",
      "source": [
        "**4. Modelo DecisionTreeClassifier https://scikit-learn.org/stable/modules/generated/sklearn.tree.DecisionTreeClassifier.html**"
      ],
      "metadata": {
        "id": "Ve1qYr7S3Orh"
      }
    },
    {
      "cell_type": "code",
      "source": [
        "#Entrenamiento del modelo  DecisionTreeClassifier con el 90% de las muestras\n",
        "#=================================================================================================================\n",
        "kf = KFold(n_splits=20, random_state = True,shuffle=True)\n",
        "\n",
        "preds = []\n",
        "scores = []\n",
        "\n",
        "weight= dar_peso_clase()\n",
        "\n",
        "classifier = DecisionTreeClassifier(criterion='gini', \n",
        "                                    ccp_alpha=0.0000001,\n",
        "                                    min_samples_split=10,\n",
        "                                    class_weight= {0: weight[0], 1: weight[1]},\n",
        "                                    random_state=42,\n",
        "                                    max_features=\"sqrt\",min_impurity_decrease=0.0\n",
        "                                    )  #\"log2\"\n",
        "                                \n",
        "X_test =0\n",
        "y_test =0\n",
        "for train_index, test_index in kf.split(X):\n",
        "\n",
        "    X_train, X_test = X[train_index], X[test_index]  #linea de código para pca\n",
        "    y_train, y_test = y.iloc[train_index], y.iloc[test_index]\n",
        "\n",
        "    #modelo = LassoCV(**model_params)\n",
        "    modelo = classifier.fit(X_train, y_train)\n",
        "    y_pred = modelo.predict(X_test)\n",
        "\n",
        "    print()\n",
        "    print(confusion_matrix(y_test, y_pred))\n",
        "    print(classification_report(y_test, y_pred, digits =4, labels=[0,1]))\n",
        "    preds.append(modelo.predict(X_test))\n",
        "    s = roc_auc_score(y_test, modelo.predict(X_test))\n",
        "    print(f'Best val auc: {s: .4f}')\n",
        "    scores.append(s)\n",
        "    print()"
      ],
      "metadata": {
        "colab": {
          "base_uri": "https://localhost:8080/"
        },
        "id": "KYt_6S2m3Sxb",
        "outputId": "b05c3ef0-3205-47b2-de38-89683da1b906"
      },
      "execution_count": 15,
      "outputs": [
        {
          "output_type": "stream",
          "name": "stdout",
          "text": [
            "\n",
            "[[488 183]\n",
            " [ 66 584]]\n",
            "              precision    recall  f1-score   support\n",
            "\n",
            "           0     0.8809    0.7273    0.7967       671\n",
            "           1     0.7614    0.8985    0.8243       650\n",
            "\n",
            "    accuracy                         0.8115      1321\n",
            "   macro avg     0.8211    0.8129    0.8105      1321\n",
            "weighted avg     0.8221    0.8115    0.8103      1321\n",
            "\n",
            "Best val auc:  0.8129\n",
            "\n",
            "\n",
            "[[461 177]\n",
            " [ 72 611]]\n",
            "              precision    recall  f1-score   support\n",
            "\n",
            "           0     0.8649    0.7226    0.7874       638\n",
            "           1     0.7754    0.8946    0.8307       683\n",
            "\n",
            "    accuracy                         0.8115      1321\n",
            "   macro avg     0.8201    0.8086    0.8090      1321\n",
            "weighted avg     0.8186    0.8115    0.8098      1321\n",
            "\n",
            "Best val auc:  0.8086\n",
            "\n",
            "\n",
            "[[473 188]\n",
            " [ 53 607]]\n",
            "              precision    recall  f1-score   support\n",
            "\n",
            "           0     0.8992    0.7156    0.7970       661\n",
            "           1     0.7635    0.9197    0.8344       660\n",
            "\n",
            "    accuracy                         0.8176      1321\n",
            "   macro avg     0.8314    0.8176    0.8157      1321\n",
            "weighted avg     0.8314    0.8176    0.8157      1321\n",
            "\n",
            "Best val auc:  0.8176\n",
            "\n",
            "\n",
            "[[504 180]\n",
            " [ 66 571]]\n",
            "              precision    recall  f1-score   support\n",
            "\n",
            "           0     0.8842    0.7368    0.8038       684\n",
            "           1     0.7603    0.8964    0.8228       637\n",
            "\n",
            "    accuracy                         0.8138      1321\n",
            "   macro avg     0.8223    0.8166    0.8133      1321\n",
            "weighted avg     0.8245    0.8138    0.8130      1321\n",
            "\n",
            "Best val auc:  0.8166\n",
            "\n",
            "\n",
            "[[473 167]\n",
            " [ 78 603]]\n",
            "              precision    recall  f1-score   support\n",
            "\n",
            "           0     0.8584    0.7391    0.7943       640\n",
            "           1     0.7831    0.8855    0.8312       681\n",
            "\n",
            "    accuracy                         0.8145      1321\n",
            "   macro avg     0.8208    0.8123    0.8127      1321\n",
            "weighted avg     0.8196    0.8145    0.8133      1321\n",
            "\n",
            "Best val auc:  0.8123\n",
            "\n",
            "\n",
            "[[440 221]\n",
            " [ 64 596]]\n",
            "              precision    recall  f1-score   support\n",
            "\n",
            "           0     0.8730    0.6657    0.7554       661\n",
            "           1     0.7295    0.9030    0.8070       660\n",
            "\n",
            "    accuracy                         0.7843      1321\n",
            "   macro avg     0.8013    0.7843    0.7812      1321\n",
            "weighted avg     0.8013    0.7843    0.7812      1321\n",
            "\n",
            "Best val auc:  0.7843\n",
            "\n",
            "\n",
            "[[470 165]\n",
            " [ 89 597]]\n",
            "              precision    recall  f1-score   support\n",
            "\n",
            "           0     0.8408    0.7402    0.7873       635\n",
            "           1     0.7835    0.8703    0.8246       686\n",
            "\n",
            "    accuracy                         0.8077      1321\n",
            "   macro avg     0.8121    0.8052    0.8059      1321\n",
            "weighted avg     0.8110    0.8077    0.8066      1321\n",
            "\n",
            "Best val auc:  0.8052\n",
            "\n",
            "\n",
            "[[463 194]\n",
            " [ 64 600]]\n",
            "              precision    recall  f1-score   support\n",
            "\n",
            "           0     0.8786    0.7047    0.7821       657\n",
            "           1     0.7557    0.9036    0.8230       664\n",
            "\n",
            "    accuracy                         0.8047      1321\n",
            "   macro avg     0.8171    0.8042    0.8026      1321\n",
            "weighted avg     0.8168    0.8047    0.8027      1321\n",
            "\n",
            "Best val auc:  0.8042\n",
            "\n",
            "\n",
            "[[470 205]\n",
            " [ 64 582]]\n",
            "              precision    recall  f1-score   support\n",
            "\n",
            "           0     0.8801    0.6963    0.7775       675\n",
            "           1     0.7395    0.9009    0.8123       646\n",
            "\n",
            "    accuracy                         0.7964      1321\n",
            "   macro avg     0.8098    0.7986    0.7949      1321\n",
            "weighted avg     0.8114    0.7964    0.7945      1321\n",
            "\n",
            "Best val auc:  0.7986\n",
            "\n",
            "\n",
            "[[471 204]\n",
            " [ 73 572]]\n",
            "              precision    recall  f1-score   support\n",
            "\n",
            "           0     0.8658    0.6978    0.7728       675\n",
            "           1     0.7371    0.8868    0.8051       645\n",
            "\n",
            "    accuracy                         0.7902      1320\n",
            "   macro avg     0.8015    0.7923    0.7889      1320\n",
            "weighted avg     0.8029    0.7902    0.7885      1320\n",
            "\n",
            "Best val auc:  0.7923\n",
            "\n",
            "\n",
            "[[496 170]\n",
            " [ 78 576]]\n",
            "              precision    recall  f1-score   support\n",
            "\n",
            "           0     0.8641    0.7447    0.8000       666\n",
            "           1     0.7721    0.8807    0.8229       654\n",
            "\n",
            "    accuracy                         0.8121      1320\n",
            "   macro avg     0.8181    0.8127    0.8114      1320\n",
            "weighted avg     0.8185    0.8121    0.8113      1320\n",
            "\n",
            "Best val auc:  0.8127\n",
            "\n",
            "\n",
            "[[498 185]\n",
            " [ 83 554]]\n",
            "              precision    recall  f1-score   support\n",
            "\n",
            "           0     0.8571    0.7291    0.7880       683\n",
            "           1     0.7497    0.8697    0.8052       637\n",
            "\n",
            "    accuracy                         0.7970      1320\n",
            "   macro avg     0.8034    0.7994    0.7966      1320\n",
            "weighted avg     0.8053    0.7970    0.7963      1320\n",
            "\n",
            "Best val auc:  0.7994\n",
            "\n",
            "\n",
            "[[492 176]\n",
            " [ 71 581]]\n",
            "              precision    recall  f1-score   support\n",
            "\n",
            "           0     0.8739    0.7365    0.7994       668\n",
            "           1     0.7675    0.8911    0.8247       652\n",
            "\n",
            "    accuracy                         0.8129      1320\n",
            "   macro avg     0.8207    0.8138    0.8120      1320\n",
            "weighted avg     0.8213    0.8129    0.8119      1320\n",
            "\n",
            "Best val auc:  0.8138\n",
            "\n",
            "\n",
            "[[467 183]\n",
            " [ 70 600]]\n",
            "              precision    recall  f1-score   support\n",
            "\n",
            "           0     0.8696    0.7185    0.7869       650\n",
            "           1     0.7663    0.8955    0.8259       670\n",
            "\n",
            "    accuracy                         0.8083      1320\n",
            "   macro avg     0.8180    0.8070    0.8064      1320\n",
            "weighted avg     0.8172    0.8083    0.8067      1320\n",
            "\n",
            "Best val auc:  0.8070\n",
            "\n",
            "\n",
            "[[522 179]\n",
            " [ 74 545]]\n",
            "              precision    recall  f1-score   support\n",
            "\n",
            "           0     0.8758    0.7447    0.8049       701\n",
            "           1     0.7528    0.8805    0.8116       619\n",
            "\n",
            "    accuracy                         0.8083      1320\n",
            "   macro avg     0.8143    0.8126    0.8083      1320\n",
            "weighted avg     0.8181    0.8083    0.8081      1320\n",
            "\n",
            "Best val auc:  0.8126\n",
            "\n",
            "\n",
            "[[485 183]\n",
            " [ 71 581]]\n",
            "              precision    recall  f1-score   support\n",
            "\n",
            "           0     0.8723    0.7260    0.7925       668\n",
            "           1     0.7605    0.8911    0.8206       652\n",
            "\n",
            "    accuracy                         0.8076      1320\n",
            "   macro avg     0.8164    0.8086    0.8066      1320\n",
            "weighted avg     0.8171    0.8076    0.8064      1320\n",
            "\n",
            "Best val auc:  0.8086\n",
            "\n",
            "\n",
            "[[460 183]\n",
            " [ 94 583]]\n",
            "              precision    recall  f1-score   support\n",
            "\n",
            "           0     0.8303    0.7154    0.7686       643\n",
            "           1     0.7611    0.8612    0.8080       677\n",
            "\n",
            "    accuracy                         0.7902      1320\n",
            "   macro avg     0.7957    0.7883    0.7883      1320\n",
            "weighted avg     0.7948    0.7902    0.7888      1320\n",
            "\n",
            "Best val auc:  0.7883\n",
            "\n",
            "\n",
            "[[483 186]\n",
            " [ 83 568]]\n",
            "              precision    recall  f1-score   support\n",
            "\n",
            "           0     0.8534    0.7220    0.7822       669\n",
            "           1     0.7533    0.8725    0.8085       651\n",
            "\n",
            "    accuracy                         0.7962      1320\n",
            "   macro avg     0.8033    0.7972    0.7954      1320\n",
            "weighted avg     0.8040    0.7962    0.7952      1320\n",
            "\n",
            "Best val auc:  0.7972\n",
            "\n",
            "\n",
            "[[473 188]\n",
            " [ 64 595]]\n",
            "              precision    recall  f1-score   support\n",
            "\n",
            "           0     0.8808    0.7156    0.7896       661\n",
            "           1     0.7599    0.9029    0.8252       659\n",
            "\n",
            "    accuracy                         0.8091      1320\n",
            "   macro avg     0.8204    0.8092    0.8074      1320\n",
            "weighted avg     0.8205    0.8091    0.8074      1320\n",
            "\n",
            "Best val auc:  0.8092\n",
            "\n",
            "\n",
            "[[499 168]\n",
            " [ 94 559]]\n",
            "              precision    recall  f1-score   support\n",
            "\n",
            "           0     0.8415    0.7481    0.7921       667\n",
            "           1     0.7689    0.8560    0.8101       653\n",
            "\n",
            "    accuracy                         0.8015      1320\n",
            "   macro avg     0.8052    0.8021    0.8011      1320\n",
            "weighted avg     0.8056    0.8015    0.8010      1320\n",
            "\n",
            "Best val auc:  0.8021\n",
            "\n"
          ]
        }
      ]
    },
    {
      "cell_type": "markdown",
      "source": [
        "**Curva ROC para el DecisionTreeClassifier**"
      ],
      "metadata": {
        "id": "llEHd6XF48Ni"
      }
    },
    {
      "cell_type": "code",
      "source": [
        "#Curva ROC Arbol de desición\n",
        "\n",
        "classes = classifier.predict(X_test) \n",
        "ns_probs = [0 for _ in range(len(y_test))]\n",
        "\n",
        "ns_auc = roc_auc_score(y_test, ns_probs,average='weighted')\n",
        "classifier_auc = roc_auc_score(y_test,classes,average='weighted')\n",
        "\n",
        "#aps = average_precision_score(y_test, ns_probs)\n",
        "#print(\"Average_presicion_score \"+str(aps))\n",
        "\n",
        "print('Sin entrenar: ROC AUC=%.3f' % (ns_auc))\n",
        "print('Algoritmo arbol de: ROC AUC=%.3f' % (classifier_auc))\n",
        "classifier_probs = classes[:]\n",
        "ns_fpr, ns_tpr, _ = roc_curve(y_test, ns_probs)\n",
        "pyplot.plot(ns_fpr, ns_tpr, linestyle='--', label='Sin entrenar')\n",
        "classifier_fpr, classifier_tpr, _ = roc_curve(y_test, classifier_probs)\n",
        "print()\n",
        "pyplot.plot(classifier_fpr, classifier_tpr, marker='.', label='Curva arbol de desición')\n",
        "pyplot.xlabel('Tasa de Falsos Positivos')\n",
        "pyplot.ylabel('Tasa de Verdaderos Positivos')\n",
        "pyplot.legend()\n",
        "pyplot.show()\n",
        "print()"
      ],
      "metadata": {
        "colab": {
          "base_uri": "https://localhost:8080/",
          "height": 518
        },
        "id": "4Mw6iYm65Dch",
        "outputId": "f57e3d29-aba2-4c01-be3f-8c8446c91d1b"
      },
      "execution_count": 16,
      "outputs": [
        {
          "output_type": "stream",
          "name": "stdout",
          "text": [
            "Sin entrenar: ROC AUC=0.500\n",
            "Algoritmo arbol de: ROC AUC=0.802\n",
            "\n"
          ]
        },
        {
          "output_type": "display_data",
          "data": {
            "text/plain": [
              "<Figure size 640x480 with 1 Axes>"
            ],
            "image/png": "[encoded data removed]"
          },
          "metadata": {}
        },
        {
          "output_type": "stream",
          "name": "stdout",
          "text": [
            "\n"
          ]
        }
      ]
    }
  ]
}