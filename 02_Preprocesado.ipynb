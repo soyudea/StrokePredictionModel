{
  "nbformat": 4,
  "nbformat_minor": 0,
  "metadata": {
    "colab": {
      "provenance": [],
      "include_colab_link": true
    },
    "kernelspec": {
      "name": "python3",
      "display_name": "Python 3"
    },
    "language_info": {
      "name": "python"
    }
  },
  "cells": [
    {
      "cell_type": "markdown",
      "metadata": {
        "id": "view-in-github",
        "colab_type": "text"
      },
      "source": [
        "<a href=\"https://colab.research.google.com/github/soyudea/StrokePredictionModel/blob/main/02_Preprocesado.ipynb\" target=\"_parent\"><img src=\"https://colab.research.google.com/assets/colab-badge.svg\" alt=\"Open In Colab\"/></a>"
      ]
    },
    {
      "cell_type": "markdown",
      "source": [
        "**Librerías**"
      ],
      "metadata": {
        "id": "GAujrXdqbgCq"
      }
    },
    {
      "cell_type": "code",
      "source": [
        "import pandas as pd\n",
        "import numpy as np\n",
        "import math"
      ],
      "metadata": {
        "id": "lPprzR0Pbjta"
      },
      "execution_count": 70,
      "outputs": []
    },
    {
      "cell_type": "markdown",
      "source": [
        "**Carga del datase**t https://www.kaggle.com/competitions/playground-series-s3e2/data?select=train.csv"
      ],
      "metadata": {
        "id": "DXJ-0AF8bsqp"
      }
    },
    {
      "cell_type": "markdown",
      "source": [
        "**1. Lectura y concatenación de los Dataset**"
      ],
      "metadata": {
        "id": "jOdANjqRcCrK"
      }
    },
    {
      "cell_type": "code",
      "source": [
        "#Se carga dataset obtenido de Kaggle de competencia “Playground Series - Season 3, Episode 2” \n",
        "#disponible en el siguiente enlace: https://www.kaggle.com/competitions/playground-series-s3e2/ \n",
        "\n",
        "datos = pd.read_csv('train.csv', sep=\",\") #pendiente lo del test.csv\n",
        "df =datos.copy()\n",
        "df"
      ],
      "metadata": {
        "colab": {
          "base_uri": "https://localhost:8080/",
          "height": 485
        },
        "id": "b2qqwmEob3-B",
        "outputId": "6ba76672-7d45-4012-9dda-6b4566e8e7f2"
      },
      "execution_count": 71,
      "outputs": [
        {
          "output_type": "execute_result",
          "data": {
            "text/plain": [
              "          id  gender   age  hypertension  heart_disease ever_married  \\\n",
              "0          0    Male  28.0             0              0          Yes   \n",
              "1          1    Male  33.0             0              0          Yes   \n",
              "2          2  Female  42.0             0              0          Yes   \n",
              "3          3    Male  56.0             0              0          Yes   \n",
              "4          4  Female  24.0             0              0           No   \n",
              "...      ...     ...   ...           ...            ...          ...   \n",
              "15299  15299  Female  22.0             0              0           No   \n",
              "15300  15300  Female  46.0             1              0          Yes   \n",
              "15301  15301  Female  75.0             0              0          Yes   \n",
              "15302  15302    Male  46.0             0              0          Yes   \n",
              "15303  15303  Female  14.0             0              0           No   \n",
              "\n",
              "           work_type Residence_type  avg_glucose_level   bmi   smoking_status  \\\n",
              "0            Private          Urban              79.53  31.1     never smoked   \n",
              "1            Private          Rural              78.44  23.9  formerly smoked   \n",
              "2            Private          Rural             103.00  40.3          Unknown   \n",
              "3            Private          Urban              64.87  28.8     never smoked   \n",
              "4            Private          Rural              73.36  28.8     never smoked   \n",
              "...              ...            ...                ...   ...              ...   \n",
              "15299       Govt_job          Urban              72.63  19.5     never smoked   \n",
              "15300        Private          Urban             101.19  32.1     never smoked   \n",
              "15301  Self-employed          Urban              87.69  26.2     never smoked   \n",
              "15302        Private          Rural             101.13  22.5          Unknown   \n",
              "15303        Private          Rural              85.12  24.7     never smoked   \n",
              "\n",
              "       stroke  \n",
              "0           0  \n",
              "1           0  \n",
              "2           0  \n",
              "3           0  \n",
              "4           0  \n",
              "...       ...  \n",
              "15299       0  \n",
              "15300       0  \n",
              "15301       0  \n",
              "15302       0  \n",
              "15303       0  \n",
              "\n",
              "[15304 rows x 12 columns]"
            ],
            "text/html": [
              "\n",
              "  <div id=\"df-ef4dd022-c797-4600-86c8-dbf58c803a4b\">\n",
              "    <div class=\"colab-df-container\">\n",
              "      <div>\n",
              "<style scoped>\n",
              "    .dataframe tbody tr th:only-of-type {\n",
              "        vertical-align: middle;\n",
              "    }\n",
              "\n",
              "    .dataframe tbody tr th {\n",
              "        vertical-align: top;\n",
              "    }\n",
              "\n",
              "    .dataframe thead th {\n",
              "        text-align: right;\n",
              "    }\n",
              "</style>\n",
              "<table border=\"1\" class=\"dataframe\">\n",
              "  <thead>\n",
              "    <tr style=\"text-align: right;\">\n",
              "      <th></th>\n",
              "      <th>id</th>\n",
              "      <th>gender</th>\n",
              "      <th>age</th>\n",
              "      <th>hypertension</th>\n",
              "      <th>heart_disease</th>\n",
              "      <th>ever_married</th>\n",
              "      <th>work_type</th>\n",
              "      <th>Residence_type</th>\n",
              "      <th>avg_glucose_level</th>\n",
              "      <th>bmi</th>\n",
              "      <th>smoking_status</th>\n",
              "      <th>stroke</th>\n",
              "    </tr>\n",
              "  </thead>\n",
              "  <tbody>\n",
              "    <tr>\n",
              "      <th>0</th>\n",
              "      <td>0</td>\n",
              "      <td>Male</td>\n",
              "      <td>28.0</td>\n",
              "      <td>0</td>\n",
              "      <td>0</td>\n",
              "      <td>Yes</td>\n",
              "      <td>Private</td>\n",
              "      <td>Urban</td>\n",
              "      <td>79.53</td>\n",
              "      <td>31.1</td>\n",
              "      <td>never smoked</td>\n",
              "      <td>0</td>\n",
              "    </tr>\n",
              "    <tr>\n",
              "      <th>1</th>\n",
              "      <td>1</td>\n",
              "      <td>Male</td>\n",
              "      <td>33.0</td>\n",
              "      <td>0</td>\n",
              "      <td>0</td>\n",
              "      <td>Yes</td>\n",
              "      <td>Private</td>\n",
              "      <td>Rural</td>\n",
              "      <td>78.44</td>\n",
              "      <td>23.9</td>\n",
              "      <td>formerly smoked</td>\n",
              "      <td>0</td>\n",
              "    </tr>\n",
              "    <tr>\n",
              "      <th>2</th>\n",
              "      <td>2</td>\n",
              "      <td>Female</td>\n",
              "      <td>42.0</td>\n",
              "      <td>0</td>\n",
              "      <td>0</td>\n",
              "      <td>Yes</td>\n",
              "      <td>Private</td>\n",
              "      <td>Rural</td>\n",
              "      <td>103.00</td>\n",
              "      <td>40.3</td>\n",
              "      <td>Unknown</td>\n",
              "      <td>0</td>\n",
              "    </tr>\n",
              "    <tr>\n",
              "      <th>3</th>\n",
              "      <td>3</td>\n",
              "      <td>Male</td>\n",
              "      <td>56.0</td>\n",
              "      <td>0</td>\n",
              "      <td>0</td>\n",
              "      <td>Yes</td>\n",
              "      <td>Private</td>\n",
              "      <td>Urban</td>\n",
              "      <td>64.87</td>\n",
              "      <td>28.8</td>\n",
              "      <td>never smoked</td>\n",
              "      <td>0</td>\n",
              "    </tr>\n",
              "    <tr>\n",
              "      <th>4</th>\n",
              "      <td>4</td>\n",
              "      <td>Female</td>\n",
              "      <td>24.0</td>\n",
              "      <td>0</td>\n",
              "      <td>0</td>\n",
              "      <td>No</td>\n",
              "      <td>Private</td>\n",
              "      <td>Rural</td>\n",
              "      <td>73.36</td>\n",
              "      <td>28.8</td>\n",
              "      <td>never smoked</td>\n",
              "      <td>0</td>\n",
              "    </tr>\n",
              "    <tr>\n",
              "      <th>...</th>\n",
              "      <td>...</td>\n",
              "      <td>...</td>\n",
              "      <td>...</td>\n",
              "      <td>...</td>\n",
              "      <td>...</td>\n",
              "      <td>...</td>\n",
              "      <td>...</td>\n",
              "      <td>...</td>\n",
              "      <td>...</td>\n",
              "      <td>...</td>\n",
              "      <td>...</td>\n",
              "      <td>...</td>\n",
              "    </tr>\n",
              "    <tr>\n",
              "      <th>15299</th>\n",
              "      <td>15299</td>\n",
              "      <td>Female</td>\n",
              "      <td>22.0</td>\n",
              "      <td>0</td>\n",
              "      <td>0</td>\n",
              "      <td>No</td>\n",
              "      <td>Govt_job</td>\n",
              "      <td>Urban</td>\n",
              "      <td>72.63</td>\n",
              "      <td>19.5</td>\n",
              "      <td>never smoked</td>\n",
              "      <td>0</td>\n",
              "    </tr>\n",
              "    <tr>\n",
              "      <th>15300</th>\n",
              "      <td>15300</td>\n",
              "      <td>Female</td>\n",
              "      <td>46.0</td>\n",
              "      <td>1</td>\n",
              "      <td>0</td>\n",
              "      <td>Yes</td>\n",
              "      <td>Private</td>\n",
              "      <td>Urban</td>\n",
              "      <td>101.19</td>\n",
              "      <td>32.1</td>\n",
              "      <td>never smoked</td>\n",
              "      <td>0</td>\n",
              "    </tr>\n",
              "    <tr>\n",
              "      <th>15301</th>\n",
              "      <td>15301</td>\n",
              "      <td>Female</td>\n",
              "      <td>75.0</td>\n",
              "      <td>0</td>\n",
              "      <td>0</td>\n",
              "      <td>Yes</td>\n",
              "      <td>Self-employed</td>\n",
              "      <td>Urban</td>\n",
              "      <td>87.69</td>\n",
              "      <td>26.2</td>\n",
              "      <td>never smoked</td>\n",
              "      <td>0</td>\n",
              "    </tr>\n",
              "    <tr>\n",
              "      <th>15302</th>\n",
              "      <td>15302</td>\n",
              "      <td>Male</td>\n",
              "      <td>46.0</td>\n",
              "      <td>0</td>\n",
              "      <td>0</td>\n",
              "      <td>Yes</td>\n",
              "      <td>Private</td>\n",
              "      <td>Rural</td>\n",
              "      <td>101.13</td>\n",
              "      <td>22.5</td>\n",
              "      <td>Unknown</td>\n",
              "      <td>0</td>\n",
              "    </tr>\n",
              "    <tr>\n",
              "      <th>15303</th>\n",
              "      <td>15303</td>\n",
              "      <td>Female</td>\n",
              "      <td>14.0</td>\n",
              "      <td>0</td>\n",
              "      <td>0</td>\n",
              "      <td>No</td>\n",
              "      <td>Private</td>\n",
              "      <td>Rural</td>\n",
              "      <td>85.12</td>\n",
              "      <td>24.7</td>\n",
              "      <td>never smoked</td>\n",
              "      <td>0</td>\n",
              "    </tr>\n",
              "  </tbody>\n",
              "</table>\n",
              "<p>15304 rows × 12 columns</p>\n",
              "</div>\n",
              "      <button class=\"colab-df-convert\" onclick=\"convertToInteractive('df-ef4dd022-c797-4600-86c8-dbf58c803a4b')\"\n",
              "              title=\"Convert this dataframe to an interactive table.\"\n",
              "              style=\"display:none;\">\n",
              "        \n",
              "  <svg xmlns=\"http://www.w3.org/2000/svg\" height=\"24px\"viewBox=\"0 0 24 24\"\n",
              "       width=\"24px\">\n",
              "    <path d=\"M0 0h24v24H0V0z\" fill=\"none\"/>\n",
              "    <path d=\"M18.56 5.44l.94 2.06.94-2.06 2.06-.94-2.06-.94-.94-2.06-.94 2.06-2.06.94zm-11 1L8.5 8.5l.94-2.06 2.06-.94-2.06-.94L8.5 2.5l-.94 2.06-2.06.94zm10 10l.94 2.06.94-2.06 2.06-.94-2.06-.94-.94-2.06-.94 2.06-2.06.94z\"/><path d=\"M17.41 7.96l-1.37-1.37c-.4-.4-.92-.59-1.43-.59-.52 0-1.04.2-1.43.59L10.3 9.45l-7.72 7.72c-.78.78-.78 2.05 0 2.83L4 21.41c.39.39.9.59 1.41.59.51 0 1.02-.2 1.41-.59l7.78-7.78 2.81-2.81c.8-.78.8-2.07 0-2.86zM5.41 20L4 18.59l7.72-7.72 1.47 1.35L5.41 20z\"/>\n",
              "  </svg>\n",
              "      </button>\n",
              "      \n",
              "  <style>\n",
              "    .colab-df-container {\n",
              "      display:flex;\n",
              "      flex-wrap:wrap;\n",
              "      gap: 12px;\n",
              "    }\n",
              "\n",
              "    .colab-df-convert {\n",
              "      background-color: #E8F0FE;\n",
              "      border: none;\n",
              "      border-radius: 50%;\n",
              "      cursor: pointer;\n",
              "      display: none;\n",
              "      fill: #1967D2;\n",
              "      height: 32px;\n",
              "      padding: 0 0 0 0;\n",
              "      width: 32px;\n",
              "    }\n",
              "\n",
              "    .colab-df-convert:hover {\n",
              "      background-color: #E2EBFA;\n",
              "      box-shadow: 0px 1px 2px rgba(60, 64, 67, 0.3), 0px 1px 3px 1px rgba(60, 64, 67, 0.15);\n",
              "      fill: #174EA6;\n",
              "    }\n",
              "\n",
              "    [theme=dark] .colab-df-convert {\n",
              "      background-color: #3B4455;\n",
              "      fill: #D2E3FC;\n",
              "    }\n",
              "\n",
              "    [theme=dark] .colab-df-convert:hover {\n",
              "      background-color: #434B5C;\n",
              "      box-shadow: 0px 1px 3px 1px rgba(0, 0, 0, 0.15);\n",
              "      filter: drop-shadow(0px 1px 2px rgba(0, 0, 0, 0.3));\n",
              "      fill: #FFFFFF;\n",
              "    }\n",
              "  </style>\n",
              "\n",
              "      <script>\n",
              "        const buttonEl =\n",
              "          document.querySelector('#df-ef4dd022-c797-4600-86c8-dbf58c803a4b button.colab-df-convert');\n",
              "        buttonEl.style.display =\n",
              "          google.colab.kernel.accessAllowed ? 'block' : 'none';\n",
              "\n",
              "        async function convertToInteractive(key) {\n",
              "          const element = document.querySelector('#df-ef4dd022-c797-4600-86c8-dbf58c803a4b');\n",
              "          const dataTable =\n",
              "            await google.colab.kernel.invokeFunction('convertToInteractive',\n",
              "                                                     [key], {});\n",
              "          if (!dataTable) return;\n",
              "\n",
              "          const docLinkHtml = 'Like what you see? Visit the ' +\n",
              "            '<a target=\"_blank\" href=https://colab.research.google.com/notebooks/data_table.ipynb>data table notebook</a>'\n",
              "            + ' to learn more about interactive tables.';\n",
              "          element.innerHTML = '';\n",
              "          dataTable['output_type'] = 'display_data';\n",
              "          await google.colab.output.renderOutput(dataTable, element);\n",
              "          const docLink = document.createElement('div');\n",
              "          docLink.innerHTML = docLinkHtml;\n",
              "          element.appendChild(docLink);\n",
              "        }\n",
              "      </script>\n",
              "    </div>\n",
              "  </div>\n",
              "  "
            ]
          },
          "metadata": {},
          "execution_count": 71
        }
      ]
    },
    {
      "cell_type": "markdown",
      "source": [
        "**2. Se agregan valores nulos al 5 % de las muestras en los campos age, avg_glucose_level**"
      ],
      "metadata": {
        "id": "_nONT-UrcRdL"
      }
    },
    {
      "cell_type": "code",
      "source": [
        "lista=[]\n",
        "porc_nulos =int(np.shape(df)[0]*5/100)   #Calculo de porcentaje de datos nulos\n",
        "rango_df = np.shape(df)[0]\n",
        "\n",
        "for i in range(porc_nulos):\n",
        "    num_aleatprio = np.random.randint(rango_df) \n",
        "    lista.append(num_aleatprio)\n",
        "\n",
        "for i in lista:\n",
        "    df.at[i, \"age\"] = np.nan\n",
        "\n",
        "lista=[]\n",
        "rango_df = np.shape(df)[0]\n",
        "\n",
        "for i in range(porc_nulos):\n",
        "    num_aleatprio = np.random.randint(rango_df) \n",
        "    lista.append(num_aleatprio)\n",
        "\n",
        "for i in lista:\n",
        "    df.at[i, \"avg_glucose_level\"] = np.nan"
      ],
      "metadata": {
        "id": "4JvHNVqLcY1h"
      },
      "execution_count": 72,
      "outputs": []
    },
    {
      "cell_type": "code",
      "source": [
        "df.info()"
      ],
      "metadata": {
        "colab": {
          "base_uri": "https://localhost:8080/"
        },
        "id": "WA5pnhaBGD8d",
        "outputId": "15638655-fdea-47f1-87d6-c2451def5082"
      },
      "execution_count": 73,
      "outputs": [
        {
          "output_type": "stream",
          "name": "stdout",
          "text": [
            "<class 'pandas.core.frame.DataFrame'>\n",
            "RangeIndex: 15304 entries, 0 to 15303\n",
            "Data columns (total 12 columns):\n",
            " #   Column             Non-Null Count  Dtype  \n",
            "---  ------             --------------  -----  \n",
            " 0   id                 15304 non-null  int64  \n",
            " 1   gender             15304 non-null  object \n",
            " 2   age                14564 non-null  float64\n",
            " 3   hypertension       15304 non-null  int64  \n",
            " 4   heart_disease      15304 non-null  int64  \n",
            " 5   ever_married       15304 non-null  object \n",
            " 6   work_type          15304 non-null  object \n",
            " 7   Residence_type     15304 non-null  object \n",
            " 8   avg_glucose_level  14553 non-null  float64\n",
            " 9   bmi                15304 non-null  float64\n",
            " 10  smoking_status     15304 non-null  object \n",
            " 11  stroke             15304 non-null  int64  \n",
            "dtypes: float64(3), int64(4), object(5)\n",
            "memory usage: 1.4+ MB\n"
          ]
        }
      ]
    },
    {
      "cell_type": "markdown",
      "source": [
        "**2.1 Se verifican presencia de valores nules para gestionar**"
      ],
      "metadata": {
        "id": "VtHKECb2cmmp"
      }
    },
    {
      "cell_type": "code",
      "source": [
        "df.isna().sum()"
      ],
      "metadata": {
        "colab": {
          "base_uri": "https://localhost:8080/"
        },
        "id": "H3t1A3FVcpFG",
        "outputId": "6230bc8b-17a6-4b0e-a957-49ec2c33a345"
      },
      "execution_count": 74,
      "outputs": [
        {
          "output_type": "execute_result",
          "data": {
            "text/plain": [
              "id                     0\n",
              "gender                 0\n",
              "age                  740\n",
              "hypertension           0\n",
              "heart_disease          0\n",
              "ever_married           0\n",
              "work_type              0\n",
              "Residence_type         0\n",
              "avg_glucose_level    751\n",
              "bmi                    0\n",
              "smoking_status         0\n",
              "stroke                 0\n",
              "dtype: int64"
            ]
          },
          "metadata": {},
          "execution_count": 74
        }
      ]
    },
    {
      "cell_type": "markdown",
      "source": [
        "**3. Tratamiento de datos Nulos**"
      ],
      "metadata": {
        "id": "-obt_oMadNLj"
      }
    },
    {
      "cell_type": "markdown",
      "source": [
        "**3.1 Se agregan valores promedios a la caracterista edad**"
      ],
      "metadata": {
        "id": "ueBUgAcOdhAz"
      }
    },
    {
      "cell_type": "code",
      "source": [
        "mean_age = df['age'].mean().astype(int) #Calculo media de las edades\n",
        "\n",
        "for i in range(len(df)):\n",
        "    if math. isnan(df.at[i, \"age\"]):\n",
        "       df.at[i, \"age\"] = mean_age\n",
        "\n",
        "df['age'] = df['age'].astype('int64') "
      ],
      "metadata": {
        "id": "FeMMQ4KWdsWs"
      },
      "execution_count": 75,
      "outputs": []
    },
    {
      "cell_type": "markdown",
      "source": [
        "**3.2 Se agregan valores promedios a la caracterista avg_glucose_level**"
      ],
      "metadata": {
        "id": "LY1dBJIyGpdY"
      }
    },
    {
      "cell_type": "code",
      "source": [
        "mean_avg_glucose_level = df['avg_glucose_level'].mean().astype(int) #Calculo media de las glucosa\n",
        "\n",
        "for i in range(len(df)):\n",
        "    if math. isnan(df.at[i, \"avg_glucose_level\"]):\n",
        "       df.at[i, \"avg_glucose_level\"] = mean_avg_glucose_level"
      ],
      "metadata": {
        "id": "06eFkOr9d090"
      },
      "execution_count": 76,
      "outputs": []
    },
    {
      "cell_type": "markdown",
      "source": [
        "**3.3 Estado final**"
      ],
      "metadata": {
        "id": "pX7IhUSKd8k6"
      }
    },
    {
      "cell_type": "code",
      "source": [
        "df.info()"
      ],
      "metadata": {
        "colab": {
          "base_uri": "https://localhost:8080/"
        },
        "id": "P9nTn9WEeK9h",
        "outputId": "60142528-2dab-4934-fec6-23dd85071762"
      },
      "execution_count": 77,
      "outputs": [
        {
          "output_type": "stream",
          "name": "stdout",
          "text": [
            "<class 'pandas.core.frame.DataFrame'>\n",
            "RangeIndex: 15304 entries, 0 to 15303\n",
            "Data columns (total 12 columns):\n",
            " #   Column             Non-Null Count  Dtype  \n",
            "---  ------             --------------  -----  \n",
            " 0   id                 15304 non-null  int64  \n",
            " 1   gender             15304 non-null  object \n",
            " 2   age                15304 non-null  int64  \n",
            " 3   hypertension       15304 non-null  int64  \n",
            " 4   heart_disease      15304 non-null  int64  \n",
            " 5   ever_married       15304 non-null  object \n",
            " 6   work_type          15304 non-null  object \n",
            " 7   Residence_type     15304 non-null  object \n",
            " 8   avg_glucose_level  15304 non-null  float64\n",
            " 9   bmi                15304 non-null  float64\n",
            " 10  smoking_status     15304 non-null  object \n",
            " 11  stroke             15304 non-null  int64  \n",
            "dtypes: float64(2), int64(5), object(5)\n",
            "memory usage: 1.4+ MB\n"
          ]
        }
      ]
    },
    {
      "cell_type": "code",
      "source": [
        "df.isnull().sum()"
      ],
      "metadata": {
        "colab": {
          "base_uri": "https://localhost:8080/"
        },
        "id": "4EbxFKrDeQgi",
        "outputId": "65c52686-0300-46e3-af09-6d6d9d635185"
      },
      "execution_count": 78,
      "outputs": [
        {
          "output_type": "execute_result",
          "data": {
            "text/plain": [
              "id                   0\n",
              "gender               0\n",
              "age                  0\n",
              "hypertension         0\n",
              "heart_disease        0\n",
              "ever_married         0\n",
              "work_type            0\n",
              "Residence_type       0\n",
              "avg_glucose_level    0\n",
              "bmi                  0\n",
              "smoking_status       0\n",
              "stroke               0\n",
              "dtype: int64"
            ]
          },
          "metadata": {},
          "execution_count": 78
        }
      ]
    },
    {
      "cell_type": "markdown",
      "source": [
        "**4. Discretización de las variables 'age', 'avge_glucose_level', 'bmi'**\n",
        "\n"
      ],
      "metadata": {
        "id": "JFqAWmwmeUop"
      }
    },
    {
      "cell_type": "code",
      "source": [
        "df.shape"
      ],
      "metadata": {
        "colab": {
          "base_uri": "https://localhost:8080/"
        },
        "id": "MWEo0eLqH97h",
        "outputId": "d1132641-c2c2-407f-e132-13347341ed70"
      },
      "execution_count": 79,
      "outputs": [
        {
          "output_type": "execute_result",
          "data": {
            "text/plain": [
              "(15304, 12)"
            ]
          },
          "metadata": {},
          "execution_count": 79
        }
      ]
    },
    {
      "cell_type": "markdown",
      "source": [
        "**4.1 Variable edad**"
      ],
      "metadata": {
        "id": "f3SJbQjGIEXd"
      }
    },
    {
      "cell_type": "code",
      "source": [
        "edades = pd.cut(df['age'], bins = [0,10,20,40,np.inf], labels =['niño','joven','adulto','mayor'], include_lowest=True, retbins = True)\n",
        "df['new_age'] = list(edades[0]) "
      ],
      "metadata": {
        "id": "AvCheFCCebD5"
      },
      "execution_count": 80,
      "outputs": []
    },
    {
      "cell_type": "markdown",
      "source": [
        "**4.2 Variable nivel glucosa**"
      ],
      "metadata": {
        "id": "Zyz-8ABMHqvZ"
      }
    },
    {
      "cell_type": "code",
      "source": [
        "glucosa = pd.cut(df['avg_glucose_level'], bins = [0,100,125,np.inf], labels = ['normal', 'prediabetico','diabetico'], include_lowest=True, retbins=True)\n",
        "df[\"avg_glucose\"] = list(glucosa[0])\n"
      ],
      "metadata": {
        "id": "lASdGMi8HqWf"
      },
      "execution_count": 81,
      "outputs": []
    },
    {
      "cell_type": "markdown",
      "source": [
        "**4.3 Variable índice de masa corporal BMI**"
      ],
      "metadata": {
        "id": "usye1AlJH4yj"
      }
    },
    {
      "cell_type": "code",
      "source": [
        "im = pd.cut(df['bmi'], bins = [18.5,24.9,25,29.9,np.inf], labels = ['low_weight', 'Healthy_weight','overweight','obesity'], include_lowest=True, retbins=True)\n",
        "df['bmi_range'] = list(im[0])"
      ],
      "metadata": {
        "id": "A7tv9mn5H5L5"
      },
      "execution_count": 82,
      "outputs": []
    },
    {
      "cell_type": "code",
      "source": [
        "df.shape"
      ],
      "metadata": {
        "colab": {
          "base_uri": "https://localhost:8080/"
        },
        "id": "4jrtEL00Ijbe",
        "outputId": "06061bad-b54f-46eb-e1ac-cc2f79a814db"
      },
      "execution_count": 83,
      "outputs": [
        {
          "output_type": "execute_result",
          "data": {
            "text/plain": [
              "(15304, 15)"
            ]
          },
          "metadata": {},
          "execution_count": 83
        }
      ]
    },
    {
      "cell_type": "code",
      "source": [
        "df.info()"
      ],
      "metadata": {
        "colab": {
          "base_uri": "https://localhost:8080/"
        },
        "id": "WzO643YxJWNU",
        "outputId": "c8a0f1d1-2aba-4546-d20e-9e2ecae96f0c"
      },
      "execution_count": 84,
      "outputs": [
        {
          "output_type": "stream",
          "name": "stdout",
          "text": [
            "<class 'pandas.core.frame.DataFrame'>\n",
            "RangeIndex: 15304 entries, 0 to 15303\n",
            "Data columns (total 15 columns):\n",
            " #   Column             Non-Null Count  Dtype  \n",
            "---  ------             --------------  -----  \n",
            " 0   id                 15304 non-null  int64  \n",
            " 1   gender             15304 non-null  object \n",
            " 2   age                15304 non-null  int64  \n",
            " 3   hypertension       15304 non-null  int64  \n",
            " 4   heart_disease      15304 non-null  int64  \n",
            " 5   ever_married       15304 non-null  object \n",
            " 6   work_type          15304 non-null  object \n",
            " 7   Residence_type     15304 non-null  object \n",
            " 8   avg_glucose_level  15304 non-null  float64\n",
            " 9   bmi                15304 non-null  float64\n",
            " 10  smoking_status     15304 non-null  object \n",
            " 11  stroke             15304 non-null  int64  \n",
            " 12  new_age            15304 non-null  object \n",
            " 13  avg_glucose        15304 non-null  object \n",
            " 14  bmi_range          14335 non-null  object \n",
            "dtypes: float64(2), int64(5), object(8)\n",
            "memory usage: 1.8+ MB\n"
          ]
        }
      ]
    },
    {
      "cell_type": "markdown",
      "source": [
        "**5. Transformación del dataset, de variables categoricas a númericas**"
      ],
      "metadata": {
        "id": "0rqqF4VLe7_E"
      }
    },
    {
      "cell_type": "code",
      "source": [
        "var_numericas = df.drop([\"id\",\"avg_glucose_level\",\"age\",\"bmi\",\"new_age\",\"avg_glucose\",\"bmi_range\",\"gender\",\"ever_married\",\"work_type\",\"Residence_type\",\"smoking_status\", \"bmi_range\"],axis=1)\n",
        "vcategoricas=df.filter([\"new_age\",\"avg_glucose\",\"bmi_range\",\"gender\",\"ever_married\",\"work_type\",\"Residence_type\",\"smoking_status\", \"bmi_range\"]) \n",
        "cat_numericas=pd.get_dummies(vcategoricas,drop_first=False) \n",
        "df=pd.concat([cat_numericas,var_numericas],axis=1)\n"
      ],
      "metadata": {
        "id": "-KA_8ewDJuXV"
      },
      "execution_count": 85,
      "outputs": []
    },
    {
      "cell_type": "code",
      "source": [
        "df.info()"
      ],
      "metadata": {
        "colab": {
          "base_uri": "https://localhost:8080/"
        },
        "id": "wA8qJfe9KF-c",
        "outputId": "0055d064-dc60-408d-e9a3-eba92c19ce06"
      },
      "execution_count": 86,
      "outputs": [
        {
          "output_type": "stream",
          "name": "stdout",
          "text": [
            "<class 'pandas.core.frame.DataFrame'>\n",
            "RangeIndex: 15304 entries, 0 to 15303\n",
            "Data columns (total 34 columns):\n",
            " #   Column                          Non-Null Count  Dtype\n",
            "---  ------                          --------------  -----\n",
            " 0   new_age_adulto                  15304 non-null  uint8\n",
            " 1   new_age_joven                   15304 non-null  uint8\n",
            " 2   new_age_mayor                   15304 non-null  uint8\n",
            " 3   new_age_niño                    15304 non-null  uint8\n",
            " 4   avg_glucose_diabetico           15304 non-null  uint8\n",
            " 5   avg_glucose_normal              15304 non-null  uint8\n",
            " 6   avg_glucose_prediabetico        15304 non-null  uint8\n",
            " 7   bmi_range_Healthy_weight        15304 non-null  uint8\n",
            " 8   bmi_range_low_weight            15304 non-null  uint8\n",
            " 9   bmi_range_obesity               15304 non-null  uint8\n",
            " 10  bmi_range_overweight            15304 non-null  uint8\n",
            " 11  gender_Female                   15304 non-null  uint8\n",
            " 12  gender_Male                     15304 non-null  uint8\n",
            " 13  gender_Other                    15304 non-null  uint8\n",
            " 14  ever_married_No                 15304 non-null  uint8\n",
            " 15  ever_married_Yes                15304 non-null  uint8\n",
            " 16  work_type_Govt_job              15304 non-null  uint8\n",
            " 17  work_type_Never_worked          15304 non-null  uint8\n",
            " 18  work_type_Private               15304 non-null  uint8\n",
            " 19  work_type_Self-employed         15304 non-null  uint8\n",
            " 20  work_type_children              15304 non-null  uint8\n",
            " 21  Residence_type_Rural            15304 non-null  uint8\n",
            " 22  Residence_type_Urban            15304 non-null  uint8\n",
            " 23  smoking_status_Unknown          15304 non-null  uint8\n",
            " 24  smoking_status_formerly smoked  15304 non-null  uint8\n",
            " 25  smoking_status_never smoked     15304 non-null  uint8\n",
            " 26  smoking_status_smokes           15304 non-null  uint8\n",
            " 27  bmi_range_Healthy_weight        15304 non-null  uint8\n",
            " 28  bmi_range_low_weight            15304 non-null  uint8\n",
            " 29  bmi_range_obesity               15304 non-null  uint8\n",
            " 30  bmi_range_overweight            15304 non-null  uint8\n",
            " 31  hypertension                    15304 non-null  int64\n",
            " 32  heart_disease                   15304 non-null  int64\n",
            " 33  stroke                          15304 non-null  int64\n",
            "dtypes: int64(3), uint8(31)\n",
            "memory usage: 822.1 KB\n"
          ]
        }
      ]
    },
    {
      "cell_type": "code",
      "source": [
        "df.shape"
      ],
      "metadata": {
        "colab": {
          "base_uri": "https://localhost:8080/"
        },
        "id": "755NH44YKIyZ",
        "outputId": "2eb364e8-9e02-4af1-bc9b-1e8e647f4bb2"
      },
      "execution_count": 87,
      "outputs": [
        {
          "output_type": "execute_result",
          "data": {
            "text/plain": [
              "(15304, 34)"
            ]
          },
          "metadata": {},
          "execution_count": 87
        }
      ]
    },
    {
      "cell_type": "markdown",
      "source": [
        "**6. Organización del dataset final**"
      ],
      "metadata": {
        "id": "RFi0gsPjfUPB"
      }
    },
    {
      "cell_type": "code",
      "source": [
        "X = df[:len(df)]\n",
        "y = df['stroke']\n",
        "X = X.drop(columns=['stroke'])\n",
        "X.columns\n",
        "X.shape\n",
        "X.info()"
      ],
      "metadata": {
        "colab": {
          "base_uri": "https://localhost:8080/"
        },
        "id": "kwH-Dr1BfWxa",
        "outputId": "1a67a9ad-b347-49a7-a590-7565c467c729"
      },
      "execution_count": 88,
      "outputs": [
        {
          "output_type": "stream",
          "name": "stdout",
          "text": [
            "<class 'pandas.core.frame.DataFrame'>\n",
            "RangeIndex: 15304 entries, 0 to 15303\n",
            "Data columns (total 33 columns):\n",
            " #   Column                          Non-Null Count  Dtype\n",
            "---  ------                          --------------  -----\n",
            " 0   new_age_adulto                  15304 non-null  uint8\n",
            " 1   new_age_joven                   15304 non-null  uint8\n",
            " 2   new_age_mayor                   15304 non-null  uint8\n",
            " 3   new_age_niño                    15304 non-null  uint8\n",
            " 4   avg_glucose_diabetico           15304 non-null  uint8\n",
            " 5   avg_glucose_normal              15304 non-null  uint8\n",
            " 6   avg_glucose_prediabetico        15304 non-null  uint8\n",
            " 7   bmi_range_Healthy_weight        15304 non-null  uint8\n",
            " 8   bmi_range_low_weight            15304 non-null  uint8\n",
            " 9   bmi_range_obesity               15304 non-null  uint8\n",
            " 10  bmi_range_overweight            15304 non-null  uint8\n",
            " 11  gender_Female                   15304 non-null  uint8\n",
            " 12  gender_Male                     15304 non-null  uint8\n",
            " 13  gender_Other                    15304 non-null  uint8\n",
            " 14  ever_married_No                 15304 non-null  uint8\n",
            " 15  ever_married_Yes                15304 non-null  uint8\n",
            " 16  work_type_Govt_job              15304 non-null  uint8\n",
            " 17  work_type_Never_worked          15304 non-null  uint8\n",
            " 18  work_type_Private               15304 non-null  uint8\n",
            " 19  work_type_Self-employed         15304 non-null  uint8\n",
            " 20  work_type_children              15304 non-null  uint8\n",
            " 21  Residence_type_Rural            15304 non-null  uint8\n",
            " 22  Residence_type_Urban            15304 non-null  uint8\n",
            " 23  smoking_status_Unknown          15304 non-null  uint8\n",
            " 24  smoking_status_formerly smoked  15304 non-null  uint8\n",
            " 25  smoking_status_never smoked     15304 non-null  uint8\n",
            " 26  smoking_status_smokes           15304 non-null  uint8\n",
            " 27  bmi_range_Healthy_weight        15304 non-null  uint8\n",
            " 28  bmi_range_low_weight            15304 non-null  uint8\n",
            " 29  bmi_range_obesity               15304 non-null  uint8\n",
            " 30  bmi_range_overweight            15304 non-null  uint8\n",
            " 31  hypertension                    15304 non-null  int64\n",
            " 32  heart_disease                   15304 non-null  int64\n",
            "dtypes: int64(2), uint8(31)\n",
            "memory usage: 702.6 KB\n"
          ]
        }
      ]
    },
    {
      "cell_type": "code",
      "source": [
        "y.shape"
      ],
      "metadata": {
        "colab": {
          "base_uri": "https://localhost:8080/"
        },
        "id": "HGskDD1rKtt9",
        "outputId": "53985aee-8d98-476a-8604-0827e11f87bf"
      },
      "execution_count": 89,
      "outputs": [
        {
          "output_type": "execute_result",
          "data": {
            "text/plain": [
              "(15304,)"
            ]
          },
          "metadata": {},
          "execution_count": 89
        }
      ]
    },
    {
      "cell_type": "markdown",
      "source": [
        "**7. Exportar Dataset Final**"
      ],
      "metadata": {
        "id": "B8lqgWvUfb87"
      }
    },
    {
      "cell_type": "code",
      "source": [
        "X.to_csv('Dataset.csv')\n",
        "y.to_csv('y.csv')"
      ],
      "metadata": {
        "id": "L-0WyzeEfvGC"
      },
      "execution_count": 90,
      "outputs": []
    }
  ]
}