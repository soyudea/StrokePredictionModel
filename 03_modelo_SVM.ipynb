{
  "nbformat": 4,
  "nbformat_minor": 0,
  "metadata": {
    "colab": {
      "provenance": [],
      "authorship_tag": "ABX9TyPUDymX+yK0nS7rSshus2cV",
      "include_colab_link": true
    },
    "kernelspec": {
      "name": "python3",
      "display_name": "Python 3"
    },
    "language_info": {
      "name": "python"
    }
  },
  "cells": [
    {
      "cell_type": "markdown",
      "metadata": {
        "id": "view-in-github",
        "colab_type": "text"
      },
      "source": [
        "<a href=\"https://colab.research.google.com/github/soyudea/StrokePredictionModel/blob/main/03_modelo_SVM.ipynb\" target=\"_parent\"><img src=\"https://colab.research.google.com/assets/colab-badge.svg\" alt=\"Open In Colab\"/></a>"
      ]
    },
    {
      "cell_type": "code",
      "execution_count": null,
      "metadata": {
        "id": "t6lbl0qXMB4V"
      },
      "outputs": [],
      "source": [
        "import pandas as pd\n",
        "import numpy as np\n",
        "import math\n",
        "from seaborn import distplot\n",
        "import seaborn as sns\n",
        "import matplotlib.pyplot as plt\n",
        "from sklearn.preprocessing import StandardScaler\n",
        "from sklearn.preprocessing import MinMaxScaler\n",
        "from sklearn.model_selection import KFold\n",
        "from sklearn.metrics import f1_score\n",
        "from sklearn.metrics import confusion_matrix\n",
        "from sklearn.metrics import classification_report\n",
        "from sklearn.pipeline import make_pipeline\n",
        "from sklearn.model_selection import train_test_split\n",
        "from sklearn.metrics import median_absolute_error, r2_score, mean_squared_error\n",
        "from matplotlib.patches import split_path_inout\n",
        "from imblearn.over_sampling import RandomOverSampler\n",
        "from sklearn.metrics import average_precision_score\n",
        "from sklearn.metrics import roc_auc_score\n",
        "from sklearn.metrics import roc_curve, auc\n",
        "from matplotlib import pyplot\n",
        "from sklearn.svm import SVC\n",
        "from sklearn import svm, datasets\n",
        "from sklearn.model_selection import GridSearchCV\n",
        "from sklearn.decomposition import PCA"
      ]
    },
    {
      "cell_type": "markdown",
      "source": [
        "**Carga del dataset**  https://www.kaggle.com/competitions/playground-series-s3e2/data?select=train.csv"
      ],
      "metadata": {
        "id": "MccJMVKcM4Q-"
      }
    },
    {
      "cell_type": "code",
      "source": [
        "#Se carga dataset obtenido de Kaggle de competencia\n",
        "#==============================================================\n",
        "datos = pd.read_csv('train.csv', sep=\",\")\n",
        "datos_test = pd.read_csv('test.csv', sep=\",\")\n",
        "df =datos.copy()\n",
        "df_test=datos_test.copy()"
      ],
      "metadata": {
        "id": "VMWvMCXMMyvr"
      },
      "execution_count": null,
      "outputs": []
    },
    {
      "cell_type": "markdown",
      "source": [
        "**Se agregan valores nulos al 5 % de las muestras en los campos age, avg_glucose_level**"
      ],
      "metadata": {
        "id": "kK3uQ144NE5k"
      }
    },
    {
      "cell_type": "code",
      "source": [
        "#Se adiciona valores nulos al atributo age y avg_glucose_level\n",
        "#=============================================================\n",
        "#df =datos.copy()\n",
        "lista=[]\n",
        "porc_nulos =int(np.shape(df)[0]*5/100)   #Calculo de porcentaje de datos nulos\n",
        "rango_df = np.shape(df)[0]\n",
        "\n",
        "for i in range(porc_nulos):\n",
        "    num_aleatprio = np.random.randint(rango_df) \n",
        "    lista.append(num_aleatprio)\n",
        "\n",
        "\n",
        "for i in lista:\n",
        "    df.at[i, \"age\"] = np.nan\n",
        "\n",
        "lista=[]\n",
        "rango_df = np.shape(df)[0]\n",
        "\n",
        "for i in range(porc_nulos):\n",
        "    num_aleatprio = np.random.randint(rango_df) \n",
        "    lista.append(num_aleatprio)\n",
        "\n",
        "\n",
        "for i in lista:\n",
        "    df.at[i, \"avg_glucose_level\"] = np.nan"
      ],
      "metadata": {
        "id": "1-7TT7siNWLr"
      },
      "execution_count": null,
      "outputs": []
    },
    {
      "cell_type": "markdown",
      "source": [
        "**Estado del dataset despues de agregar valores nulos**"
      ],
      "metadata": {
        "id": "ly7o-aPxNfad"
      }
    },
    {
      "cell_type": "code",
      "source": [
        "df.isna().sum().sort_values()"
      ],
      "metadata": {
        "colab": {
          "base_uri": "https://localhost:8080/"
        },
        "id": "6D9BiYI_NtAd",
        "outputId": "4524f4b6-c826-4d7e-b971-ea4a0fbe2781"
      },
      "execution_count": null,
      "outputs": [
        {
          "output_type": "execute_result",
          "data": {
            "text/plain": [
              "id                     0\n",
              "gender                 0\n",
              "hypertension           0\n",
              "heart_disease          0\n",
              "ever_married           0\n",
              "work_type              0\n",
              "Residence_type         0\n",
              "bmi                    0\n",
              "smoking_status         0\n",
              "stroke                 0\n",
              "avg_glucose_level    737\n",
              "age                  747\n",
              "dtype: int64"
            ]
          },
          "metadata": {},
          "execution_count": 4
        }
      ]
    },
    {
      "cell_type": "markdown",
      "source": [
        "**Se agregan valores promedios en aquellas muestras con valores nulos**"
      ],
      "metadata": {
        "id": "LyV_noqZNzm0"
      }
    },
    {
      "cell_type": "code",
      "source": [
        "#Se agregan valores promedios al atributo age cuando son nulos\n",
        "#==================================================================\n",
        "\n",
        "mean_age = df['age'].mean().astype(int) #Calculo media de las edades\n",
        "\n",
        "for i in range(len(df)):\n",
        "    if math. isnan(df.at[i, \"age\"]):\n",
        "       df.at[i, \"age\"] = mean_age"
      ],
      "metadata": {
        "id": "ikchNwFwN61c"
      },
      "execution_count": null,
      "outputs": []
    },
    {
      "cell_type": "code",
      "source": [
        "#Se agrega valores promedios al atributo avg_glucose_level cuando son nulos\n",
        "#===============================================================================================\n",
        "mean_avg_glucose_level = df['avg_glucose_level'].mean().astype(int) #Calculo media de las edades\n",
        "\n",
        "for i in range(len(df)):\n",
        "    if math. isnan(df.at[i, \"avg_glucose_level\"]):\n",
        "       df.at[i, \"avg_glucose_level\"] = mean_avg_glucose_level"
      ],
      "metadata": {
        "id": "n4UugItGN_4s"
      },
      "execution_count": null,
      "outputs": []
    },
    {
      "cell_type": "markdown",
      "source": [
        "**Estado final del dataset despues de reemplazar valores nulos con valores promedios**"
      ],
      "metadata": {
        "id": "74OfnD9-OLMS"
      }
    },
    {
      "cell_type": "code",
      "source": [
        "datos['age'] = datos['age'].astype('int64') \n",
        "datos.info()"
      ],
      "metadata": {
        "id": "aOhge8AHORkz"
      },
      "execution_count": null,
      "outputs": []
    },
    {
      "cell_type": "code",
      "source": [
        "df.isnull().sum()"
      ],
      "metadata": {
        "colab": {
          "base_uri": "https://localhost:8080/"
        },
        "id": "C-S6-nZOObIK",
        "outputId": "467bc6ea-44e5-450d-da20-10d74492e36f"
      },
      "execution_count": null,
      "outputs": [
        {
          "output_type": "execute_result",
          "data": {
            "text/plain": [
              "id                   0\n",
              "gender               0\n",
              "age                  0\n",
              "hypertension         0\n",
              "heart_disease        0\n",
              "ever_married         0\n",
              "work_type            0\n",
              "Residence_type       0\n",
              "avg_glucose_level    0\n",
              "bmi                  0\n",
              "smoking_status       0\n",
              "stroke               0\n",
              "dtype: int64"
            ]
          },
          "metadata": {},
          "execution_count": 8
        }
      ]
    },
    {
      "cell_type": "markdown",
      "source": [
        "**Discretización de las variables 'age', 'avge_glucose_level', 'bmi'**"
      ],
      "metadata": {
        "id": "oDIK2PIYOdpb"
      }
    },
    {
      "cell_type": "code",
      "source": [
        "#Se transforma campo numerico age a un atributo con valores categoricos, se discretisa\n",
        "#========================================================================================================================================================\n",
        "\n",
        "df = datos.copy()\n",
        "\n",
        "edades = pd.cut(df['age'], bins = [0,10,20,40,np.inf], labels =['niño','joven','adulto','mayor'], include_lowest=True, retbins = True)\n",
        "df['new_age'] = list(edades[0]) \n",
        "\n",
        "glucosa = pd.cut(df['avg_glucose_level'], bins = [0,100,125,np.inf], labels = ['normal', 'prediabetico','diabetico'], include_lowest=True, retbins=True)\n",
        "df[\"avg_glucose\"] = list(glucosa[0])\n",
        "\n",
        "im = pd.cut(df['bmi'], bins = [18.5,24.9,25,29.9,np.inf], labels = ['low_weight', 'Healthy_weight','overweight','obesity'], include_lowest=True, retbins=True)\n",
        "df['bmi_range'] = list(im[0])\n",
        "df.shape"
      ],
      "metadata": {
        "colab": {
          "base_uri": "https://localhost:8080/"
        },
        "id": "4PgYAJRzOjka",
        "outputId": "22119166-e64b-499d-c467-2fe37aa16d61"
      },
      "execution_count": null,
      "outputs": [
        {
          "output_type": "execute_result",
          "data": {
            "text/plain": [
              "(15304, 15)"
            ]
          },
          "metadata": {},
          "execution_count": 9
        }
      ]
    },
    {
      "cell_type": "markdown",
      "source": [
        "**Transformación del dataset, de variables categoricas a númericas**"
      ],
      "metadata": {
        "id": "UCMys7DhO0CP"
      }
    },
    {
      "cell_type": "code",
      "source": [
        "#Se obtiene un dataset con todos sus atributos numéricos\n",
        "#========================================================================================================================================================================================================================================\n",
        "vnumericas = df.drop([\"id\",\"avg_glucose_level\",\"age\",\"bmi\",\"new_age\",\"avg_glucose\",\"bmi_range\",\"gender\",\"ever_married\",\"work_type\",\"Residence_type\",\"smoking_status\", \"bmi_range\"],axis=1)#SE crea variable númerica sin las categoricas \n",
        "vcategoricas=df.filter([\"new_age\",\"avg_glucose\",\"bmi_range\",\"gender\",\"ever_married\",\"work_type\",\"Residence_type\",\"smoking_status\", \"bmi_range\"]) \n",
        "\n",
        "cat_numerica=pd.get_dummies(vcategoricas,drop_first=False) \n",
        "df=pd.concat([cat_numerica,vnumericas],axis=1)\n",
        "#datos = df\n",
        "df.shape"
      ],
      "metadata": {
        "colab": {
          "base_uri": "https://localhost:8080/"
        },
        "id": "AFcDOhbRO4ch",
        "outputId": "0c466699-b6d1-4c78-9a53-236f8186033d"
      },
      "execution_count": null,
      "outputs": [
        {
          "output_type": "execute_result",
          "data": {
            "text/plain": [
              "(15304, 34)"
            ]
          },
          "metadata": {},
          "execution_count": 10
        }
      ]
    },
    {
      "cell_type": "markdown",
      "source": [
        "**Organización del dataset final**"
      ],
      "metadata": {
        "id": "Nff-5OaXPIJK"
      }
    },
    {
      "cell_type": "code",
      "source": [
        "X = df[:len(df)]\n",
        "y = df['stroke']\n",
        "X = X.drop(columns=['stroke'])\n",
        "X.columns\n",
        "X.shape"
      ],
      "metadata": {
        "colab": {
          "base_uri": "https://localhost:8080/"
        },
        "id": "uM4I6wGvPNsi",
        "outputId": "ec086c1d-ee07-4952-ff12-063864819548"
      },
      "execution_count": null,
      "outputs": [
        {
          "output_type": "execute_result",
          "data": {
            "text/plain": [
              "(15304, 33)"
            ]
          },
          "metadata": {},
          "execution_count": 11
        }
      ]
    },
    {
      "cell_type": "markdown",
      "source": [
        "**Generador de muestras sintéticas**"
      ],
      "metadata": {
        "id": "WJ7KGEyvPUZU"
      }
    },
    {
      "cell_type": "code",
      "source": [
        "pca=PCA(n_components=30) \n",
        "pca.fit(X) #\n",
        "X_pca=pca.transform(X)"
      ],
      "metadata": {
        "id": "dt9c9ihBPZbr"
      },
      "execution_count": null,
      "outputs": []
    },
    {
      "cell_type": "code",
      "source": [
        "ros = RandomOverSampler(random_state=42, sampling_strategy=1.0)                          \n",
        "Xres, yres = ros.fit_resample(X_pca, y)\n",
        "Xtrain, Xtst, ytrain, ytst = train_test_split(Xres,yres, test_size=0.1) #Se toma el 90 % de los datos para Entrenar\n",
        "print (Xtrain.shape, ytrain.shape, Xtst.shape, ytst.shape)\n",
        "X=Xtrain\n",
        "y=ytrain"
      ],
      "metadata": {
        "colab": {
          "base_uri": "https://localhost:8080/"
        },
        "id": "YRuOcTzGPwhE",
        "outputId": "729a841c-1b3d-4095-e9a6-ebea835993af"
      },
      "execution_count": null,
      "outputs": [
        {
          "output_type": "stream",
          "name": "stdout",
          "text": [
            "(26409, 30) (26409,) (2935, 30) (2935,)\n"
          ]
        }
      ]
    },
    {
      "cell_type": "markdown",
      "source": [
        "**Calculo pesos de la clase Parametro que se usa para minimizar el efecto del desbalance del dataset**"
      ],
      "metadata": {
        "id": "lz3-yH5_P3Y8"
      }
    },
    {
      "cell_type": "code",
      "source": [
        "def dar_peso_clase():\n",
        "  Xtrain, Xtest, ytrain, ytest = train_test_split(X, y, test_size = 0.2, train_size = 0.8, random_state = 17)\n",
        "  Number_Muestras_por_Clase = ytrain.value_counts()\n",
        "  Number_Muestras_por_Clase = Number_Muestras_por_Clase.sort_index(axis = 0, ascending = True)\n",
        "  Numero_de_Clases = len(Number_Muestras_por_Clase.index)\n",
        "  Peso_por_Clase = len(ytrain)/(Numero_de_Clases*Number_Muestras_por_Clase)\n",
        "  return Peso_por_Clase"
      ],
      "metadata": {
        "id": "aqvQ0j4ZQEua"
      },
      "execution_count": null,
      "outputs": []
    },
    {
      "cell_type": "markdown",
      "source": [
        "**Maquina de soporte vectorial** https://scikit-learn.org/stable/modules/generated/sklearn.svm.SVC.html"
      ],
      "metadata": {
        "id": "E1sMORJ5Qc_e"
      }
    },
    {
      "cell_type": "markdown",
      "source": [
        "**Calculo de parametros**"
      ],
      "metadata": {
        "id": "98IZyCY0QufE"
      }
    },
    {
      "cell_type": "code",
      "source": [
        "from sklearn.utils.fixes import loguniform\n",
        "param_grid = {'kernel': ['rbf'], 'C':[1, 10, 20],\n",
        "              'gamma': [1e-3, 1e-4] ,\n",
        "              \n",
        "              } \n",
        "#'tol':[1e-3, 1e-4],           \n",
        "#  'decision_function_shape':['ovo', 'ovr']\n",
        "\n",
        "svc = svm.SVC(gamma=\"scale\")\n",
        "clf = GridSearchCV(svc, param_grid, cv=5,n_jobs=2)\n",
        "clf.fit(X, y) \n",
        "parametros = pd.concat([pd.DataFrame(clf.cv_results_[\"params\"]),\n",
        "                pd.DataFrame(clf.cv_results_[\"mean_test_score\"],\n",
        "                columns=[\"Accuracy\"])],axis=1)\n",
        "print(parametros)"
      ],
      "metadata": {
        "colab": {
          "base_uri": "https://localhost:8080/"
        },
        "id": "uiSQS7y8QrXD",
        "outputId": "8d250e9d-dd79-449b-b47d-587689564872"
      },
      "execution_count": null,
      "outputs": [
        {
          "output_type": "stream",
          "name": "stdout",
          "text": [
            "    C   gamma kernel  Accuracy\n",
            "0   1  0.0010    rbf  0.729259\n",
            "1   1  0.0001    rbf  0.722519\n",
            "2  10  0.0010    rbf  0.729259\n",
            "3  10  0.0001    rbf  0.729259\n",
            "4  20  0.0010    rbf  0.729259\n",
            "5  20  0.0001    rbf  0.729259\n"
          ]
        }
      ]
    },
    {
      "cell_type": "code",
      "source": [
        "kf = KFold(n_splits=5, random_state = True,shuffle=True)\n",
        "c=1\n",
        "weight= dar_peso_clase()\n",
        "X_test =0\n",
        "y_test =0\n",
        "#degree =3 los resultados fueron regulares con el kernel =\"poly\" , no calcula area AUC\n",
        "\n",
        "svclassifier = SVC(C=c,kernel=\"rbf\", degree=3, gamma='auto',shrinking=True,tol=0.00010,\n",
        "                   class_weight = {0: weight[0], 1: weight[1]},\n",
        "                   decision_function_shape='ovr')\n",
        "\n",
        "for train_index, test_index in kf.split(X):\n",
        "    X_train, X_test = X[train_index], X[test_index]\n",
        "    y_train, y_test = y.iloc[train_index], y.iloc[test_index]\n",
        "\n",
        "    modelo = svclassifier.fit(X_train, y_train)\n",
        "    y_pred = modelo.predict(X_test)\n",
        "    print()\n",
        "    \n",
        "    print(confusion_matrix(y_test, y_pred))\n",
        "    print(classification_report(y_test, y_pred, digits =6, labels=[0,1],zero_division=1))\n",
        "    s = roc_auc_score(y_test, modelo.predict(X_test))\n",
        "    print(f'Best val auc: {s: .4f}')\n",
        "    print()"
      ],
      "metadata": {
        "colab": {
          "base_uri": "https://localhost:8080/"
        },
        "id": "O7XqkpeTQ7iC",
        "outputId": "1f7fa916-ef96-4807-d8a5-bdd61d5eba34"
      },
      "execution_count": null,
      "outputs": [
        {
          "output_type": "stream",
          "name": "stdout",
          "text": [
            "\n",
            "[[1293 1324]\n",
            " [  47 2618]]\n",
            "              precision    recall  f1-score   support\n",
            "\n",
            "           0   0.964925  0.494077  0.653525      2617\n",
            "           1   0.664130  0.982364  0.792493      2665\n",
            "\n",
            "    accuracy                       0.740439      5282\n",
            "   macro avg   0.814528  0.738221  0.723009      5282\n",
            "weighted avg   0.813161  0.740439  0.723641      5282\n",
            "\n",
            "Best val auc:  0.7382\n",
            "\n",
            "\n",
            "[[1191 1415]\n",
            " [  54 2622]]\n",
            "              precision    recall  f1-score   support\n",
            "\n",
            "           0   0.956627  0.457022  0.618541      2606\n",
            "           1   0.649492  0.979821  0.781171      2676\n",
            "\n",
            "    accuracy                       0.721886      5282\n",
            "   macro avg   0.803059  0.718421  0.699856      5282\n",
            "weighted avg   0.801024  0.721886  0.700933      5282\n",
            "\n",
            "Best val auc:  0.7184\n",
            "\n",
            "\n",
            "[[1242 1364]\n",
            " [  66 2610]]\n",
            "              precision    recall  f1-score   support\n",
            "\n",
            "           0   0.949541  0.476592  0.634645      2606\n",
            "           1   0.656769  0.975336  0.784962      2676\n",
            "\n",
            "    accuracy                       0.729269      5282\n",
            "   macro avg   0.803155  0.725964  0.709804      5282\n",
            "weighted avg   0.801215  0.729269  0.710800      5282\n",
            "\n",
            "Best val auc:  0.7260\n",
            "\n",
            "\n",
            "[[1285 1387]\n",
            " [  47 2563]]\n",
            "              precision    recall  f1-score   support\n",
            "\n",
            "           0   0.964715  0.480913  0.641858      2672\n",
            "           1   0.648861  0.981992  0.781402      2610\n",
            "\n",
            "    accuracy                       0.728512      5282\n",
            "   macro avg   0.806788  0.731453  0.711630      5282\n",
            "weighted avg   0.808641  0.728512  0.710811      5282\n",
            "\n",
            "Best val auc:  0.7315\n",
            "\n",
            "\n",
            "[[1302 1385]\n",
            " [  61 2533]]\n",
            "              precision    recall  f1-score   support\n",
            "\n",
            "           0   0.955246  0.484555  0.642963      2687\n",
            "           1   0.646503  0.976484  0.777948      2594\n",
            "\n",
            "    accuracy                       0.726188      5281\n",
            "   macro avg   0.800875  0.730520  0.710456      5281\n",
            "weighted avg   0.803593  0.726188  0.709267      5281\n",
            "\n",
            "Best val auc:  0.7305\n",
            "\n"
          ]
        }
      ]
    },
    {
      "cell_type": "markdown",
      "source": [
        "**Curva ROC Modelo maquina de soporte Vectorial SVC**\n"
      ],
      "metadata": {
        "id": "S5IPYJQNRGGT"
      }
    },
    {
      "cell_type": "code",
      "source": [
        "#Curva ROC\n",
        "classes = svclassifier.predict(X_test)\n",
        "ns_probs = [0 for _ in range(len(y_test))]\n",
        "ns_auc = roc_auc_score(y_test, ns_probs,average='weighted')\n",
        "svclassifier_auc = roc_auc_score(y_test,classes,average='weighted')\n",
        "aps = average_precision_score(y_test, ns_probs)\n",
        "\n",
        "print(\"Average_presicion_score \"+str(aps))\n",
        "print('Sin entrenar: ROC AUC=%.3f' % (ns_auc))\n",
        "print('Algoritmo SVC: ROC AUC=%.3f' % (svclassifier_auc))\n",
        "svclassifier_probs = classes[:]\n",
        "ns_fpr, ns_tpr, _ = roc_curve(y_test, ns_probs)\n",
        "pyplot.plot(ns_fpr, ns_tpr, linestyle='--', label='Sin entrenar')\n",
        "svclassifier_fpr, classifier_tpr, _ = roc_curve(y_test, svclassifier_probs)\n",
        "print()\n",
        "pyplot.plot(svclassifier_fpr, classifier_tpr, marker='.', label='Curva Maquina de soporte vectorial')\n",
        "pyplot.xlabel('Tasa de Falsos Positivos')\n",
        "pyplot.ylabel('Tasa de Verdaderos Positivos')\n",
        "pyplot.legend()\n",
        "pyplot.show()\n",
        "print()"
      ],
      "metadata": {
        "colab": {
          "base_uri": "https://localhost:8080/",
          "height": 536
        },
        "id": "04ObHok5RMpa",
        "outputId": "b220a3ef-a062-49fc-fd63-125fa7ddf071"
      },
      "execution_count": null,
      "outputs": [
        {
          "output_type": "stream",
          "name": "stdout",
          "text": [
            "Average_presicion_score 0.4911948494603295\n",
            "Sin entrenar: ROC AUC=0.500\n",
            "Algoritmo SVC: ROC AUC=0.731\n",
            "\n"
          ]
        },
        {
          "output_type": "display_data",
          "data": {
            "text/plain": [
              "<Figure size 640x480 with 1 Axes>"
            ],
            "image/png": "[encoded data removed]"
          },
          "metadata": {}
        },
        {
          "output_type": "stream",
          "name": "stdout",
          "text": [
            "\n"
          ]
        }
      ]
    }
  ]
}