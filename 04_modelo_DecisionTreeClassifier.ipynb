{
  "nbformat": 4,
  "nbformat_minor": 0,
  "metadata": {
    "colab": {
      "provenance": [],
      "authorship_tag": "ABX9TyPzswWjEHddM1Y4WNXg7ARE",
      "include_colab_link": true
    },
    "kernelspec": {
      "name": "python3",
      "display_name": "Python 3"
    },
    "language_info": {
      "name": "python"
    }
  },
  "cells": [
    {
      "cell_type": "markdown",
      "metadata": {
        "id": "view-in-github",
        "colab_type": "text"
      },
      "source": [
        "<a href=\"https://colab.research.google.com/github/soyudea/StrokePredictionModel/blob/main/04_modelo_DecisionTreeClassifier.ipynb\" target=\"_parent\"><img src=\"https://colab.research.google.com/assets/colab-badge.svg\" alt=\"Open In Colab\"/></a>"
      ]
    },
    {
      "cell_type": "code",
      "execution_count": null,
      "metadata": {
        "id": "SYMJ0qECxqhQ"
      },
      "outputs": [],
      "source": [
        "import pandas as pd\n",
        "import numpy as np\n",
        "import math\n",
        "from seaborn import distplot\n",
        "import seaborn as sns\n",
        "import matplotlib.pyplot as plt\n",
        "from sklearn.preprocessing import StandardScaler\n",
        "from sklearn.preprocessing import MinMaxScaler\n",
        "from sklearn.model_selection import KFold\n",
        "from sklearn.metrics import f1_score\n",
        "from sklearn.metrics import confusion_matrix\n",
        "from sklearn.metrics import classification_report\n",
        "from sklearn.pipeline import make_pipeline\n",
        "\n",
        "from sklearn.tree import DecisionTreeClassifier\n",
        "from sklearn.model_selection import train_test_split\n",
        "from sklearn.metrics import median_absolute_error, r2_score, mean_squared_error\n",
        "from matplotlib.patches import split_path_inout\n",
        "from imblearn.over_sampling import RandomOverSampler\n",
        "from sklearn.metrics import average_precision_score\n",
        "from sklearn.metrics import roc_auc_score\n",
        "from sklearn.metrics import roc_curve, auc\n",
        "from matplotlib import pyplot\n",
        "\n",
        "from sklearn.model_selection import GridSearchCV\n",
        "\n",
        "from collections import Counter\n",
        "from sklearn.datasets import make_classification\n",
        "from imblearn.over_sampling import RandomOverSampler\n",
        "\n",
        "from sklearn.decomposition import PCA\n",
        "from sklearn.linear_model import LassoCV\n",
        "from sklearn.metrics import roc_auc_score"
      ]
    },
    {
      "cell_type": "markdown",
      "source": [
        "**Carga del dataset**  https://www.kaggle.com/competitions/playground-series-s3e2/data?select=train.csv"
      ],
      "metadata": {
        "id": "3yb_mNb9yffL"
      }
    },
    {
      "cell_type": "code",
      "source": [
        "#Lectura del dataSet\n",
        "#==============================================================\n",
        "datos = pd.read_csv('train.csv', sep=\",\")\n",
        "datos_test = pd.read_csv('test.csv', sep=\",\")\n",
        "df =datos.copy()\n",
        "df_test=datos_test.copy()"
      ],
      "metadata": {
        "id": "bMMV67jdxxXR"
      },
      "execution_count": null,
      "outputs": []
    },
    {
      "cell_type": "markdown",
      "source": [
        "**Se agregan valores nulos al 5 % de las muestras en los campos age, avg_glucose_level**"
      ],
      "metadata": {
        "id": "MoiGH5lFzBj6"
      }
    },
    {
      "cell_type": "code",
      "source": [
        "#Se adiciona valores nulos al atributo age y avg_glucose_level\n",
        "#=============================================================\n",
        "#df =datos.copy()\n",
        "lista=[]\n",
        "porc_nulos =int(np.shape(df)[0]*5/100)   #Calculo de porcentaje de datos nulos\n",
        "rango_df = np.shape(df)[0]\n",
        "\n",
        "for i in range(porc_nulos):\n",
        "    num_aleatprio = np.random.randint(rango_df) \n",
        "    lista.append(num_aleatprio)\n",
        "\n",
        "\n",
        "for i in lista:\n",
        "    df.at[i, \"age\"] = np.nan\n",
        "\n",
        "lista=[]\n",
        "rango_df = np.shape(df)[0]\n",
        "\n",
        "for i in range(porc_nulos):\n",
        "    num_aleatprio = np.random.randint(rango_df) \n",
        "    lista.append(num_aleatprio)\n",
        "\n",
        "\n",
        "for i in lista:\n",
        "    df.at[i, \"avg_glucose_level\"] = np.nan"
      ],
      "metadata": {
        "id": "fuQk8CKjzKnZ"
      },
      "execution_count": null,
      "outputs": []
    },
    {
      "cell_type": "markdown",
      "source": [
        "**Estado del dataset despues de agregar valores nulos**"
      ],
      "metadata": {
        "id": "m4netVfjzidp"
      }
    },
    {
      "cell_type": "code",
      "source": [
        "df.isna().sum().sort_values()"
      ],
      "metadata": {
        "colab": {
          "base_uri": "https://localhost:8080/"
        },
        "id": "_r69rGPKzoaa",
        "outputId": "ad1e6aa0-ef5e-466e-8662-94fc6c7650e5"
      },
      "execution_count": null,
      "outputs": [
        {
          "output_type": "execute_result",
          "data": {
            "text/plain": [
              "id                     0\n",
              "gender                 0\n",
              "hypertension           0\n",
              "heart_disease          0\n",
              "ever_married           0\n",
              "work_type              0\n",
              "Residence_type         0\n",
              "bmi                    0\n",
              "smoking_status         0\n",
              "stroke                 0\n",
              "age                  746\n",
              "avg_glucose_level    751\n",
              "dtype: int64"
            ]
          },
          "metadata": {},
          "execution_count": 19
        }
      ]
    },
    {
      "cell_type": "markdown",
      "source": [
        "**Se agregan valores promedios en aquellas muestras con valores nulos**"
      ],
      "metadata": {
        "id": "WPX-noVSzxLR"
      }
    },
    {
      "cell_type": "code",
      "source": [
        "#Se agregan valores promedios al atributo age cuando son nulos\n",
        "#==================================================================\n",
        "\n",
        "mean_age = df['age'].mean().astype(int) #Calculo media de las edades\n",
        "\n",
        "for i in range(len(df)):\n",
        "    if math. isnan(df.at[i, \"age\"]):\n",
        "       df.at[i, \"age\"] = mean_age"
      ],
      "metadata": {
        "id": "5MhWYSwzz0a7"
      },
      "execution_count": null,
      "outputs": []
    },
    {
      "cell_type": "code",
      "source": [
        "#Se agrega valores promedios al atributo avg_glucose_level cuando son nulos\n",
        "#===============================================================================================\n",
        "mean_avg_glucose_level = df['avg_glucose_level'].mean().astype(int) #Calculo media de las edades\n",
        "\n",
        "for i in range(len(df)):\n",
        "    if math. isnan(df.at[i, \"avg_glucose_level\"]):\n",
        "       df.at[i, \"avg_glucose_level\"] = mean_avg_glucose_level"
      ],
      "metadata": {
        "id": "wfZbJBqwz69q"
      },
      "execution_count": null,
      "outputs": []
    },
    {
      "cell_type": "markdown",
      "source": [
        "**Estado final del dataset despues de reemplazar valores nulos con valores promedios**"
      ],
      "metadata": {
        "id": "etXfdFD00IEL"
      }
    },
    {
      "cell_type": "code",
      "source": [
        "datos['age'] = datos['age'].astype('int64') \n",
        "datos.info()"
      ],
      "metadata": {
        "colab": {
          "base_uri": "https://localhost:8080/"
        },
        "id": "4X34X9C00NpM",
        "outputId": "067e2b6e-cf9f-4f18-9170-4803d1169db7"
      },
      "execution_count": null,
      "outputs": [
        {
          "output_type": "stream",
          "name": "stdout",
          "text": [
            "<class 'pandas.core.frame.DataFrame'>\n",
            "RangeIndex: 15304 entries, 0 to 15303\n",
            "Data columns (total 12 columns):\n",
            " #   Column             Non-Null Count  Dtype  \n",
            "---  ------             --------------  -----  \n",
            " 0   id                 15304 non-null  int64  \n",
            " 1   gender             15304 non-null  object \n",
            " 2   age                15304 non-null  int64  \n",
            " 3   hypertension       15304 non-null  int64  \n",
            " 4   heart_disease      15304 non-null  int64  \n",
            " 5   ever_married       15304 non-null  object \n",
            " 6   work_type          15304 non-null  object \n",
            " 7   Residence_type     15304 non-null  object \n",
            " 8   avg_glucose_level  15304 non-null  float64\n",
            " 9   bmi                15304 non-null  float64\n",
            " 10  smoking_status     15304 non-null  object \n",
            " 11  stroke             15304 non-null  int64  \n",
            "dtypes: float64(2), int64(5), object(5)\n",
            "memory usage: 1.4+ MB\n"
          ]
        }
      ]
    },
    {
      "cell_type": "code",
      "source": [
        "df.isnull().sum()"
      ],
      "metadata": {
        "colab": {
          "base_uri": "https://localhost:8080/"
        },
        "id": "rSLBiSD60lTB",
        "outputId": "d31c56af-5681-4040-ef55-018a76ae66dd"
      },
      "execution_count": null,
      "outputs": [
        {
          "output_type": "execute_result",
          "data": {
            "text/plain": [
              "id                   0\n",
              "gender               0\n",
              "age                  0\n",
              "hypertension         0\n",
              "heart_disease        0\n",
              "ever_married         0\n",
              "work_type            0\n",
              "Residence_type       0\n",
              "avg_glucose_level    0\n",
              "bmi                  0\n",
              "smoking_status       0\n",
              "stroke               0\n",
              "dtype: int64"
            ]
          },
          "metadata": {},
          "execution_count": 23
        }
      ]
    },
    {
      "cell_type": "markdown",
      "source": [
        "**Discretización de las variables 'age', 'avge_glucose_level', 'bmi'**"
      ],
      "metadata": {
        "id": "_5opbDm40y8T"
      }
    },
    {
      "cell_type": "code",
      "source": [
        "#Se transforma campo numerico age a un atributo con valores categoricos, se discretisa\n",
        "#========================================================================================================================================================\n",
        "\n",
        "df = datos.copy()\n",
        "\n",
        "edades = pd.cut(df['age'], bins = [0,10,20,40,np.inf], labels =['niño','joven','adulto','mayor'], include_lowest=True, retbins = True)\n",
        "df['new_age'] = list(edades[0]) \n",
        "\n",
        "glucosa = pd.cut(df['avg_glucose_level'], bins = [0,100,125,np.inf], labels = ['normal', 'prediabetico','diabetico'], include_lowest=True, retbins=True)\n",
        "df[\"avg_glucose\"] = list(glucosa[0])\n",
        "\n",
        "im = pd.cut(df['bmi'], bins = [18.5,24.9,25,29.9,np.inf], labels = ['low_weight', 'Healthy_weight','overweight','obesity'], include_lowest=True, retbins=True)\n",
        "df['bmi_range'] = list(im[0])\n",
        "df.shape"
      ],
      "metadata": {
        "colab": {
          "base_uri": "https://localhost:8080/"
        },
        "id": "zhg_Z1ag0yJ5",
        "outputId": "13903d9e-93ba-4cd5-a3f6-055c4068890c"
      },
      "execution_count": null,
      "outputs": [
        {
          "output_type": "execute_result",
          "data": {
            "text/plain": [
              "(15304, 15)"
            ]
          },
          "metadata": {},
          "execution_count": 75
        }
      ]
    },
    {
      "cell_type": "markdown",
      "source": [
        "**Transformación del dataset, de variables categoricas a númericas**"
      ],
      "metadata": {
        "id": "w5WPX1L31DYi"
      }
    },
    {
      "cell_type": "code",
      "source": [
        "#Se obtiene un dataset con todos sus atributos numéricos\n",
        "#========================================================================================================================================================================================================================================\n",
        "\n",
        "vnumericas = df.drop([\"id\",\"avg_glucose_level\",\"age\",\"bmi\",\"new_age\",\"avg_glucose\",\"bmi_range\",\"gender\",\"ever_married\",\"work_type\",\"Residence_type\",\"smoking_status\", \"bmi_range\"],axis=1)#SE crea variable númerica sin las categoricas \n",
        "vcategoricas=df.filter([\"new_age\",\"avg_glucose\",\"bmi_range\",\"gender\",\"ever_married\",\"work_type\",\"Residence_type\",\"smoking_status\", \"bmi_range\"]) \n",
        "\n",
        "cat_numerica=pd.get_dummies(vcategoricas,drop_first=False) \n",
        "df=pd.concat([cat_numerica,vnumericas],axis=1)\n",
        "#datos = df\n",
        "df.shape"
      ],
      "metadata": {
        "colab": {
          "base_uri": "https://localhost:8080/"
        },
        "id": "_yHkvVIo1HNA",
        "outputId": "97949f81-c35d-4bc2-bd8d-6f6f2326bfd1"
      },
      "execution_count": null,
      "outputs": [
        {
          "output_type": "execute_result",
          "data": {
            "text/plain": [
              "(15304, 34)"
            ]
          },
          "metadata": {},
          "execution_count": 76
        }
      ]
    },
    {
      "cell_type": "markdown",
      "source": [
        "**Organización del dataset final**"
      ],
      "metadata": {
        "id": "YE6PtBpI2VJy"
      }
    },
    {
      "cell_type": "code",
      "source": [
        "X = df[:len(df)]\n",
        "y = df['stroke']\n",
        "X = X.drop(columns=['stroke'])\n",
        "X.columns\n",
        "X.shape"
      ],
      "metadata": {
        "colab": {
          "base_uri": "https://localhost:8080/"
        },
        "id": "nOIjEWeu2b20",
        "outputId": "16bb97fe-20b9-414d-b6e3-a20ef3e88ca0"
      },
      "execution_count": null,
      "outputs": [
        {
          "output_type": "execute_result",
          "data": {
            "text/plain": [
              "(15304, 33)"
            ]
          },
          "metadata": {},
          "execution_count": 77
        }
      ]
    },
    {
      "cell_type": "markdown",
      "source": [
        "**Generador de muestras sintéticas**"
      ],
      "metadata": {
        "id": "3wl8bni52jWU"
      }
    },
    {
      "cell_type": "code",
      "source": [
        "pca=PCA(n_components=30) \n",
        "pca.fit(X) #\n",
        "X_pca=pca.transform(X)"
      ],
      "metadata": {
        "id": "IzM0xAV52mZ4"
      },
      "execution_count": null,
      "outputs": []
    },
    {
      "cell_type": "code",
      "source": [
        "ros = RandomOverSampler(random_state=42, sampling_strategy=1.0)                          \n",
        "Xres, yres = ros.fit_resample(X_pca, y)\n",
        "Xtrain, Xtst, ytrain, ytst = train_test_split(Xres,yres, test_size=0.1) #Se toma el 90 % de los datos para Entrenar\n",
        "print (Xtrain.shape, ytrain.shape, Xtst.shape, ytst.shape)\n",
        "X=Xtrain\n",
        "y=ytrain"
      ],
      "metadata": {
        "colab": {
          "base_uri": "https://localhost:8080/"
        },
        "id": "Tl1xVy1_2vmx",
        "outputId": "7fd31961-6c8a-4e9e-e03d-c2dbcb637dbf"
      },
      "execution_count": null,
      "outputs": [
        {
          "output_type": "stream",
          "name": "stdout",
          "text": [
            "(26409, 30) (26409,) (2935, 30) (2935,)\n"
          ]
        }
      ]
    },
    {
      "cell_type": "markdown",
      "source": [
        "**Calculo pesos de la clase Parametro que se usa para minimizar el efecto del desbalance del dataset**"
      ],
      "metadata": {
        "id": "XjTt55rR29bz"
      }
    },
    {
      "cell_type": "code",
      "source": [
        "def dar_peso_clase():\n",
        "  Xtrain, Xtest, ytrain, ytest = train_test_split(X, y, test_size = 0.2, train_size = 0.8, random_state = 17)\n",
        "  Number_Muestras_por_Clase = ytrain.value_counts()\n",
        "  Number_Muestras_por_Clase = Number_Muestras_por_Clase.sort_index(axis = 0, ascending = True)\n",
        "  Numero_de_Clases = len(Number_Muestras_por_Clase.index)\n",
        "  Peso_por_Clase = len(ytrain)/(Numero_de_Clases*Number_Muestras_por_Clase)\n",
        "  return Peso_por_Clase"
      ],
      "metadata": {
        "id": "9sr6Uc_e3AgT"
      },
      "execution_count": null,
      "outputs": []
    },
    {
      "cell_type": "markdown",
      "source": [
        "**Modelo DecisionTreeClassifier https://scikit-learn.org/stable/modules/generated/sklearn.tree.DecisionTreeClassifier.html**"
      ],
      "metadata": {
        "id": "Ve1qYr7S3Orh"
      }
    },
    {
      "cell_type": "code",
      "source": [
        "#Entrenamiento del modelo  DecisionTreeClassifier con el 90% de las muestras\n",
        "#=================================================================================================================\n",
        "kf = KFold(n_splits=20, random_state = True,shuffle=True)\n",
        "\n",
        "preds = []\n",
        "scores = []\n",
        "\n",
        "weight= dar_peso_clase()\n",
        "\n",
        "classifier = DecisionTreeClassifier(criterion='gini', \n",
        "                                    ccp_alpha=0.0000001,\n",
        "                                    min_samples_split=10,\n",
        "                                    class_weight= {0: weight[0], 1: weight[1]},\n",
        "                                    random_state=42,\n",
        "                                    max_features=\"sqrt\",min_impurity_decrease=0.0\n",
        "                                    )  #\"log2\"\n",
        "                                \n",
        "X_test =0\n",
        "y_test =0\n",
        "for train_index, test_index in kf.split(X):\n",
        "\n",
        "    X_train, X_test = X[train_index], X[test_index]  #linea de código para pca\n",
        "    y_train, y_test = y.iloc[train_index], y.iloc[test_index]\n",
        "\n",
        "    #modelo = LassoCV(**model_params)\n",
        "    modelo = classifier.fit(X_train, y_train)\n",
        "    y_pred = modelo.predict(X_test)\n",
        "\n",
        "    print()\n",
        "    print(confusion_matrix(y_test, y_pred))\n",
        "    print(classification_report(y_test, y_pred, digits =4, labels=[0,1]))\n",
        "    preds.append(modelo.predict(X_test))\n",
        "    s = roc_auc_score(y_test, modelo.predict(X_test))\n",
        "    print(f'Best val auc: {s: .4f}')\n",
        "    scores.append(s)\n",
        "    print()"
      ],
      "metadata": {
        "colab": {
          "base_uri": "https://localhost:8080/"
        },
        "id": "KYt_6S2m3Sxb",
        "outputId": "8986fdc4-183c-4704-f772-91991e8089ec"
      },
      "execution_count": null,
      "outputs": [
        {
          "output_type": "stream",
          "name": "stdout",
          "text": [
            "\n",
            "[[478 174]\n",
            " [ 74 595]]\n",
            "              precision    recall  f1-score   support\n",
            "\n",
            "           0     0.8659    0.7331    0.7940       652\n",
            "           1     0.7737    0.8894    0.8275       669\n",
            "\n",
            "    accuracy                         0.8123      1321\n",
            "   macro avg     0.8198    0.8113    0.8108      1321\n",
            "weighted avg     0.8192    0.8123    0.8110      1321\n",
            "\n",
            "Best val auc:  0.8113\n",
            "\n",
            "\n",
            "[[472 166]\n",
            " [ 78 605]]\n",
            "              precision    recall  f1-score   support\n",
            "\n",
            "           0     0.8582    0.7398    0.7946       638\n",
            "           1     0.7847    0.8858    0.8322       683\n",
            "\n",
            "    accuracy                         0.8153      1321\n",
            "   macro avg     0.8214    0.8128    0.8134      1321\n",
            "weighted avg     0.8202    0.8153    0.8140      1321\n",
            "\n",
            "Best val auc:  0.8128\n",
            "\n",
            "\n",
            "[[468 157]\n",
            " [ 71 625]]\n",
            "              precision    recall  f1-score   support\n",
            "\n",
            "           0     0.8683    0.7488    0.8041       625\n",
            "           1     0.7992    0.8980    0.8457       696\n",
            "\n",
            "    accuracy                         0.8274      1321\n",
            "   macro avg     0.8338    0.8234    0.8249      1321\n",
            "weighted avg     0.8319    0.8274    0.8260      1321\n",
            "\n",
            "Best val auc:  0.8234\n",
            "\n",
            "\n",
            "[[481 185]\n",
            " [ 78 577]]\n",
            "              precision    recall  f1-score   support\n",
            "\n",
            "           0     0.8605    0.7222    0.7853       666\n",
            "           1     0.7572    0.8809    0.8144       655\n",
            "\n",
            "    accuracy                         0.8009      1321\n",
            "   macro avg     0.8088    0.8016    0.7999      1321\n",
            "weighted avg     0.8093    0.8009    0.7997      1321\n",
            "\n",
            "Best val auc:  0.8016\n",
            "\n",
            "\n",
            "[[480 185]\n",
            " [ 99 557]]\n",
            "              precision    recall  f1-score   support\n",
            "\n",
            "           0     0.8290    0.7218    0.7717       665\n",
            "           1     0.7507    0.8491    0.7969       656\n",
            "\n",
            "    accuracy                         0.7850      1321\n",
            "   macro avg     0.7898    0.7854    0.7843      1321\n",
            "weighted avg     0.7901    0.7850    0.7842      1321\n",
            "\n",
            "Best val auc:  0.7854\n",
            "\n",
            "\n",
            "[[482 194]\n",
            " [ 64 581]]\n",
            "              precision    recall  f1-score   support\n",
            "\n",
            "           0     0.8828    0.7130    0.7889       676\n",
            "           1     0.7497    0.9008    0.8183       645\n",
            "\n",
            "    accuracy                         0.8047      1321\n",
            "   macro avg     0.8162    0.8069    0.8036      1321\n",
            "weighted avg     0.8178    0.8047    0.8032      1321\n",
            "\n",
            "Best val auc:  0.8069\n",
            "\n",
            "\n",
            "[[525 160]\n",
            " [ 78 558]]\n",
            "              precision    recall  f1-score   support\n",
            "\n",
            "           0     0.8706    0.7664    0.8152       685\n",
            "           1     0.7772    0.8774    0.8242       636\n",
            "\n",
            "    accuracy                         0.8198      1321\n",
            "   macro avg     0.8239    0.8219    0.8197      1321\n",
            "weighted avg     0.8256    0.8198    0.8196      1321\n",
            "\n",
            "Best val auc:  0.8219\n",
            "\n",
            "\n",
            "[[474 194]\n",
            " [ 67 586]]\n",
            "              precision    recall  f1-score   support\n",
            "\n",
            "           0     0.8762    0.7096    0.7841       668\n",
            "           1     0.7513    0.8974    0.8179       653\n",
            "\n",
            "    accuracy                         0.8024      1321\n",
            "   macro avg     0.8137    0.8035    0.8010      1321\n",
            "weighted avg     0.8144    0.8024    0.8008      1321\n",
            "\n",
            "Best val auc:  0.8035\n",
            "\n",
            "\n",
            "[[503 162]\n",
            " [ 67 589]]\n",
            "              precision    recall  f1-score   support\n",
            "\n",
            "           0     0.8825    0.7564    0.8146       665\n",
            "           1     0.7843    0.8979    0.8372       656\n",
            "\n",
            "    accuracy                         0.8266      1321\n",
            "   macro avg     0.8334    0.8271    0.8259      1321\n",
            "weighted avg     0.8337    0.8266    0.8258      1321\n",
            "\n",
            "Best val auc:  0.8271\n",
            "\n",
            "\n",
            "[[450 184]\n",
            " [ 79 607]]\n",
            "              precision    recall  f1-score   support\n",
            "\n",
            "           0     0.8507    0.7098    0.7739       634\n",
            "           1     0.7674    0.8848    0.8219       686\n",
            "\n",
            "    accuracy                         0.8008      1320\n",
            "   macro avg     0.8090    0.7973    0.7979      1320\n",
            "weighted avg     0.8074    0.8008    0.7988      1320\n",
            "\n",
            "Best val auc:  0.7973\n",
            "\n",
            "\n",
            "[[461 190]\n",
            " [ 72 597]]\n",
            "              precision    recall  f1-score   support\n",
            "\n",
            "           0     0.8649    0.7081    0.7787       651\n",
            "           1     0.7586    0.8924    0.8201       669\n",
            "\n",
            "    accuracy                         0.8015      1320\n",
            "   macro avg     0.8117    0.8003    0.7994      1320\n",
            "weighted avg     0.8110    0.8015    0.7997      1320\n",
            "\n",
            "Best val auc:  0.8003\n",
            "\n",
            "\n",
            "[[485 158]\n",
            " [ 85 592]]\n",
            "              precision    recall  f1-score   support\n",
            "\n",
            "           0     0.8509    0.7543    0.7997       643\n",
            "           1     0.7893    0.8744    0.8297       677\n",
            "\n",
            "    accuracy                         0.8159      1320\n",
            "   macro avg     0.8201    0.8144    0.8147      1320\n",
            "weighted avg     0.8193    0.8159    0.8151      1320\n",
            "\n",
            "Best val auc:  0.8144\n",
            "\n",
            "\n",
            "[[504 170]\n",
            " [ 64 582]]\n",
            "              precision    recall  f1-score   support\n",
            "\n",
            "           0     0.8873    0.7478    0.8116       674\n",
            "           1     0.7739    0.9009    0.8326       646\n",
            "\n",
            "    accuracy                         0.8227      1320\n",
            "   macro avg     0.8306    0.8244    0.8221      1320\n",
            "weighted avg     0.8318    0.8227    0.8219      1320\n",
            "\n",
            "Best val auc:  0.8244\n",
            "\n",
            "\n",
            "[[494 165]\n",
            " [ 71 590]]\n",
            "              precision    recall  f1-score   support\n",
            "\n",
            "           0     0.8743    0.7496    0.8072       659\n",
            "           1     0.7815    0.8926    0.8333       661\n",
            "\n",
            "    accuracy                         0.8212      1320\n",
            "   macro avg     0.8279    0.8211    0.8203      1320\n",
            "weighted avg     0.8278    0.8212    0.8203      1320\n",
            "\n",
            "Best val auc:  0.8211\n",
            "\n",
            "\n",
            "[[484 180]\n",
            " [ 83 573]]\n",
            "              precision    recall  f1-score   support\n",
            "\n",
            "           0     0.8536    0.7289    0.7864       664\n",
            "           1     0.7610    0.8735    0.8133       656\n",
            "\n",
            "    accuracy                         0.8008      1320\n",
            "   macro avg     0.8073    0.8012    0.7998      1320\n",
            "weighted avg     0.8076    0.8008    0.7998      1320\n",
            "\n",
            "Best val auc:  0.8012\n",
            "\n",
            "\n",
            "[[483 174]\n",
            " [ 66 597]]\n",
            "              precision    recall  f1-score   support\n",
            "\n",
            "           0     0.8798    0.7352    0.8010       657\n",
            "           1     0.7743    0.9005    0.8326       663\n",
            "\n",
            "    accuracy                         0.8182      1320\n",
            "   macro avg     0.8271    0.8178    0.8168      1320\n",
            "weighted avg     0.8268    0.8182    0.8169      1320\n",
            "\n",
            "Best val auc:  0.8178\n",
            "\n",
            "\n",
            "[[497 176]\n",
            " [ 74 573]]\n",
            "              precision    recall  f1-score   support\n",
            "\n",
            "           0     0.8704    0.7385    0.7990       673\n",
            "           1     0.7650    0.8856    0.8209       647\n",
            "\n",
            "    accuracy                         0.8106      1320\n",
            "   macro avg     0.8177    0.8121    0.8100      1320\n",
            "weighted avg     0.8187    0.8106    0.8098      1320\n",
            "\n",
            "Best val auc:  0.8121\n",
            "\n",
            "\n",
            "[[489 165]\n",
            " [ 77 589]]\n",
            "              precision    recall  f1-score   support\n",
            "\n",
            "           0     0.8640    0.7477    0.8016       654\n",
            "           1     0.7812    0.8844    0.8296       666\n",
            "\n",
            "    accuracy                         0.8167      1320\n",
            "   macro avg     0.8226    0.8160    0.8156      1320\n",
            "weighted avg     0.8222    0.8167    0.8157      1320\n",
            "\n",
            "Best val auc:  0.8160\n",
            "\n",
            "\n",
            "[[484 189]\n",
            " [ 73 574]]\n",
            "              precision    recall  f1-score   support\n",
            "\n",
            "           0     0.8689    0.7192    0.7870       673\n",
            "           1     0.7523    0.8872    0.8142       647\n",
            "\n",
            "    accuracy                         0.8015      1320\n",
            "   macro avg     0.8106    0.8032    0.8006      1320\n",
            "weighted avg     0.8118    0.8015    0.8003      1320\n",
            "\n",
            "Best val auc:  0.8032\n",
            "\n",
            "\n",
            "[[497 169]\n",
            " [ 75 579]]\n",
            "              precision    recall  f1-score   support\n",
            "\n",
            "           0     0.8689    0.7462    0.8029       666\n",
            "           1     0.7741    0.8853    0.8260       654\n",
            "\n",
            "    accuracy                         0.8152      1320\n",
            "   macro avg     0.8215    0.8158    0.8144      1320\n",
            "weighted avg     0.8219    0.8152    0.8143      1320\n",
            "\n",
            "Best val auc:  0.8158\n",
            "\n"
          ]
        }
      ]
    },
    {
      "cell_type": "markdown",
      "source": [
        "**Curva ROC para el DecisionTreeClassifier**"
      ],
      "metadata": {
        "id": "llEHd6XF48Ni"
      }
    },
    {
      "cell_type": "code",
      "source": [
        "#Curva ROC Arbol de desición\n",
        "\n",
        "classes = classifier.predict(X_test) \n",
        "ns_probs = [0 for _ in range(len(y_test))]\n",
        "\n",
        "ns_auc = roc_auc_score(y_test, ns_probs,average='weighted')\n",
        "classifier_auc = roc_auc_score(y_test,classes,average='weighted')\n",
        "\n",
        "#aps = average_precision_score(y_test, ns_probs)\n",
        "#print(\"Average_presicion_score \"+str(aps))\n",
        "\n",
        "print('Sin entrenar: ROC AUC=%.3f' % (ns_auc))\n",
        "print('Algoritmo arbol de: ROC AUC=%.3f' % (classifier_auc))\n",
        "classifier_probs = classes[:]\n",
        "ns_fpr, ns_tpr, _ = roc_curve(y_test, ns_probs)\n",
        "pyplot.plot(ns_fpr, ns_tpr, linestyle='--', label='Sin entrenar')\n",
        "classifier_fpr, classifier_tpr, _ = roc_curve(y_test, classifier_probs)\n",
        "print()\n",
        "pyplot.plot(classifier_fpr, classifier_tpr, marker='.', label='Curva arbol de desición')\n",
        "pyplot.xlabel('Tasa de Falsos Positivos')\n",
        "pyplot.ylabel('Tasa de Verdaderos Positivos')\n",
        "pyplot.legend()\n",
        "pyplot.show()\n",
        "print()"
      ],
      "metadata": {
        "colab": {
          "base_uri": "https://localhost:8080/",
          "height": 518
        },
        "id": "4Mw6iYm65Dch",
        "outputId": "10aca89c-4386-4604-8fa4-49272b6a6e0f"
      },
      "execution_count": null,
      "outputs": [
        {
          "output_type": "stream",
          "name": "stdout",
          "text": [
            "Sin entrenar: ROC AUC=0.500\n",
            "Algoritmo arbol de: ROC AUC=0.816\n",
            "\n"
          ]
        },
        {
          "output_type": "display_data",
          "data": {
            "text/plain": [
              "<Figure size 640x480 with 1 Axes>"
            ],
            "image/png": "[encoded data removed]"
          },
          "metadata": {}
        },
        {
          "output_type": "stream",
          "name": "stdout",
          "text": [
            "\n"
          ]
        }
      ]
    }
  ]
}