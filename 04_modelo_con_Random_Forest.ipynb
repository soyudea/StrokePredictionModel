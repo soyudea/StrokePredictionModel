{
  "nbformat": 4,
  "nbformat_minor": 0,
  "metadata": {
    "colab": {
      "provenance": [],
      "include_colab_link": true
    },
    "kernelspec": {
      "name": "python3",
      "display_name": "Python 3"
    },
    "language_info": {
      "name": "python"
    }
  },
  "cells": [
    {
      "cell_type": "markdown",
      "metadata": {
        "id": "view-in-github",
        "colab_type": "text"
      },
      "source": [
        "<a href=\"https://colab.research.google.com/github/soyudea/StrokePredictionModel/blob/main/04_modelo_con_Random_Forest.ipynb\" target=\"_parent\"><img src=\"https://colab.research.google.com/assets/colab-badge.svg\" alt=\"Open In Colab\"/></a>"
      ]
    },
    {
      "cell_type": "code",
      "execution_count": null,
      "metadata": {
        "id": "9wrVLn3dByJI"
      },
      "outputs": [],
      "source": [
        "import pandas as pd\n",
        "import numpy as np\n",
        "import math\n",
        "from seaborn import distplot\n",
        "import seaborn as sns\n",
        "import matplotlib.pyplot as plt\n",
        "from sklearn.preprocessing import StandardScaler\n",
        "from sklearn.preprocessing import MinMaxScaler\n",
        "from sklearn.model_selection import KFold\n",
        "from sklearn.metrics import f1_score\n",
        "from sklearn.metrics import confusion_matrix\n",
        "from sklearn.metrics import classification_report\n",
        "from sklearn.pipeline import make_pipeline\n",
        "from sklearn.ensemble import RandomForestClassifier\n",
        "from sklearn.model_selection import train_test_split\n",
        "from sklearn.metrics import median_absolute_error, r2_score, mean_squared_error\n",
        "from matplotlib.patches import split_path_inout\n",
        "from imblearn.over_sampling import RandomOverSampler\n",
        "from sklearn.metrics import average_precision_score\n",
        "from sklearn.metrics import roc_auc_score\n",
        "from sklearn.metrics import roc_curve, auc\n",
        "from matplotlib import pyplot\n",
        "\n",
        "from sklearn.model_selection import GridSearchCV\n",
        "\n",
        "from collections import Counter\n",
        "from sklearn.datasets import make_classification\n",
        "from imblearn.over_sampling import RandomOverSampler\n",
        "\n",
        "from sklearn.decomposition import PCA\n",
        "from sklearn.linear_model import LassoCV\n",
        "from sklearn.metrics import roc_auc_score"
      ]
    },
    {
      "cell_type": "markdown",
      "source": [
        "**1. Cargar Dataset**"
      ],
      "metadata": {
        "id": "vUwynZepCqDI"
      }
    },
    {
      "cell_type": "markdown",
      "source": [
        "Se carga el dataset final luego del preprocesamiento. Se cargan los archivos Dataset.csv y y.csv"
      ],
      "metadata": {
        "id": "q7U_8tacV6wL"
      }
    },
    {
      "cell_type": "code",
      "source": [
        "X = pd.read_csv('Dataset.csv', sep=\",\") \n",
        "y = pd.read_csv('y.csv', sep=\",\") \n",
        "\n",
        "X=X.drop(columns=['Unnamed: 0'])\n",
        "y=y.drop(columns=['Unnamed: 0'])\n"
      ],
      "metadata": {
        "id": "AzhWVTX8V859"
      },
      "execution_count": null,
      "outputs": []
    },
    {
      "cell_type": "code",
      "source": [],
      "metadata": {
        "id": "2eQz2MT0LUwT"
      },
      "execution_count": null,
      "outputs": []
    },
    {
      "cell_type": "markdown",
      "source": [
        "**2. Generador de muestras sintéticas**"
      ],
      "metadata": {
        "id": "hkVAvxO7E_-d"
      }
    },
    {
      "cell_type": "code",
      "source": [
        "pca=PCA(n_components=30) \n",
        "pca.fit(X) #\n",
        "X_pca=pca.transform(X)"
      ],
      "metadata": {
        "id": "XyOQA_M4FIW0"
      },
      "execution_count": null,
      "outputs": []
    },
    {
      "cell_type": "code",
      "source": [
        "ros = RandomOverSampler(random_state=42, sampling_strategy=1.0)                          \n",
        "Xres, yres = ros.fit_resample(X_pca, y)\n",
        "Xtrain, Xtst, ytrain, ytst = train_test_split(Xres,yres, test_size=0.1) #Se toma el 90 % de los datos para Entrenar\n",
        "print (Xtrain.shape, ytrain.shape, Xtst.shape, ytst.shape)\n",
        "X=Xtrain\n",
        "y=ytrain"
      ],
      "metadata": {
        "colab": {
          "base_uri": "https://localhost:8080/"
        },
        "id": "p5AiGhbNFQlZ",
        "outputId": "1023491b-0855-486d-f75f-bb593e352e25"
      },
      "execution_count": null,
      "outputs": [
        {
          "output_type": "stream",
          "name": "stdout",
          "text": [
            "(26409, 30) (26409, 1) (2935, 30) (2935, 1)\n"
          ]
        }
      ]
    },
    {
      "cell_type": "markdown",
      "source": [
        "**3. Cálculo pesos de la clase Parámetro que se usa para minimizar el efecto del desbalance del dataset**"
      ],
      "metadata": {
        "id": "NzX2sSDHFeBV"
      }
    },
    {
      "cell_type": "code",
      "source": [
        "def dar_peso_clase():\n",
        "  Xtrain, Xtest, ytrain, ytest = train_test_split(X, y, test_size = 0.2, train_size = 0.8, random_state = 17)\n",
        "  Number_Muestras_por_Clase = ytrain.value_counts()\n",
        "  Number_Muestras_por_Clase = Number_Muestras_por_Clase.sort_index(axis = 0, ascending = True)\n",
        "  Numero_de_Clases = len(Number_Muestras_por_Clase.index)\n",
        "  Peso_por_Clase = len(ytrain)/(Numero_de_Clases*Number_Muestras_por_Clase)\n",
        "  return Peso_por_Clase"
      ],
      "metadata": {
        "id": "wHIfuG95Fga1"
      },
      "execution_count": null,
      "outputs": []
    },
    {
      "cell_type": "markdown",
      "source": [
        "**4. Modelo de clasificación random Forest Entrenamiento con el 90 % de los datos**\n",
        "\n",
        "https://scikit-learn.org/stable/modules/generated/sklearn.ensemble.RandomForestClassifier.html"
      ],
      "metadata": {
        "id": "eny14wkUF0ue"
      }
    },
    {
      "cell_type": "code",
      "source": [
        "weight = dar_peso_clase() \n",
        "kf = KFokf = KFold(n_splits=10, random_state = True,shuffle=True)\n",
        "\n",
        "X_test =0\n",
        "Y_test =0\n",
        "\n",
        "#warm_start mejoro la velocidad de ejecucion, mejoró la metrica\n",
        "classifier = RandomForestClassifier(min_samples_split=10,\n",
        "                                    ccp_alpha=0.000001,\n",
        "                                    criterion='gini',\n",
        "                                    class_weight = {0: weight[0], 1: weight[1]},\n",
        "                                    random_state=True,max_features =\"sqrt\",\n",
        "                                    warm_start=True,min_impurity_decrease=0.000005)\n",
        "\n",
        "for train_index, test_index in kf.split(X):\n",
        "    \n",
        "    Xtrain, Xtest = X[train_index], X[test_index]\n",
        "    ytrain, ytest = y.iloc[train_index], y.iloc[test_index]\n",
        "    modelo = classifier.fit(Xtrain, ytrain)\n",
        "    ypred = modelo.predict(Xtest)\n",
        "\n",
        "    print()\n",
        "    print(confusion_matrix(ytest, ypred))\n",
        "    print(classification_report(ytest, ypred, digits =4, labels=[0,1]))\n",
        "    s = roc_auc_score(ytest, modelo.predict(Xtest))\n",
        "    print(f'Best val auc: {s: .4f}')"
      ],
      "metadata": {
        "colab": {
          "base_uri": "https://localhost:8080/"
        },
        "id": "k-EhOftTF9mN",
        "outputId": "d9b39a18-8d45-4cf9-db44-7e6b18da4540"
      },
      "execution_count": 15,
      "outputs": [
        {
          "metadata": {
            "tags": null
          },
          "name": "stderr",
          "output_type": "stream",
          "text": [
            "<ipython-input-15-4968c50d344a>:19: DataConversionWarning: A column-vector y was passed when a 1d array was expected. Please change the shape of y to (n_samples,), for example using ravel().\n",
            "  modelo = classifier.fit(Xtrain, ytrain)\n"
          ]
        },
        {
          "metadata": {
            "tags": null
          },
          "name": "stdout",
          "output_type": "stream",
          "text": [
            "\n",
            "[[ 976  322]\n",
            " [ 186 1157]]\n",
            "              precision    recall  f1-score   support\n",
            "\n",
            "           0     0.8399    0.7519    0.7935      1298\n",
            "           1     0.7823    0.8615    0.8200      1343\n",
            "\n",
            "    accuracy                         0.8076      2641\n",
            "   macro avg     0.8111    0.8067    0.8067      2641\n",
            "weighted avg     0.8106    0.8076    0.8070      2641\n",
            "\n",
            "Best val auc:  0.8067\n",
            "\n",
            "[[ 983  310]\n",
            " [ 160 1188]]\n",
            "              precision    recall  f1-score   support\n",
            "\n",
            "           0     0.8600    0.7602    0.8071      1293\n",
            "           1     0.7931    0.8813    0.8349      1348\n",
            "\n",
            "    accuracy                         0.8220      2641\n",
            "   macro avg     0.8265    0.8208    0.8210      2641\n",
            "weighted avg     0.8258    0.8220    0.8212      2641\n",
            "\n"
          ]
        },
        {
          "metadata": {
            "tags": null
          },
          "name": "stderr",
          "output_type": "stream",
          "text": [
            "<ipython-input-15-4968c50d344a>:19: DataConversionWarning: A column-vector y was passed when a 1d array was expected. Please change the shape of y to (n_samples,), for example using ravel().\n",
            "  modelo = classifier.fit(Xtrain, ytrain)\n",
            "/usr/local/lib/python3.10/dist-packages/sklearn/ensemble/_forest.py:452: UserWarning: Warm-start fitting without increasing n_estimators does not fit new trees.\n",
            "  warn(\n",
            "<ipython-input-15-4968c50d344a>:19: DataConversionWarning: A column-vector y was passed when a 1d array was expected. Please change the shape of y to (n_samples,), for example using ravel().\n",
            "  modelo = classifier.fit(Xtrain, ytrain)\n",
            "/usr/local/lib/python3.10/dist-packages/sklearn/ensemble/_forest.py:452: UserWarning: Warm-start fitting without increasing n_estimators does not fit new trees.\n",
            "  warn(\n"
          ]
        },
        {
          "metadata": {
            "tags": null
          },
          "name": "stdout",
          "output_type": "stream",
          "text": [
            "Best val auc:  0.8208\n",
            "\n",
            "[[1017  333]\n",
            " [ 148 1143]]\n",
            "              precision    recall  f1-score   support\n",
            "\n",
            "           0     0.8730    0.7533    0.8087      1350\n",
            "           1     0.7744    0.8854    0.8262      1291\n",
            "\n",
            "    accuracy                         0.8179      2641\n",
            "   macro avg     0.8237    0.8193    0.8175      2641\n",
            "weighted avg     0.8248    0.8179    0.8173      2641\n",
            "\n",
            "Best val auc:  0.8193\n"
          ]
        },
        {
          "metadata": {
            "tags": null
          },
          "name": "stderr",
          "output_type": "stream",
          "text": [
            "<ipython-input-15-4968c50d344a>:19: DataConversionWarning: A column-vector y was passed when a 1d array was expected. Please change the shape of y to (n_samples,), for example using ravel().\n",
            "  modelo = classifier.fit(Xtrain, ytrain)\n",
            "/usr/local/lib/python3.10/dist-packages/sklearn/ensemble/_forest.py:452: UserWarning: Warm-start fitting without increasing n_estimators does not fit new trees.\n",
            "  warn(\n",
            "<ipython-input-15-4968c50d344a>:19: DataConversionWarning: A column-vector y was passed when a 1d array was expected. Please change the shape of y to (n_samples,), for example using ravel().\n",
            "  modelo = classifier.fit(Xtrain, ytrain)\n",
            "/usr/local/lib/python3.10/dist-packages/sklearn/ensemble/_forest.py:452: UserWarning: Warm-start fitting without increasing n_estimators does not fit new trees.\n",
            "  warn(\n"
          ]
        },
        {
          "metadata": {
            "tags": null
          },
          "name": "stdout",
          "output_type": "stream",
          "text": [
            "\n",
            "[[ 977  349]\n",
            " [ 172 1143]]\n",
            "              precision    recall  f1-score   support\n",
            "\n",
            "           0     0.8503    0.7368    0.7895      1326\n",
            "           1     0.7661    0.8692    0.8144      1315\n",
            "\n",
            "    accuracy                         0.8027      2641\n",
            "   macro avg     0.8082    0.8030    0.8019      2641\n",
            "weighted avg     0.8084    0.8027    0.8019      2641\n",
            "\n",
            "Best val auc:  0.8030\n",
            "\n",
            "[[ 991  341]\n",
            " [ 167 1142]]\n",
            "              precision    recall  f1-score   support\n",
            "\n",
            "           0     0.8558    0.7440    0.7960      1332\n",
            "           1     0.7701    0.8724    0.8181      1309\n",
            "\n",
            "    accuracy                         0.8076      2641\n",
            "   macro avg     0.8129    0.8082    0.8070      2641\n",
            "weighted avg     0.8133    0.8076    0.8069      2641\n",
            "\n",
            "Best val auc:  0.8082\n",
            "\n",
            "[[ 974  316]\n",
            " [ 169 1182]]\n",
            "              precision    recall  f1-score   support\n",
            "\n",
            "           0     0.8521    0.7550    0.8007      1290\n",
            "           1     0.7891    0.8749    0.8298      1351\n",
            "\n",
            "    accuracy                         0.8164      2641\n",
            "   macro avg     0.8206    0.8150    0.8152      2641\n",
            "weighted avg     0.8199    0.8164    0.8155      2641\n",
            "\n",
            "Best val auc:  0.8150\n"
          ]
        },
        {
          "metadata": {
            "tags": null
          },
          "name": "stderr",
          "output_type": "stream",
          "text": [
            "<ipython-input-15-4968c50d344a>:19: DataConversionWarning: A column-vector y was passed when a 1d array was expected. Please change the shape of y to (n_samples,), for example using ravel().\n",
            "  modelo = classifier.fit(Xtrain, ytrain)\n",
            "/usr/local/lib/python3.10/dist-packages/sklearn/ensemble/_forest.py:452: UserWarning: Warm-start fitting without increasing n_estimators does not fit new trees.\n",
            "  warn(\n",
            "<ipython-input-15-4968c50d344a>:19: DataConversionWarning: A column-vector y was passed when a 1d array was expected. Please change the shape of y to (n_samples,), for example using ravel().\n",
            "  modelo = classifier.fit(Xtrain, ytrain)\n",
            "/usr/local/lib/python3.10/dist-packages/sklearn/ensemble/_forest.py:452: UserWarning: Warm-start fitting without increasing n_estimators does not fit new trees.\n",
            "  warn(\n"
          ]
        },
        {
          "metadata": {
            "tags": null
          },
          "name": "stdout",
          "output_type": "stream",
          "text": [
            "\n",
            "[[ 953  343]\n",
            " [ 156 1189]]\n",
            "              precision    recall  f1-score   support\n",
            "\n",
            "           0     0.8593    0.7353    0.7925      1296\n",
            "           1     0.7761    0.8840    0.8266      1345\n",
            "\n",
            "    accuracy                         0.8111      2641\n",
            "   macro avg     0.8177    0.8097    0.8095      2641\n",
            "weighted avg     0.8169    0.8111    0.8099      2641\n",
            "\n",
            "Best val auc:  0.8097\n",
            "\n",
            "[[1026  320]\n",
            " [ 158 1137]]\n"
          ]
        },
        {
          "metadata": {
            "tags": null
          },
          "name": "stderr",
          "output_type": "stream",
          "text": [
            "<ipython-input-15-4968c50d344a>:19: DataConversionWarning: A column-vector y was passed when a 1d array was expected. Please change the shape of y to (n_samples,), for example using ravel().\n",
            "  modelo = classifier.fit(Xtrain, ytrain)\n",
            "/usr/local/lib/python3.10/dist-packages/sklearn/ensemble/_forest.py:452: UserWarning: Warm-start fitting without increasing n_estimators does not fit new trees.\n",
            "  warn(\n"
          ]
        },
        {
          "metadata": {
            "tags": null
          },
          "name": "stdout",
          "output_type": "stream",
          "text": [
            "              precision    recall  f1-score   support\n",
            "\n",
            "           0     0.8666    0.7623    0.8111      1346\n",
            "           1     0.7804    0.8780    0.8263      1295\n",
            "\n",
            "    accuracy                         0.8190      2641\n",
            "   macro avg     0.8235    0.8201    0.8187      2641\n",
            "weighted avg     0.8243    0.8190    0.8185      2641\n",
            "\n",
            "Best val auc:  0.8201\n",
            "\n",
            "[[ 960  362]\n",
            " [ 141 1178]]\n"
          ]
        },
        {
          "metadata": {
            "tags": null
          },
          "name": "stderr",
          "output_type": "stream",
          "text": [
            "<ipython-input-15-4968c50d344a>:19: DataConversionWarning: A column-vector y was passed when a 1d array was expected. Please change the shape of y to (n_samples,), for example using ravel().\n",
            "  modelo = classifier.fit(Xtrain, ytrain)\n",
            "/usr/local/lib/python3.10/dist-packages/sklearn/ensemble/_forest.py:452: UserWarning: Warm-start fitting without increasing n_estimators does not fit new trees.\n",
            "  warn(\n"
          ]
        },
        {
          "metadata": {
            "tags": null
          },
          "name": "stdout",
          "output_type": "stream",
          "text": [
            "              precision    recall  f1-score   support\n",
            "\n",
            "           0     0.8719    0.7262    0.7924      1322\n",
            "           1     0.7649    0.8931    0.8241      1319\n",
            "\n",
            "    accuracy                         0.8095      2641\n",
            "   macro avg     0.8184    0.8096    0.8082      2641\n",
            "weighted avg     0.8185    0.8095    0.8082      2641\n",
            "\n",
            "Best val auc:  0.8096\n",
            "\n",
            "[[ 992  346]\n",
            " [ 149 1153]]\n",
            "              precision    recall  f1-score   support\n",
            "\n",
            "           0     0.8694    0.7414    0.8003      1338\n",
            "           1     0.7692    0.8856    0.8233      1302\n",
            "\n",
            "    accuracy                         0.8125      2640\n",
            "   macro avg     0.8193    0.8135    0.8118      2640\n",
            "weighted avg     0.8200    0.8125    0.8116      2640\n",
            "\n",
            "Best val auc:  0.8135\n"
          ]
        },
        {
          "metadata": {
            "tags": null
          },
          "name": "stderr",
          "output_type": "stream",
          "text": [
            "<ipython-input-15-4968c50d344a>:19: DataConversionWarning: A column-vector y was passed when a 1d array was expected. Please change the shape of y to (n_samples,), for example using ravel().\n",
            "  modelo = classifier.fit(Xtrain, ytrain)\n",
            "/usr/local/lib/python3.10/dist-packages/sklearn/ensemble/_forest.py:452: UserWarning: Warm-start fitting without increasing n_estimators does not fit new trees.\n",
            "  warn(\n"
          ]
        }
      ]
    },
    {
      "cell_type": "markdown",
      "source": [
        "**5. Curva ROC: RandomForest**"
      ],
      "metadata": {
        "id": "kwJKeyFvHvd_"
      }
    },
    {
      "cell_type": "code",
      "source": [
        "classes = classifier.predict(Xtest)\n",
        "ns_probs = [0 for _ in range(len(ytest))]\n",
        "ns_auc = roc_auc_score(ytest, ns_probs,average='weighted')\n",
        "classifier_auc = roc_auc_score(ytest,classes,average='weighted')\n",
        "#aps = average_precision_score(ytest, ns_probs)\n",
        "print()\n",
        "#print(\"Average_presicion_score \"+str(aps))\n",
        "print('Sin entrenar: ROC AUC=%.3f' % (ns_auc))\n",
        "print('Algoritmo RandomForest: ROC AUC=%.3f' % (classifier_auc))\n",
        "print()\n",
        "classifier_probs = classes[:]\n",
        "ns_fpr, ns_tpr, _ = roc_curve(ytest, ns_probs)\n",
        "pyplot.plot(ns_fpr, ns_tpr, linestyle='--', label='Sin entrenar')\n",
        "classifier_fpr,classifier_tpr, _ = roc_curve(ytest, classifier_probs)\n",
        "print()\n",
        "pyplot.plot(classifier_fpr,classifier_tpr, marker='.', label='Curva modelo Random Forest')\n",
        "pyplot.xlabel('Tasa de Falsos Positivos')\n",
        "pyplot.ylabel('Tasa de Verdaderos Positivos')\n",
        "pyplot.legend()\n",
        "pyplot.show()"
      ],
      "metadata": {
        "colab": {
          "base_uri": "https://localhost:8080/",
          "height": 536
        },
        "id": "ftZ2DbfFHyZu",
        "outputId": "bab2f87f-614d-476d-e0fd-31654eb8bbb9"
      },
      "execution_count": 16,
      "outputs": [
        {
          "metadata": {
            "tags": null
          },
          "name": "stdout",
          "output_type": "stream",
          "text": [
            "\n",
            "Sin entrenar: ROC AUC=0.500\n",
            "Algoritmo RandomForest: ROC AUC=0.813\n",
            "\n",
            "\n"
          ]
        },
        {
          "data": {
            "image/png": "[encoded data removed]",
            "text/plain": [
              "<Figure size 640x480 with 1 Axes>"
            ]
          },
          "metadata": {},
          "output_type": "display_data"
        }
      ]
    }
  ]
}