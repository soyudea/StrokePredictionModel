{
  "nbformat": 4,
  "nbformat_minor": 0,
  "metadata": {
    "colab": {
      "provenance": [],
      "include_colab_link": true
    },
    "kernelspec": {
      "name": "python3",
      "display_name": "Python 3"
    },
    "language_info": {
      "name": "python"
    }
  },
  "cells": [
    {
      "cell_type": "markdown",
      "metadata": {
        "id": "view-in-github",
        "colab_type": "text"
      },
      "source": [
        "<a href=\"https://colab.research.google.com/github/soyudea/StrokePredictionModel/blob/main/04_modelo_con_Random_Forest.ipynb\" target=\"_parent\"><img src=\"https://colab.research.google.com/assets/colab-badge.svg\" alt=\"Open In Colab\"/></a>"
      ]
    },
    {
      "cell_type": "code",
      "execution_count": 10,
      "metadata": {
        "id": "9wrVLn3dByJI"
      },
      "outputs": [],
      "source": [
        "import pandas as pd\n",
        "import numpy as np\n",
        "import math\n",
        "from seaborn import distplot\n",
        "import seaborn as sns\n",
        "import matplotlib.pyplot as plt\n",
        "from sklearn.preprocessing import StandardScaler\n",
        "from sklearn.preprocessing import MinMaxScaler\n",
        "from sklearn.model_selection import KFold\n",
        "from sklearn.metrics import f1_score\n",
        "from sklearn.metrics import confusion_matrix\n",
        "from sklearn.metrics import classification_report\n",
        "from sklearn.pipeline import make_pipeline\n",
        "from sklearn.ensemble import RandomForestClassifier\n",
        "from sklearn.model_selection import train_test_split\n",
        "from sklearn.metrics import median_absolute_error, r2_score, mean_squared_error\n",
        "from matplotlib.patches import split_path_inout\n",
        "from imblearn.over_sampling import RandomOverSampler\n",
        "from sklearn.metrics import average_precision_score\n",
        "from sklearn.metrics import roc_auc_score\n",
        "from sklearn.metrics import roc_curve, auc\n",
        "from matplotlib import pyplot\n",
        "\n",
        "from sklearn.model_selection import GridSearchCV\n",
        "\n",
        "from collections import Counter\n",
        "from sklearn.datasets import make_classification\n",
        "from imblearn.over_sampling import RandomOverSampler\n",
        "\n",
        "from sklearn.decomposition import PCA\n",
        "from sklearn.linear_model import LassoCV\n",
        "from sklearn.metrics import roc_auc_score"
      ]
    },
    {
      "cell_type": "markdown",
      "source": [
        "**1. Cargar Dataset**"
      ],
      "metadata": {
        "id": "vUwynZepCqDI"
      }
    },
    {
      "cell_type": "markdown",
      "source": [
        "Se carga el dataset final luego del preprocesamiento. Se cargan los archivos Dataset.csv y y.csv"
      ],
      "metadata": {
        "id": "q7U_8tacV6wL"
      }
    },
    {
      "cell_type": "code",
      "source": [
        "X = pd.read_csv('Dataset.csv', sep=\",\") \n",
        "y = pd.read_csv('y.csv', sep=\",\") \n",
        "\n",
        "X=X.drop(columns=['Unnamed: 0'])\n",
        "y=y.drop(columns=['Unnamed: 0'])\n"
      ],
      "metadata": {
        "id": "AzhWVTX8V859"
      },
      "execution_count": 11,
      "outputs": []
    },
    {
      "cell_type": "code",
      "source": [],
      "metadata": {
        "id": "2eQz2MT0LUwT"
      },
      "execution_count": 11,
      "outputs": []
    },
    {
      "cell_type": "markdown",
      "source": [
        "**2. Generador de muestras sintéticas**"
      ],
      "metadata": {
        "id": "hkVAvxO7E_-d"
      }
    },
    {
      "cell_type": "code",
      "source": [
        "pca=PCA(n_components=30) \n",
        "pca.fit(X) #\n",
        "X_pca=pca.transform(X)"
      ],
      "metadata": {
        "id": "XyOQA_M4FIW0"
      },
      "execution_count": 12,
      "outputs": []
    },
    {
      "cell_type": "code",
      "source": [
        "ros = RandomOverSampler(random_state=42, sampling_strategy=1.0)                          \n",
        "Xres, yres = ros.fit_resample(X_pca, y)\n",
        "Xtrain, Xtst, ytrain, ytst = train_test_split(Xres,yres, test_size=0.1) #Se toma el 90 % de los datos para Entrenar\n",
        "print (Xtrain.shape, ytrain.shape, Xtst.shape, ytst.shape)\n",
        "X=Xtrain\n",
        "y=ytrain"
      ],
      "metadata": {
        "colab": {
          "base_uri": "https://localhost:8080/"
        },
        "id": "p5AiGhbNFQlZ",
        "outputId": "1023491b-0855-486d-f75f-bb593e352e25"
      },
      "execution_count": 13,
      "outputs": [
        {
          "output_type": "stream",
          "name": "stdout",
          "text": [
            "(26409, 30) (26409, 1) (2935, 30) (2935, 1)\n"
          ]
        }
      ]
    },
    {
      "cell_type": "markdown",
      "source": [
        "**3. Cálculo pesos de la clase Parámetro que se usa para minimizar el efecto del desbalance del dataset**"
      ],
      "metadata": {
        "id": "NzX2sSDHFeBV"
      }
    },
    {
      "cell_type": "code",
      "source": [
        "def dar_peso_clase():\n",
        "  Xtrain, Xtest, ytrain, ytest = train_test_split(X, y, test_size = 0.2, train_size = 0.8, random_state = 17)\n",
        "  Number_Muestras_por_Clase = ytrain.value_counts()\n",
        "  Number_Muestras_por_Clase = Number_Muestras_por_Clase.sort_index(axis = 0, ascending = True)\n",
        "  Numero_de_Clases = len(Number_Muestras_por_Clase.index)\n",
        "  Peso_por_Clase = len(ytrain)/(Numero_de_Clases*Number_Muestras_por_Clase)\n",
        "  return Peso_por_Clase"
      ],
      "metadata": {
        "id": "wHIfuG95Fga1"
      },
      "execution_count": 14,
      "outputs": []
    },
    {
      "cell_type": "markdown",
      "source": [
        "**4. Modelo de clasificación random Forest Entrenamiento con el 90 % de los datos**\n",
        "\n",
        "https://scikit-learn.org/stable/modules/generated/sklearn.ensemble.RandomForestClassifier.html"
      ],
      "metadata": {
        "id": "eny14wkUF0ue"
      }
    },
    {
      "cell_type": "code",
      "source": [
        "weight = dar_peso_clase() \n",
        "kf = KFokf = KFold(n_splits=10, random_state = True,shuffle=True)\n",
        "\n",
        "X_test =0\n",
        "Y_test =0\n",
        "\n",
        "#warm_start mejoro la velocidad de ejecucion, mejoró la metrica\n",
        "classifier = RandomForestClassifier(min_samples_split=10,\n",
        "                                    ccp_alpha=0.000001,\n",
        "                                    criterion='gini',\n",
        "                                    class_weight = {0: weight[0], 1: weight[1]},\n",
        "                                    random_state=True,max_features =\"sqrt\",\n",
        "                                    warm_start=True,min_impurity_decrease=0.000005)\n",
        "\n",
        "for train_index, test_index in kf.split(X):\n",
        "    \n",
        "    Xtrain, Xtest = X[train_index], X[test_index]\n",
        "    ytrain, ytest = y.iloc[train_index], y.iloc[test_index]\n",
        "    modelo = classifier.fit(Xtrain, ytrain)\n",
        "    ypred = modelo.predict(Xtest)\n",
        "\n",
        "    print()\n",
        "    print(confusion_matrix(ytest, ypred))\n",
        "    print(classification_report(ytest, ypred, digits =4, labels=[0,1]))\n",
        "    s = roc_auc_score(ytest, modelo.predict(Xtest))\n",
        "    print(f'Best val auc: {s: .4f}')"
      ],
      "metadata": {
        "colab": {
          "base_uri": "https://localhost:8080/"
        },
        "id": "k-EhOftTF9mN",
        "outputId": "433bb187-59b2-4cfd-fc6c-d186a2b3f6a6"
      },
      "execution_count": 15,
      "outputs": [
        {
          "output_type": "stream",
          "name": "stderr",
          "text": [
            "<ipython-input-15-4968c50d344a>:19: DataConversionWarning: A column-vector y was passed when a 1d array was expected. Please change the shape of y to (n_samples,), for example using ravel().\n",
            "  modelo = classifier.fit(Xtrain, ytrain)\n"
          ]
        },
        {
          "output_type": "stream",
          "name": "stdout",
          "text": [
            "\n",
            "[[ 960  348]\n",
            " [ 138 1195]]\n",
            "              precision    recall  f1-score   support\n",
            "\n",
            "           0     0.8743    0.7339    0.7980      1308\n",
            "           1     0.7745    0.8965    0.8310      1333\n",
            "\n",
            "    accuracy                         0.8160      2641\n",
            "   macro avg     0.8244    0.8152    0.8145      2641\n",
            "weighted avg     0.8239    0.8160    0.8147      2641\n",
            "\n",
            "Best val auc:  0.8152\n",
            "\n"
          ]
        },
        {
          "output_type": "stream",
          "name": "stderr",
          "text": [
            "<ipython-input-15-4968c50d344a>:19: DataConversionWarning: A column-vector y was passed when a 1d array was expected. Please change the shape of y to (n_samples,), for example using ravel().\n",
            "  modelo = classifier.fit(Xtrain, ytrain)\n",
            "/usr/local/lib/python3.10/dist-packages/sklearn/ensemble/_forest.py:452: UserWarning: Warm-start fitting without increasing n_estimators does not fit new trees.\n",
            "  warn(\n",
            "<ipython-input-15-4968c50d344a>:19: DataConversionWarning: A column-vector y was passed when a 1d array was expected. Please change the shape of y to (n_samples,), for example using ravel().\n",
            "  modelo = classifier.fit(Xtrain, ytrain)\n",
            "/usr/local/lib/python3.10/dist-packages/sklearn/ensemble/_forest.py:452: UserWarning: Warm-start fitting without increasing n_estimators does not fit new trees.\n",
            "  warn(\n"
          ]
        },
        {
          "output_type": "stream",
          "name": "stdout",
          "text": [
            "[[ 968  366]\n",
            " [ 131 1176]]\n",
            "              precision    recall  f1-score   support\n",
            "\n",
            "           0     0.8808    0.7256    0.7957      1334\n",
            "           1     0.7626    0.8998    0.8256      1307\n",
            "\n",
            "    accuracy                         0.8118      2641\n",
            "   macro avg     0.8217    0.8127    0.8106      2641\n",
            "weighted avg     0.8223    0.8118    0.8105      2641\n",
            "\n",
            "Best val auc:  0.8127\n",
            "\n",
            "[[ 961  350]\n",
            " [ 149 1181]]\n",
            "              precision    recall  f1-score   support\n",
            "\n",
            "           0     0.8658    0.7330    0.7939      1311\n",
            "           1     0.7714    0.8880    0.8256      1330\n",
            "\n",
            "    accuracy                         0.8111      2641\n",
            "   macro avg     0.8186    0.8105    0.8097      2641\n",
            "weighted avg     0.8182    0.8111    0.8099      2641\n",
            "\n",
            "Best val auc:  0.8105\n",
            "\n",
            "[[ 951  330]\n",
            " [ 126 1234]]\n",
            "              precision    recall  f1-score   support\n",
            "\n",
            "           0     0.8830    0.7424    0.8066      1281\n",
            "           1     0.7890    0.9074    0.8440      1360\n",
            "\n",
            "    accuracy                         0.8273      2641\n",
            "   macro avg     0.8360    0.8249    0.8253      2641\n",
            "weighted avg     0.8346    0.8273    0.8259      2641\n",
            "\n",
            "Best val auc:  0.8249\n"
          ]
        },
        {
          "output_type": "stream",
          "name": "stderr",
          "text": [
            "<ipython-input-15-4968c50d344a>:19: DataConversionWarning: A column-vector y was passed when a 1d array was expected. Please change the shape of y to (n_samples,), for example using ravel().\n",
            "  modelo = classifier.fit(Xtrain, ytrain)\n",
            "/usr/local/lib/python3.10/dist-packages/sklearn/ensemble/_forest.py:452: UserWarning: Warm-start fitting without increasing n_estimators does not fit new trees.\n",
            "  warn(\n",
            "<ipython-input-15-4968c50d344a>:19: DataConversionWarning: A column-vector y was passed when a 1d array was expected. Please change the shape of y to (n_samples,), for example using ravel().\n",
            "  modelo = classifier.fit(Xtrain, ytrain)\n",
            "/usr/local/lib/python3.10/dist-packages/sklearn/ensemble/_forest.py:452: UserWarning: Warm-start fitting without increasing n_estimators does not fit new trees.\n",
            "  warn(\n"
          ]
        },
        {
          "output_type": "stream",
          "name": "stdout",
          "text": [
            "\n",
            "[[ 993  320]\n",
            " [ 133 1195]]\n",
            "              precision    recall  f1-score   support\n",
            "\n",
            "           0     0.8819    0.7563    0.8143      1313\n",
            "           1     0.7888    0.8998    0.8407      1328\n",
            "\n",
            "    accuracy                         0.8285      2641\n",
            "   macro avg     0.8353    0.8281    0.8275      2641\n",
            "weighted avg     0.8351    0.8285    0.8275      2641\n",
            "\n",
            "Best val auc:  0.8281\n",
            "\n",
            "[[ 988  390]\n",
            " [ 141 1122]]\n",
            "              precision    recall  f1-score   support\n",
            "\n",
            "           0     0.8751    0.7170    0.7882      1378\n",
            "           1     0.7421    0.8884    0.8086      1263\n",
            "\n",
            "    accuracy                         0.7989      2641\n",
            "   macro avg     0.8086    0.8027    0.7984      2641\n",
            "weighted avg     0.8115    0.7989    0.7980      2641\n",
            "\n"
          ]
        },
        {
          "output_type": "stream",
          "name": "stderr",
          "text": [
            "<ipython-input-15-4968c50d344a>:19: DataConversionWarning: A column-vector y was passed when a 1d array was expected. Please change the shape of y to (n_samples,), for example using ravel().\n",
            "  modelo = classifier.fit(Xtrain, ytrain)\n",
            "/usr/local/lib/python3.10/dist-packages/sklearn/ensemble/_forest.py:452: UserWarning: Warm-start fitting without increasing n_estimators does not fit new trees.\n",
            "  warn(\n",
            "<ipython-input-15-4968c50d344a>:19: DataConversionWarning: A column-vector y was passed when a 1d array was expected. Please change the shape of y to (n_samples,), for example using ravel().\n",
            "  modelo = classifier.fit(Xtrain, ytrain)\n",
            "/usr/local/lib/python3.10/dist-packages/sklearn/ensemble/_forest.py:452: UserWarning: Warm-start fitting without increasing n_estimators does not fit new trees.\n",
            "  warn(\n"
          ]
        },
        {
          "output_type": "stream",
          "name": "stdout",
          "text": [
            "Best val auc:  0.8027\n",
            "\n",
            "[[ 964  371]\n",
            " [ 134 1172]]\n",
            "              precision    recall  f1-score   support\n",
            "\n",
            "           0     0.8780    0.7221    0.7924      1335\n",
            "           1     0.7596    0.8974    0.8227      1306\n",
            "\n",
            "    accuracy                         0.8088      2641\n",
            "   macro avg     0.8188    0.8097    0.8076      2641\n",
            "weighted avg     0.8194    0.8088    0.8074      2641\n",
            "\n",
            "Best val auc:  0.8097\n"
          ]
        },
        {
          "output_type": "stream",
          "name": "stderr",
          "text": [
            "<ipython-input-15-4968c50d344a>:19: DataConversionWarning: A column-vector y was passed when a 1d array was expected. Please change the shape of y to (n_samples,), for example using ravel().\n",
            "  modelo = classifier.fit(Xtrain, ytrain)\n",
            "/usr/local/lib/python3.10/dist-packages/sklearn/ensemble/_forest.py:452: UserWarning: Warm-start fitting without increasing n_estimators does not fit new trees.\n",
            "  warn(\n",
            "<ipython-input-15-4968c50d344a>:19: DataConversionWarning: A column-vector y was passed when a 1d array was expected. Please change the shape of y to (n_samples,), for example using ravel().\n",
            "  modelo = classifier.fit(Xtrain, ytrain)\n",
            "/usr/local/lib/python3.10/dist-packages/sklearn/ensemble/_forest.py:452: UserWarning: Warm-start fitting without increasing n_estimators does not fit new trees.\n",
            "  warn(\n"
          ]
        },
        {
          "output_type": "stream",
          "name": "stdout",
          "text": [
            "\n",
            "[[ 948  380]\n",
            " [ 150 1163]]\n",
            "              precision    recall  f1-score   support\n",
            "\n",
            "           0     0.8634    0.7139    0.7815      1328\n",
            "           1     0.7537    0.8858    0.8144      1313\n",
            "\n",
            "    accuracy                         0.7993      2641\n",
            "   macro avg     0.8086    0.7998    0.7980      2641\n",
            "weighted avg     0.8089    0.7993    0.7979      2641\n",
            "\n",
            "Best val auc:  0.7998\n",
            "\n",
            "[[ 973  373]\n",
            " [ 117 1178]]\n",
            "              precision    recall  f1-score   support\n",
            "\n",
            "           0     0.8927    0.7229    0.7989      1346\n",
            "           1     0.7595    0.9097    0.8278      1295\n",
            "\n",
            "    accuracy                         0.8145      2641\n",
            "   macro avg     0.8261    0.8163    0.8133      2641\n",
            "weighted avg     0.8274    0.8145    0.8131      2641\n",
            "\n",
            "Best val auc:  0.8163\n",
            "\n",
            "[[ 926  362]\n",
            " [ 147 1205]]\n",
            "              precision    recall  f1-score   support\n",
            "\n",
            "           0     0.8630    0.7189    0.7844      1288\n",
            "           1     0.7690    0.8913    0.8256      1352\n",
            "\n",
            "    accuracy                         0.8072      2640\n",
            "   macro avg     0.8160    0.8051    0.8050      2640\n",
            "weighted avg     0.8149    0.8072    0.8055      2640\n",
            "\n",
            "Best val auc:  0.8051\n"
          ]
        },
        {
          "output_type": "stream",
          "name": "stderr",
          "text": [
            "<ipython-input-15-4968c50d344a>:19: DataConversionWarning: A column-vector y was passed when a 1d array was expected. Please change the shape of y to (n_samples,), for example using ravel().\n",
            "  modelo = classifier.fit(Xtrain, ytrain)\n",
            "/usr/local/lib/python3.10/dist-packages/sklearn/ensemble/_forest.py:452: UserWarning: Warm-start fitting without increasing n_estimators does not fit new trees.\n",
            "  warn(\n"
          ]
        }
      ]
    },
    {
      "cell_type": "markdown",
      "source": [
        "**5. Curva ROC: RandomForest**"
      ],
      "metadata": {
        "id": "kwJKeyFvHvd_"
      }
    },
    {
      "cell_type": "code",
      "source": [
        "classes = classifier.predict(Xtest)\n",
        "ns_probs = [0 for _ in range(len(ytest))]\n",
        "ns_auc = roc_auc_score(ytest, ns_probs,average='weighted')\n",
        "classifier_auc = roc_auc_score(ytest,classes,average='weighted')\n",
        "#aps = average_precision_score(ytest, ns_probs)\n",
        "print()\n",
        "#print(\"Average_presicion_score \"+str(aps))\n",
        "print('Sin entrenar: ROC AUC=%.3f' % (ns_auc))\n",
        "print('Algoritmo RandomForest: ROC AUC=%.3f' % (classifier_auc))\n",
        "print()\n",
        "classifier_probs = classes[:]\n",
        "ns_fpr, ns_tpr, _ = roc_curve(ytest, ns_probs)\n",
        "pyplot.plot(ns_fpr, ns_tpr, linestyle='--', label='Sin entrenar')\n",
        "classifier_fpr,classifier_tpr, _ = roc_curve(ytest, classifier_probs)\n",
        "print()\n",
        "pyplot.plot(classifier_fpr,classifier_tpr, marker='.', label='Curva modelo Random Forest')\n",
        "pyplot.xlabel('Tasa de Falsos Positivos')\n",
        "pyplot.ylabel('Tasa de Verdaderos Positivos')\n",
        "pyplot.legend()\n",
        "pyplot.show()"
      ],
      "metadata": {
        "colab": {
          "base_uri": "https://localhost:8080/",
          "height": 536
        },
        "id": "ftZ2DbfFHyZu",
        "outputId": "20bbc6c6-40d6-4873-bd66-930db716c42c"
      },
      "execution_count": 16,
      "outputs": [
        {
          "output_type": "stream",
          "name": "stdout",
          "text": [
            "\n",
            "Sin entrenar: ROC AUC=0.500\n",
            "Algoritmo RandomForest: ROC AUC=0.805\n",
            "\n",
            "\n"
          ]
        },
        {
          "output_type": "display_data",
          "data": {
            "text/plain": [
              "<Figure size 640x480 with 1 Axes>"
            ],
            "image/png": "[encoded data removed]"
          },
          "metadata": {}
        }
      ]
    }
  ]
}