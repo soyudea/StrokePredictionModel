{
  "nbformat": 4,
  "nbformat_minor": 0,
  "metadata": {
    "colab": {
      "provenance": [],
      "include_colab_link": true
    },
    "kernelspec": {
      "name": "python3",
      "display_name": "Python 3"
    },
    "language_info": {
      "name": "python"
    }
  },
  "cells": [
    {
      "cell_type": "markdown",
      "metadata": {
        "id": "view-in-github",
        "colab_type": "text"
      },
      "source": [
        "<a href=\"https://colab.research.google.com/github/soyudea/StrokePredictionModel/blob/main/04_modelo_con_Random_Forest.ipynb\" target=\"_parent\"><img src=\"https://colab.research.google.com/assets/colab-badge.svg\" alt=\"Open In Colab\"/></a>"
      ]
    },
    {
      "cell_type": "code",
      "execution_count": 3,
      "metadata": {
        "id": "9wrVLn3dByJI"
      },
      "outputs": [],
      "source": [
        "import pandas as pd\n",
        "import numpy as np\n",
        "import math\n",
        "from seaborn import distplot\n",
        "import seaborn as sns\n",
        "import matplotlib.pyplot as plt\n",
        "from sklearn.preprocessing import StandardScaler\n",
        "from sklearn.preprocessing import MinMaxScaler\n",
        "from sklearn.model_selection import KFold\n",
        "from sklearn.metrics import f1_score\n",
        "from sklearn.metrics import confusion_matrix\n",
        "from sklearn.metrics import classification_report\n",
        "from sklearn.pipeline import make_pipeline\n",
        "from sklearn.ensemble import RandomForestClassifier\n",
        "from sklearn.model_selection import train_test_split\n",
        "from sklearn.metrics import median_absolute_error, r2_score, mean_squared_error\n",
        "from matplotlib.patches import split_path_inout\n",
        "from imblearn.over_sampling import RandomOverSampler\n",
        "from sklearn.metrics import average_precision_score\n",
        "from sklearn.metrics import roc_auc_score\n",
        "from sklearn.metrics import roc_curve, auc\n",
        "from matplotlib import pyplot\n",
        "\n",
        "from sklearn.model_selection import GridSearchCV\n",
        "\n",
        "from collections import Counter\n",
        "from sklearn.datasets import make_classification\n",
        "from imblearn.over_sampling import RandomOverSampler\n",
        "\n",
        "from sklearn.decomposition import PCA\n",
        "from sklearn.linear_model import LassoCV\n",
        "from sklearn.metrics import roc_auc_score"
      ]
    },
    {
      "cell_type": "markdown",
      "source": [
        "**1. Cargar Dataset**"
      ],
      "metadata": {
        "id": "vUwynZepCqDI"
      }
    },
    {
      "cell_type": "markdown",
      "source": [
        "Se carga el dataset final luego del preprocesamiento. Se cargan los archivos Dataset.csv y y.csv"
      ],
      "metadata": {
        "id": "q7U_8tacV6wL"
      }
    },
    {
      "cell_type": "code",
      "source": [
        "X = pd.read_csv('Dataset.csv', sep=\",\") \n",
        "y = pd.read_csv('y.csv', sep=\",\") \n",
        "\n",
        "X=X.drop(columns=['Unnamed: 0'])\n",
        "y=y.drop(columns=['Unnamed: 0'])\n"
      ],
      "metadata": {
        "id": "AzhWVTX8V859"
      },
      "execution_count": 4,
      "outputs": []
    },
    {
      "cell_type": "code",
      "source": [],
      "metadata": {
        "id": "2eQz2MT0LUwT"
      },
      "execution_count": 4,
      "outputs": []
    },
    {
      "cell_type": "markdown",
      "source": [
        "**2. Generador de muestras sintéticas**"
      ],
      "metadata": {
        "id": "hkVAvxO7E_-d"
      }
    },
    {
      "cell_type": "code",
      "source": [
        "pca=PCA(n_components=30) \n",
        "pca.fit(X) #\n",
        "X_pca=pca.transform(X)"
      ],
      "metadata": {
        "id": "XyOQA_M4FIW0"
      },
      "execution_count": 5,
      "outputs": []
    },
    {
      "cell_type": "code",
      "source": [
        "ros = RandomOverSampler(random_state=42, sampling_strategy=1.0)                          \n",
        "Xres, yres = ros.fit_resample(X_pca, y)\n",
        "Xtrain, Xtst, ytrain, ytst = train_test_split(Xres,yres, test_size=0.1) #Se toma el 90 % de los datos para Entrenar\n",
        "print (Xtrain.shape, ytrain.shape, Xtst.shape, ytst.shape)\n",
        "X=Xtrain\n",
        "y=ytrain"
      ],
      "metadata": {
        "colab": {
          "base_uri": "https://localhost:8080/"
        },
        "id": "p5AiGhbNFQlZ",
        "outputId": "039efac7-6836-46e2-90cd-9b6d4e4129c8"
      },
      "execution_count": 6,
      "outputs": [
        {
          "output_type": "stream",
          "name": "stdout",
          "text": [
            "(26409, 30) (26409, 1) (2935, 30) (2935, 1)\n"
          ]
        }
      ]
    },
    {
      "cell_type": "markdown",
      "source": [
        "**3. Cálculo pesos de la clase Parámetro que se usa para minimizar el efecto del desbalance del dataset**"
      ],
      "metadata": {
        "id": "NzX2sSDHFeBV"
      }
    },
    {
      "cell_type": "code",
      "source": [
        "def dar_peso_clase():\n",
        "  Xtrain, Xtest, ytrain, ytest = train_test_split(X, y, test_size = 0.2, train_size = 0.8, random_state = 17)\n",
        "  Number_Muestras_por_Clase = ytrain.value_counts()\n",
        "  Number_Muestras_por_Clase = Number_Muestras_por_Clase.sort_index(axis = 0, ascending = True)\n",
        "  Numero_de_Clases = len(Number_Muestras_por_Clase.index)\n",
        "  Peso_por_Clase = len(ytrain)/(Numero_de_Clases*Number_Muestras_por_Clase)\n",
        "  return Peso_por_Clase"
      ],
      "metadata": {
        "id": "wHIfuG95Fga1"
      },
      "execution_count": 7,
      "outputs": []
    },
    {
      "cell_type": "markdown",
      "source": [
        "**4. Modelo de clasificación random Forest Entrenamiento con el 90 % de los datos**\n",
        "\n",
        "https://scikit-learn.org/stable/modules/generated/sklearn.ensemble.RandomForestClassifier.html"
      ],
      "metadata": {
        "id": "eny14wkUF0ue"
      }
    },
    {
      "cell_type": "code",
      "source": [
        "weight = dar_peso_clase() \n",
        "kf = KFokf = KFold(n_splits=10, random_state = True,shuffle=True)\n",
        "\n",
        "X_test =0\n",
        "Y_test =0\n",
        "\n",
        "#warm_start mejoro la velocidad de ejecucion, mejoró la metrica\n",
        "classifier = RandomForestClassifier(min_samples_split=10,\n",
        "                                    ccp_alpha=0.000001,\n",
        "                                    criterion='gini',\n",
        "                                    class_weight = {0: weight[0], 1: weight[1]},\n",
        "                                    random_state=True,max_features =\"sqrt\",\n",
        "                                    warm_start=True,min_impurity_decrease=0.000005)\n",
        "\n",
        "for train_index, test_index in kf.split(X):\n",
        "    \n",
        "    Xtrain, Xtest = X[train_index], X[test_index]\n",
        "    ytrain, ytest = y.iloc[train_index], y.iloc[test_index]\n",
        "    modelo = classifier.fit(Xtrain, ytrain)\n",
        "    ypred = modelo.predict(Xtest)\n",
        "\n",
        "    print()\n",
        "    print(confusion_matrix(ytest, ypred))\n",
        "    print(classification_report(ytest, ypred, digits =4, labels=[0,1]))\n",
        "    s = roc_auc_score(ytest, modelo.predict(Xtest))\n",
        "    print(f'Best val auc: {s: .4f}')"
      ],
      "metadata": {
        "colab": {
          "base_uri": "https://localhost:8080/"
        },
        "id": "k-EhOftTF9mN",
        "outputId": "a648a4f4-0e40-4050-c880-2997f2babd23"
      },
      "execution_count": 8,
      "outputs": [
        {
          "output_type": "stream",
          "name": "stderr",
          "text": [
            "<ipython-input-8-4968c50d344a>:19: DataConversionWarning: A column-vector y was passed when a 1d array was expected. Please change the shape of y to (n_samples,), for example using ravel().\n",
            "  modelo = classifier.fit(Xtrain, ytrain)\n"
          ]
        },
        {
          "output_type": "stream",
          "name": "stdout",
          "text": [
            "\n",
            "[[ 922  382]\n",
            " [ 117 1220]]\n",
            "              precision    recall  f1-score   support\n",
            "\n",
            "           0     0.8874    0.7071    0.7870      1304\n",
            "           1     0.7615    0.9125    0.8302      1337\n",
            "\n",
            "    accuracy                         0.8111      2641\n",
            "   macro avg     0.8245    0.8098    0.8086      2641\n",
            "weighted avg     0.8237    0.8111    0.8089      2641\n",
            "\n",
            "Best val auc:  0.8098\n",
            "\n",
            "[[ 937  402]\n",
            " [ 117 1185]]\n",
            "              precision    recall  f1-score   support\n",
            "\n",
            "           0     0.8890    0.6998    0.7831      1339\n",
            "           1     0.7467    0.9101    0.8204      1302\n",
            "\n",
            "    accuracy                         0.8035      2641\n",
            "   macro avg     0.8178    0.8050    0.8017      2641\n",
            "weighted avg     0.8188    0.8035    0.8015      2641\n",
            "\n"
          ]
        },
        {
          "output_type": "stream",
          "name": "stderr",
          "text": [
            "<ipython-input-8-4968c50d344a>:19: DataConversionWarning: A column-vector y was passed when a 1d array was expected. Please change the shape of y to (n_samples,), for example using ravel().\n",
            "  modelo = classifier.fit(Xtrain, ytrain)\n",
            "/usr/local/lib/python3.10/dist-packages/sklearn/ensemble/_forest.py:452: UserWarning: Warm-start fitting without increasing n_estimators does not fit new trees.\n",
            "  warn(\n",
            "<ipython-input-8-4968c50d344a>:19: DataConversionWarning: A column-vector y was passed when a 1d array was expected. Please change the shape of y to (n_samples,), for example using ravel().\n",
            "  modelo = classifier.fit(Xtrain, ytrain)\n",
            "/usr/local/lib/python3.10/dist-packages/sklearn/ensemble/_forest.py:452: UserWarning: Warm-start fitting without increasing n_estimators does not fit new trees.\n",
            "  warn(\n"
          ]
        },
        {
          "output_type": "stream",
          "name": "stdout",
          "text": [
            "Best val auc:  0.8050\n",
            "\n",
            "[[ 926  364]\n",
            " [ 120 1231]]\n",
            "              precision    recall  f1-score   support\n",
            "\n",
            "           0     0.8853    0.7178    0.7928      1290\n",
            "           1     0.7718    0.9112    0.8357      1351\n",
            "\n",
            "    accuracy                         0.8167      2641\n",
            "   macro avg     0.8285    0.8145    0.8143      2641\n",
            "weighted avg     0.8272    0.8167    0.8148      2641\n",
            "\n",
            "Best val auc:  0.8145\n",
            "\n",
            "[[ 913  399]\n",
            " [ 109 1220]]\n",
            "              precision    recall  f1-score   support\n",
            "\n",
            "           0     0.8933    0.6959    0.7823      1312\n",
            "           1     0.7536    0.9180    0.8277      1329\n",
            "\n",
            "    accuracy                         0.8076      2641\n",
            "   macro avg     0.8234    0.8069    0.8050      2641\n",
            "weighted avg     0.8230    0.8076    0.8052      2641\n",
            "\n"
          ]
        },
        {
          "output_type": "stream",
          "name": "stderr",
          "text": [
            "<ipython-input-8-4968c50d344a>:19: DataConversionWarning: A column-vector y was passed when a 1d array was expected. Please change the shape of y to (n_samples,), for example using ravel().\n",
            "  modelo = classifier.fit(Xtrain, ytrain)\n",
            "/usr/local/lib/python3.10/dist-packages/sklearn/ensemble/_forest.py:452: UserWarning: Warm-start fitting without increasing n_estimators does not fit new trees.\n",
            "  warn(\n"
          ]
        },
        {
          "output_type": "stream",
          "name": "stdout",
          "text": [
            "Best val auc:  0.8069\n",
            "\n",
            "[[ 922  360]\n",
            " [ 136 1223]]\n",
            "              precision    recall  f1-score   support\n",
            "\n",
            "           0     0.8715    0.7192    0.7880      1282\n",
            "           1     0.7726    0.8999    0.8314      1359\n",
            "\n",
            "    accuracy                         0.8122      2641\n",
            "   macro avg     0.8220    0.8096    0.8097      2641\n",
            "weighted avg     0.8206    0.8122    0.8104      2641\n",
            "\n"
          ]
        },
        {
          "output_type": "stream",
          "name": "stderr",
          "text": [
            "<ipython-input-8-4968c50d344a>:19: DataConversionWarning: A column-vector y was passed when a 1d array was expected. Please change the shape of y to (n_samples,), for example using ravel().\n",
            "  modelo = classifier.fit(Xtrain, ytrain)\n",
            "/usr/local/lib/python3.10/dist-packages/sklearn/ensemble/_forest.py:452: UserWarning: Warm-start fitting without increasing n_estimators does not fit new trees.\n",
            "  warn(\n"
          ]
        },
        {
          "output_type": "stream",
          "name": "stdout",
          "text": [
            "Best val auc:  0.8096\n",
            "\n",
            "[[ 978  365]\n",
            " [ 130 1168]]\n",
            "              precision    recall  f1-score   support\n",
            "\n",
            "           0     0.8827    0.7282    0.7980      1343\n",
            "           1     0.7619    0.8998    0.8252      1298\n",
            "\n",
            "    accuracy                         0.8126      2641\n",
            "   macro avg     0.8223    0.8140    0.8116      2641\n",
            "weighted avg     0.8233    0.8126    0.8114      2641\n",
            "\n",
            "Best val auc:  0.8140\n"
          ]
        },
        {
          "output_type": "stream",
          "name": "stderr",
          "text": [
            "<ipython-input-8-4968c50d344a>:19: DataConversionWarning: A column-vector y was passed when a 1d array was expected. Please change the shape of y to (n_samples,), for example using ravel().\n",
            "  modelo = classifier.fit(Xtrain, ytrain)\n",
            "/usr/local/lib/python3.10/dist-packages/sklearn/ensemble/_forest.py:452: UserWarning: Warm-start fitting without increasing n_estimators does not fit new trees.\n",
            "  warn(\n",
            "<ipython-input-8-4968c50d344a>:19: DataConversionWarning: A column-vector y was passed when a 1d array was expected. Please change the shape of y to (n_samples,), for example using ravel().\n",
            "  modelo = classifier.fit(Xtrain, ytrain)\n",
            "/usr/local/lib/python3.10/dist-packages/sklearn/ensemble/_forest.py:452: UserWarning: Warm-start fitting without increasing n_estimators does not fit new trees.\n",
            "  warn(\n",
            "<ipython-input-8-4968c50d344a>:19: DataConversionWarning: A column-vector y was passed when a 1d array was expected. Please change the shape of y to (n_samples,), for example using ravel().\n",
            "  modelo = classifier.fit(Xtrain, ytrain)\n",
            "/usr/local/lib/python3.10/dist-packages/sklearn/ensemble/_forest.py:452: UserWarning: Warm-start fitting without increasing n_estimators does not fit new trees.\n",
            "  warn(\n"
          ]
        },
        {
          "output_type": "stream",
          "name": "stdout",
          "text": [
            "\n",
            "[[ 961  376]\n",
            " [ 122 1182]]\n",
            "              precision    recall  f1-score   support\n",
            "\n",
            "           0     0.8873    0.7188    0.7942      1337\n",
            "           1     0.7587    0.9064    0.8260      1304\n",
            "\n",
            "    accuracy                         0.8114      2641\n",
            "   macro avg     0.8230    0.8126    0.8101      2641\n",
            "weighted avg     0.8238    0.8114    0.8099      2641\n",
            "\n",
            "Best val auc:  0.8126\n",
            "\n",
            "[[ 982  372]\n",
            " [  95 1192]]\n",
            "              precision    recall  f1-score   support\n",
            "\n",
            "           0     0.9118    0.7253    0.8079      1354\n",
            "           1     0.7621    0.9262    0.8362      1287\n",
            "\n",
            "    accuracy                         0.8232      2641\n",
            "   macro avg     0.8370    0.8257    0.8220      2641\n",
            "weighted avg     0.8389    0.8232    0.8217      2641\n",
            "\n",
            "Best val auc:  0.8257\n",
            "\n",
            "[[ 927  363]\n",
            " [ 114 1237]]\n",
            "              precision    recall  f1-score   support\n",
            "\n",
            "           0     0.8905    0.7186    0.7954      1290\n",
            "           1     0.7731    0.9156    0.8384      1351\n",
            "\n",
            "    accuracy                         0.8194      2641\n",
            "   macro avg     0.8318    0.8171    0.8169      2641\n",
            "weighted avg     0.8305    0.8194    0.8174      2641\n",
            "\n",
            "Best val auc:  0.8171\n"
          ]
        },
        {
          "output_type": "stream",
          "name": "stderr",
          "text": [
            "<ipython-input-8-4968c50d344a>:19: DataConversionWarning: A column-vector y was passed when a 1d array was expected. Please change the shape of y to (n_samples,), for example using ravel().\n",
            "  modelo = classifier.fit(Xtrain, ytrain)\n",
            "/usr/local/lib/python3.10/dist-packages/sklearn/ensemble/_forest.py:452: UserWarning: Warm-start fitting without increasing n_estimators does not fit new trees.\n",
            "  warn(\n",
            "<ipython-input-8-4968c50d344a>:19: DataConversionWarning: A column-vector y was passed when a 1d array was expected. Please change the shape of y to (n_samples,), for example using ravel().\n",
            "  modelo = classifier.fit(Xtrain, ytrain)\n",
            "/usr/local/lib/python3.10/dist-packages/sklearn/ensemble/_forest.py:452: UserWarning: Warm-start fitting without increasing n_estimators does not fit new trees.\n",
            "  warn(\n"
          ]
        },
        {
          "output_type": "stream",
          "name": "stdout",
          "text": [
            "\n",
            "[[ 964  382]\n",
            " [ 110 1184]]\n",
            "              precision    recall  f1-score   support\n",
            "\n",
            "           0     0.8976    0.7162    0.7967      1346\n",
            "           1     0.7561    0.9150    0.8280      1294\n",
            "\n",
            "    accuracy                         0.8136      2640\n",
            "   macro avg     0.8268    0.8156    0.8123      2640\n",
            "weighted avg     0.8282    0.8136    0.8120      2640\n",
            "\n",
            "Best val auc:  0.8156\n"
          ]
        }
      ]
    },
    {
      "cell_type": "markdown",
      "source": [
        "**5. Curva ROC: RandomForest**"
      ],
      "metadata": {
        "id": "kwJKeyFvHvd_"
      }
    },
    {
      "cell_type": "code",
      "source": [
        "classes = classifier.predict(Xtest)\n",
        "ns_probs = [0 for _ in range(len(ytest))]\n",
        "ns_auc = roc_auc_score(ytest, ns_probs,average='weighted')\n",
        "classifier_auc = roc_auc_score(ytest,classes,average='weighted')\n",
        "#aps = average_precision_score(ytest, ns_probs)\n",
        "print()\n",
        "#print(\"Average_presicion_score \"+str(aps))\n",
        "print('Sin entrenar: ROC AUC=%.3f' % (ns_auc))\n",
        "print('Algoritmo RandomForest: ROC AUC=%.3f' % (classifier_auc))\n",
        "print()\n",
        "classifier_probs = classes[:]\n",
        "ns_fpr, ns_tpr, _ = roc_curve(ytest, ns_probs)\n",
        "pyplot.plot(ns_fpr, ns_tpr, linestyle='--', label='Sin entrenar')\n",
        "classifier_fpr,classifier_tpr, _ = roc_curve(ytest, classifier_probs)\n",
        "print()\n",
        "pyplot.plot(classifier_fpr,classifier_tpr, marker='.', label='Curva modelo Random Forest')\n",
        "pyplot.xlabel('Tasa de Falsos Positivos')\n",
        "pyplot.ylabel('Tasa de Verdaderos Positivos')\n",
        "pyplot.legend()\n",
        "pyplot.show()"
      ],
      "metadata": {
        "colab": {
          "base_uri": "https://localhost:8080/",
          "height": 536
        },
        "id": "ftZ2DbfFHyZu",
        "outputId": "b466a242-9b8a-4c56-aa73-fa8e7cb13ab3"
      },
      "execution_count": 9,
      "outputs": [
        {
          "output_type": "stream",
          "name": "stdout",
          "text": [
            "\n",
            "Sin entrenar: ROC AUC=0.500\n",
            "Algoritmo RandomForest: ROC AUC=0.816\n",
            "\n",
            "\n"
          ]
        },
        {
          "output_type": "display_data",
          "data": {
            "text/plain": [
              "<Figure size 640x480 with 1 Axes>"
            ],
            "image/png": "[encoded data removed]"
          },
          "metadata": {}
        }
      ]
    }
  ]
}