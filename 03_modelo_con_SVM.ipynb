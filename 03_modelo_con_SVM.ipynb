{
  "nbformat": 4,
  "nbformat_minor": 0,
  "metadata": {
    "colab": {
      "provenance": [],
      "include_colab_link": true
    },
    "kernelspec": {
      "name": "python3",
      "display_name": "Python 3"
    },
    "language_info": {
      "name": "python"
    }
  },
  "cells": [
    {
      "cell_type": "markdown",
      "metadata": {
        "id": "view-in-github",
        "colab_type": "text"
      },
      "source": [
        "<a href=\"https://colab.research.google.com/github/soyudea/StrokePredictionModel/blob/main/03_modelo_con_SVM.ipynb\" target=\"_parent\"><img src=\"https://colab.research.google.com/assets/colab-badge.svg\" alt=\"Open In Colab\"/></a>"
      ]
    },
    {
      "cell_type": "code",
      "execution_count": 1,
      "metadata": {
        "id": "t6lbl0qXMB4V"
      },
      "outputs": [],
      "source": [
        "import pandas as pd\n",
        "import numpy as np\n",
        "import math\n",
        "from seaborn import distplot\n",
        "import seaborn as sns\n",
        "import matplotlib.pyplot as plt\n",
        "from sklearn.preprocessing import StandardScaler\n",
        "from sklearn.preprocessing import MinMaxScaler\n",
        "from sklearn.model_selection import KFold\n",
        "from sklearn.metrics import f1_score\n",
        "from sklearn.metrics import confusion_matrix\n",
        "from sklearn.metrics import classification_report\n",
        "from sklearn.pipeline import make_pipeline\n",
        "from sklearn.model_selection import train_test_split\n",
        "from sklearn.metrics import median_absolute_error, r2_score, mean_squared_error\n",
        "from matplotlib.patches import split_path_inout\n",
        "from imblearn.over_sampling import RandomOverSampler\n",
        "from sklearn.metrics import average_precision_score\n",
        "from sklearn.metrics import roc_auc_score\n",
        "from sklearn.metrics import roc_curve, auc\n",
        "from matplotlib import pyplot\n",
        "from sklearn.svm import SVC\n",
        "from sklearn import svm, datasets\n",
        "from sklearn.model_selection import GridSearchCV\n",
        "from sklearn.decomposition import PCA"
      ]
    },
    {
      "cell_type": "markdown",
      "source": [
        "**1. Cargar Dataset**"
      ],
      "metadata": {
        "id": "MccJMVKcM4Q-"
      }
    },
    {
      "cell_type": "markdown",
      "source": [
        "Se carga el dataset final luego del preprocesamiento. Se cargan los archivos Dataset.csv y y.csv"
      ],
      "metadata": {
        "id": "Z0h76tSgMrsi"
      }
    },
    {
      "cell_type": "code",
      "source": [
        "X = pd.read_csv('Dataset.csv', sep=\",\") \n",
        "y = pd.read_csv('y.csv', sep=\",\") \n",
        "\n",
        "X=X.drop(columns=['Unnamed: 0'])\n",
        "y=y.drop(columns=['Unnamed: 0'])\n"
      ],
      "metadata": {
        "id": "ip2pP7OyNBkF"
      },
      "execution_count": 2,
      "outputs": []
    },
    {
      "cell_type": "markdown",
      "source": [
        "**2. Generador de muestras sintéticas**"
      ],
      "metadata": {
        "id": "WJ7KGEyvPUZU"
      }
    },
    {
      "cell_type": "code",
      "source": [
        "pca=PCA(n_components=30) \n",
        "pca.fit(X) #\n",
        "X_pca=pca.transform(X)"
      ],
      "metadata": {
        "id": "dt9c9ihBPZbr"
      },
      "execution_count": 3,
      "outputs": []
    },
    {
      "cell_type": "code",
      "source": [
        "ros = RandomOverSampler(random_state=42, sampling_strategy=1.0)                          \n",
        "Xres, yres = ros.fit_resample(X_pca, y)\n",
        "Xtrain, Xtst, ytrain, ytst = train_test_split(Xres,yres, test_size=0.1) #Se toma el 90 % de los datos para Entrenar\n",
        "print (Xtrain.shape, ytrain.shape, Xtst.shape, ytst.shape)\n",
        "X=Xtrain\n",
        "y=ytrain"
      ],
      "metadata": {
        "colab": {
          "base_uri": "https://localhost:8080/"
        },
        "id": "YRuOcTzGPwhE",
        "outputId": "d0eba06c-7307-45bc-906b-d82960499d89"
      },
      "execution_count": 4,
      "outputs": [
        {
          "output_type": "stream",
          "name": "stdout",
          "text": [
            "(26409, 30) (26409, 1) (2935, 30) (2935, 1)\n"
          ]
        }
      ]
    },
    {
      "cell_type": "markdown",
      "source": [
        "**3. Calculo pesos de la clase Parametro que se usa para minimizar el efecto del desbalance del dataset**"
      ],
      "metadata": {
        "id": "lz3-yH5_P3Y8"
      }
    },
    {
      "cell_type": "code",
      "source": [
        "def dar_peso_clase():\n",
        "  Xtrain, Xtest, ytrain, ytest = train_test_split(X, y, test_size = 0.2, train_size = 0.8, random_state = 17)\n",
        "  Number_Muestras_por_Clase = ytrain.value_counts()\n",
        "  Number_Muestras_por_Clase = Number_Muestras_por_Clase.sort_index(axis = 0, ascending = True)\n",
        "  Numero_de_Clases = len(Number_Muestras_por_Clase.index)\n",
        "  Peso_por_Clase = len(ytrain)/(Numero_de_Clases*Number_Muestras_por_Clase)\n",
        "  return Peso_por_Clase"
      ],
      "metadata": {
        "id": "aqvQ0j4ZQEua"
      },
      "execution_count": 5,
      "outputs": []
    },
    {
      "cell_type": "markdown",
      "source": [
        "**4. Maquina de soporte vectorial** https://scikit-learn.org/stable/modules/generated/sklearn.svm.SVC.html"
      ],
      "metadata": {
        "id": "E1sMORJ5Qc_e"
      }
    },
    {
      "cell_type": "markdown",
      "source": [
        "**4.1 Calculo de parametros**"
      ],
      "metadata": {
        "id": "98IZyCY0QufE"
      }
    },
    {
      "cell_type": "code",
      "source": [
        "from sklearn.utils.fixes import loguniform\n",
        "param_grid = {'kernel': ['rbf'], 'C':[1, 10, 20],\n",
        "              'gamma': [1e-3, 1e-4] ,\n",
        "              \n",
        "              } \n",
        "#'tol':[1e-3, 1e-4],           \n",
        "#  'decision_function_shape':['ovo', 'ovr']\n",
        "\n",
        "svc = svm.SVC(gamma=\"scale\")\n",
        "clf = GridSearchCV(svc, param_grid, cv=5,n_jobs=2)\n",
        "clf.fit(X, y) \n",
        "parametros = pd.concat([pd.DataFrame(clf.cv_results_[\"params\"]),\n",
        "                pd.DataFrame(clf.cv_results_[\"mean_test_score\"],\n",
        "                columns=[\"Accuracy\"])],axis=1)\n",
        "print(parametros)"
      ],
      "metadata": {
        "colab": {
          "base_uri": "https://localhost:8080/"
        },
        "id": "uiSQS7y8QrXD",
        "outputId": "be85b639-c71f-4719-d1cc-abf5cf3c876f"
      },
      "execution_count": 6,
      "outputs": [
        {
          "output_type": "stream",
          "name": "stderr",
          "text": [
            "/usr/local/lib/python3.10/dist-packages/sklearn/utils/validation.py:1143: DataConversionWarning: A column-vector y was passed when a 1d array was expected. Please change the shape of y to (n_samples, ), for example using ravel().\n",
            "  y = column_or_1d(y, warn=True)\n"
          ]
        },
        {
          "output_type": "stream",
          "name": "stdout",
          "text": [
            "    C   gamma kernel  Accuracy\n",
            "0   1  0.0010    rbf  0.716801\n",
            "1   1  0.0001    rbf  0.715627\n",
            "2  10  0.0010    rbf  0.720096\n",
            "3  10  0.0001    rbf  0.716801\n",
            "4  20  0.0010    rbf  0.720096\n",
            "5  20  0.0001    rbf  0.716801\n"
          ]
        }
      ]
    },
    {
      "cell_type": "code",
      "source": [
        "kf = KFold(n_splits=5, random_state = True,shuffle=True)\n",
        "c=1\n",
        "weight= dar_peso_clase()\n",
        "X_test =0\n",
        "y_test =0\n",
        "#degree =3 los resultados fueron regulares con el kernel =\"poly\" , no calcula area AUC\n",
        "\n",
        "svclassifier = SVC(C=c,kernel=\"rbf\", degree=3, gamma='auto',shrinking=True,tol=0.00010,\n",
        "                   class_weight = {0: weight[0], 1: weight[1]},\n",
        "                   decision_function_shape='ovr')\n",
        "\n",
        "for train_index, test_index in kf.split(X):\n",
        "    X_train, X_test = X[train_index], X[test_index]\n",
        "    y_train, y_test = y.iloc[train_index], y.iloc[test_index]\n",
        "\n",
        "    modelo = svclassifier.fit(X_train, y_train)\n",
        "    y_pred = modelo.predict(X_test)\n",
        "    print()\n",
        "    \n",
        "    print(confusion_matrix(y_test, y_pred))\n",
        "    print(classification_report(y_test, y_pred, digits =6, labels=[0,1],zero_division=1))\n",
        "    s = roc_auc_score(y_test, modelo.predict(X_test))\n",
        "    print(f'Best val auc: {s: .4f}')\n",
        "    print()"
      ],
      "metadata": {
        "colab": {
          "base_uri": "https://localhost:8080/"
        },
        "id": "O7XqkpeTQ7iC",
        "outputId": "306ec283-37b0-49ef-dc7d-c1c7d444c0e8"
      },
      "execution_count": 7,
      "outputs": [
        {
          "output_type": "stream",
          "name": "stderr",
          "text": [
            "/usr/local/lib/python3.10/dist-packages/sklearn/utils/validation.py:1143: DataConversionWarning: A column-vector y was passed when a 1d array was expected. Please change the shape of y to (n_samples, ), for example using ravel().\n",
            "  y = column_or_1d(y, warn=True)\n"
          ]
        },
        {
          "output_type": "stream",
          "name": "stdout",
          "text": [
            "\n",
            "[[1243 1454]\n",
            " [  59 2526]]\n",
            "              precision    recall  f1-score   support\n",
            "\n",
            "           0   0.954685  0.460882  0.621655      2697\n",
            "           1   0.634673  0.977176  0.769535      2585\n",
            "\n",
            "    accuracy                       0.713555      5282\n",
            "   macro avg   0.794679  0.719029  0.695595      5282\n",
            "weighted avg   0.798072  0.713555  0.694028      5282\n",
            "\n",
            "Best val auc:  0.7190\n",
            "\n"
          ]
        },
        {
          "output_type": "stream",
          "name": "stderr",
          "text": [
            "/usr/local/lib/python3.10/dist-packages/sklearn/utils/validation.py:1143: DataConversionWarning: A column-vector y was passed when a 1d array was expected. Please change the shape of y to (n_samples, ), for example using ravel().\n",
            "  y = column_or_1d(y, warn=True)\n"
          ]
        },
        {
          "output_type": "stream",
          "name": "stdout",
          "text": [
            "\n",
            "[[1267 1399]\n",
            " [  52 2564]]\n",
            "              precision    recall  f1-score   support\n",
            "\n",
            "           0   0.960576  0.475244  0.635885      2666\n",
            "           1   0.646985  0.980122  0.779450      2616\n",
            "\n",
            "    accuracy                       0.725293      5282\n",
            "   macro avg   0.803780  0.727683  0.707667      5282\n",
            "weighted avg   0.805265  0.725293  0.706988      5282\n",
            "\n",
            "Best val auc:  0.7277\n",
            "\n"
          ]
        },
        {
          "output_type": "stream",
          "name": "stderr",
          "text": [
            "/usr/local/lib/python3.10/dist-packages/sklearn/utils/validation.py:1143: DataConversionWarning: A column-vector y was passed when a 1d array was expected. Please change the shape of y to (n_samples, ), for example using ravel().\n",
            "  y = column_or_1d(y, warn=True)\n"
          ]
        },
        {
          "output_type": "stream",
          "name": "stdout",
          "text": [
            "\n",
            "[[1222 1400]\n",
            " [  50 2610]]\n",
            "              precision    recall  f1-score   support\n",
            "\n",
            "           0   0.960692  0.466056  0.627632      2622\n",
            "           1   0.650873  0.981203  0.782609      2660\n",
            "\n",
            "    accuracy                       0.725483      5282\n",
            "   macro avg   0.805782  0.723630  0.705120      5282\n",
            "weighted avg   0.804668  0.725483  0.705678      5282\n",
            "\n",
            "Best val auc:  0.7236\n",
            "\n"
          ]
        },
        {
          "output_type": "stream",
          "name": "stderr",
          "text": [
            "/usr/local/lib/python3.10/dist-packages/sklearn/utils/validation.py:1143: DataConversionWarning: A column-vector y was passed when a 1d array was expected. Please change the shape of y to (n_samples, ), for example using ravel().\n",
            "  y = column_or_1d(y, warn=True)\n"
          ]
        },
        {
          "output_type": "stream",
          "name": "stdout",
          "text": [
            "\n",
            "[[1166 1422]\n",
            " [  59 2635]]\n",
            "              precision    recall  f1-score   support\n",
            "\n",
            "           0   0.951837  0.450541  0.611592      2588\n",
            "           1   0.649495  0.978099  0.780625      2694\n",
            "\n",
            "    accuracy                       0.719614      5282\n",
            "   macro avg   0.800666  0.714320  0.696109      5282\n",
            "weighted avg   0.797632  0.719614  0.697805      5282\n",
            "\n",
            "Best val auc:  0.7143\n",
            "\n"
          ]
        },
        {
          "output_type": "stream",
          "name": "stderr",
          "text": [
            "/usr/local/lib/python3.10/dist-packages/sklearn/utils/validation.py:1143: DataConversionWarning: A column-vector y was passed when a 1d array was expected. Please change the shape of y to (n_samples, ), for example using ravel().\n",
            "  y = column_or_1d(y, warn=True)\n"
          ]
        },
        {
          "output_type": "stream",
          "name": "stdout",
          "text": [
            "\n",
            "[[1212 1442]\n",
            " [  52 2575]]\n",
            "              precision    recall  f1-score   support\n",
            "\n",
            "           0   0.958861  0.456669  0.618683      2654\n",
            "           1   0.641026  0.980206  0.775135      2627\n",
            "\n",
            "    accuracy                       0.717099      5281\n",
            "   macro avg   0.799943  0.718437  0.696909      5281\n",
            "weighted avg   0.800756  0.717099  0.696509      5281\n",
            "\n",
            "Best val auc:  0.7184\n",
            "\n"
          ]
        }
      ]
    },
    {
      "cell_type": "markdown",
      "source": [
        "**Curva ROC Modelo maquina de soporte Vectorial SVC**\n"
      ],
      "metadata": {
        "id": "S5IPYJQNRGGT"
      }
    },
    {
      "cell_type": "code",
      "source": [
        "#Curva ROC\n",
        "classes = svclassifier.predict(X_test)\n",
        "ns_probs = [0 for _ in range(len(y_test))]\n",
        "ns_auc = roc_auc_score(y_test, ns_probs,average='weighted')\n",
        "svclassifier_auc = roc_auc_score(y_test,classes,average='weighted')\n",
        "aps = average_precision_score(y_test, ns_probs)\n",
        "\n",
        "print(\"Average_presicion_score \"+str(aps))\n",
        "print('Sin entrenar: ROC AUC=%.3f' % (ns_auc))\n",
        "print('Algoritmo SVC: ROC AUC=%.3f' % (svclassifier_auc))\n",
        "svclassifier_probs = classes[:]\n",
        "ns_fpr, ns_tpr, _ = roc_curve(y_test, ns_probs)\n",
        "pyplot.plot(ns_fpr, ns_tpr, linestyle='--', label='Sin entrenar')\n",
        "svclassifier_fpr, classifier_tpr, _ = roc_curve(y_test, svclassifier_probs)\n",
        "print()\n",
        "pyplot.plot(svclassifier_fpr, classifier_tpr, marker='.', label='Curva Maquina de soporte vectorial')\n",
        "pyplot.xlabel('Tasa de Falsos Positivos')\n",
        "pyplot.ylabel('Tasa de Verdaderos Positivos')\n",
        "pyplot.legend()\n",
        "pyplot.show()\n",
        "print()"
      ],
      "metadata": {
        "colab": {
          "base_uri": "https://localhost:8080/",
          "height": 536
        },
        "id": "04ObHok5RMpa",
        "outputId": "fdc3d8eb-26da-496f-aa67-162d304c9fa9"
      },
      "execution_count": 8,
      "outputs": [
        {
          "output_type": "stream",
          "name": "stdout",
          "text": [
            "Average_presicion_score 0.49744366597235373\n",
            "Sin entrenar: ROC AUC=0.500\n",
            "Algoritmo SVC: ROC AUC=0.718\n",
            "\n"
          ]
        },
        {
          "output_type": "display_data",
          "data": {
            "text/plain": [
              "<Figure size 640x480 with 1 Axes>"
            ],
            "image/png": "[encoded data removed]"
          },
          "metadata": {}
        },
        {
          "output_type": "stream",
          "name": "stdout",
          "text": [
            "\n"
          ]
        }
      ]
    }
  ]
}