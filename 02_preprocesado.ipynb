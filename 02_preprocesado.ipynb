{
  "nbformat": 4,
  "nbformat_minor": 0,
  "metadata": {
    "colab": {
      "provenance": [],
      "authorship_tag": "ABX9TyMLrsB3f0SL6jBK6yMi042T",
      "include_colab_link": true
    },
    "kernelspec": {
      "name": "python3",
      "display_name": "Python 3"
    },
    "language_info": {
      "name": "python"
    }
  },
  "cells": [
    {
      "cell_type": "markdown",
      "metadata": {
        "id": "view-in-github",
        "colab_type": "text"
      },
      "source": [
        "<a href=\"https://colab.research.google.com/github/soyudea/StrokePredictionModel/blob/main/02_preprocesado.ipynb\" target=\"_parent\"><img src=\"https://colab.research.google.com/assets/colab-badge.svg\" alt=\"Open In Colab\"/></a>"
      ]
    },
    {
      "cell_type": "markdown",
      "source": [
        "**Librerías**"
      ],
      "metadata": {
        "id": "GAujrXdqbgCq"
      }
    },
    {
      "cell_type": "code",
      "source": [
        "import pandas as pd\n",
        "import numpy as np\n",
        "import math\n",
        "from seaborn import distplot\n",
        "import seaborn as sns\n",
        "import matplotlib.pyplot as plt\n",
        "from sklearn.preprocessing import StandardScaler\n",
        "from sklearn.preprocessing import MinMaxScaler\n",
        "from sklearn.model_selection import KFold\n",
        "from sklearn.metrics import f1_score\n",
        "from sklearn.metrics import confusion_matrix\n",
        "from sklearn.metrics import classification_report\n",
        "from sklearn.pipeline import make_pipeline\n",
        "from sklearn.model_selection import train_test_split\n",
        "from sklearn.metrics import median_absolute_error, r2_score, mean_squared_error\n",
        "from matplotlib.patches import split_path_inout\n",
        "from imblearn.over_sampling import RandomOverSampler\n",
        "from sklearn.metrics import average_precision_score\n",
        "from sklearn.metrics import roc_auc_score\n",
        "from sklearn.metrics import roc_curve, auc\n",
        "from matplotlib import pyplot\n",
        "from sklearn.svm import SVC\n",
        "from sklearn import svm, datasets\n",
        "from sklearn.model_selection import GridSearchCV\n",
        "from sklearn.decomposition import PCA"
      ],
      "metadata": {
        "id": "lPprzR0Pbjta"
      },
      "execution_count": null,
      "outputs": []
    },
    {
      "cell_type": "markdown",
      "source": [
        "**Carga del datase**t https://www.kaggle.com/competitions/playground-series-s3e2/data?select=train.csv"
      ],
      "metadata": {
        "id": "DXJ-0AF8bsqp"
      }
    },
    {
      "cell_type": "markdown",
      "source": [
        "**1. Lectura y concatenación de los Dataset**"
      ],
      "metadata": {
        "id": "jOdANjqRcCrK"
      }
    },
    {
      "cell_type": "code",
      "source": [
        "#Se carga dataset obtenido de Kaggle de competencia\n",
        "#==============================================================\n",
        "datos = pd.read_csv('train.csv', sep=\",\")\n",
        "datos_test = pd.read_csv('test.csv', sep=\",\")\n",
        "df =datos.copy()\n",
        "df_test=datos_test.copy()\n",
        "df"
      ],
      "metadata": {
        "colab": {
          "base_uri": "https://localhost:8080/",
          "height": 485
        },
        "id": "b2qqwmEob3-B",
        "outputId": "8b132d05-384e-48e4-c59e-a043ac7f368f"
      },
      "execution_count": null,
      "outputs": [
        {
          "output_type": "execute_result",
          "data": {
            "text/plain": [
              "          id  gender   age  hypertension  heart_disease ever_married  \\\n",
              "0          0    Male  28.0             0              0          Yes   \n",
              "1          1    Male  33.0             0              0          Yes   \n",
              "2          2  Female  42.0             0              0          Yes   \n",
              "3          3    Male  56.0             0              0          Yes   \n",
              "4          4  Female  24.0             0              0           No   \n",
              "...      ...     ...   ...           ...            ...          ...   \n",
              "15299  15299  Female  22.0             0              0           No   \n",
              "15300  15300  Female  46.0             1              0          Yes   \n",
              "15301  15301  Female  75.0             0              0          Yes   \n",
              "15302  15302    Male  46.0             0              0          Yes   \n",
              "15303  15303  Female  14.0             0              0           No   \n",
              "\n",
              "           work_type Residence_type  avg_glucose_level   bmi   smoking_status  \\\n",
              "0            Private          Urban              79.53  31.1     never smoked   \n",
              "1            Private          Rural              78.44  23.9  formerly smoked   \n",
              "2            Private          Rural             103.00  40.3          Unknown   \n",
              "3            Private          Urban              64.87  28.8     never smoked   \n",
              "4            Private          Rural              73.36  28.8     never smoked   \n",
              "...              ...            ...                ...   ...              ...   \n",
              "15299       Govt_job          Urban              72.63  19.5     never smoked   \n",
              "15300        Private          Urban             101.19  32.1     never smoked   \n",
              "15301  Self-employed          Urban              87.69  26.2     never smoked   \n",
              "15302        Private          Rural             101.13  22.5          Unknown   \n",
              "15303        Private          Rural              85.12  24.7     never smoked   \n",
              "\n",
              "       stroke  \n",
              "0           0  \n",
              "1           0  \n",
              "2           0  \n",
              "3           0  \n",
              "4           0  \n",
              "...       ...  \n",
              "15299       0  \n",
              "15300       0  \n",
              "15301       0  \n",
              "15302       0  \n",
              "15303       0  \n",
              "\n",
              "[15304 rows x 12 columns]"
            ],
            "text/html": [
              "\n",
              "  <div id=\"df-6f74e0f1-3fc3-4e45-9d22-da677de26ca1\">\n",
              "    <div class=\"colab-df-container\">\n",
              "      <div>\n",
              "<style scoped>\n",
              "    .dataframe tbody tr th:only-of-type {\n",
              "        vertical-align: middle;\n",
              "    }\n",
              "\n",
              "    .dataframe tbody tr th {\n",
              "        vertical-align: top;\n",
              "    }\n",
              "\n",
              "    .dataframe thead th {\n",
              "        text-align: right;\n",
              "    }\n",
              "</style>\n",
              "<table border=\"1\" class=\"dataframe\">\n",
              "  <thead>\n",
              "    <tr style=\"text-align: right;\">\n",
              "      <th></th>\n",
              "      <th>id</th>\n",
              "      <th>gender</th>\n",
              "      <th>age</th>\n",
              "      <th>hypertension</th>\n",
              "      <th>heart_disease</th>\n",
              "      <th>ever_married</th>\n",
              "      <th>work_type</th>\n",
              "      <th>Residence_type</th>\n",
              "      <th>avg_glucose_level</th>\n",
              "      <th>bmi</th>\n",
              "      <th>smoking_status</th>\n",
              "      <th>stroke</th>\n",
              "    </tr>\n",
              "  </thead>\n",
              "  <tbody>\n",
              "    <tr>\n",
              "      <th>0</th>\n",
              "      <td>0</td>\n",
              "      <td>Male</td>\n",
              "      <td>28.0</td>\n",
              "      <td>0</td>\n",
              "      <td>0</td>\n",
              "      <td>Yes</td>\n",
              "      <td>Private</td>\n",
              "      <td>Urban</td>\n",
              "      <td>79.53</td>\n",
              "      <td>31.1</td>\n",
              "      <td>never smoked</td>\n",
              "      <td>0</td>\n",
              "    </tr>\n",
              "    <tr>\n",
              "      <th>1</th>\n",
              "      <td>1</td>\n",
              "      <td>Male</td>\n",
              "      <td>33.0</td>\n",
              "      <td>0</td>\n",
              "      <td>0</td>\n",
              "      <td>Yes</td>\n",
              "      <td>Private</td>\n",
              "      <td>Rural</td>\n",
              "      <td>78.44</td>\n",
              "      <td>23.9</td>\n",
              "      <td>formerly smoked</td>\n",
              "      <td>0</td>\n",
              "    </tr>\n",
              "    <tr>\n",
              "      <th>2</th>\n",
              "      <td>2</td>\n",
              "      <td>Female</td>\n",
              "      <td>42.0</td>\n",
              "      <td>0</td>\n",
              "      <td>0</td>\n",
              "      <td>Yes</td>\n",
              "      <td>Private</td>\n",
              "      <td>Rural</td>\n",
              "      <td>103.00</td>\n",
              "      <td>40.3</td>\n",
              "      <td>Unknown</td>\n",
              "      <td>0</td>\n",
              "    </tr>\n",
              "    <tr>\n",
              "      <th>3</th>\n",
              "      <td>3</td>\n",
              "      <td>Male</td>\n",
              "      <td>56.0</td>\n",
              "      <td>0</td>\n",
              "      <td>0</td>\n",
              "      <td>Yes</td>\n",
              "      <td>Private</td>\n",
              "      <td>Urban</td>\n",
              "      <td>64.87</td>\n",
              "      <td>28.8</td>\n",
              "      <td>never smoked</td>\n",
              "      <td>0</td>\n",
              "    </tr>\n",
              "    <tr>\n",
              "      <th>4</th>\n",
              "      <td>4</td>\n",
              "      <td>Female</td>\n",
              "      <td>24.0</td>\n",
              "      <td>0</td>\n",
              "      <td>0</td>\n",
              "      <td>No</td>\n",
              "      <td>Private</td>\n",
              "      <td>Rural</td>\n",
              "      <td>73.36</td>\n",
              "      <td>28.8</td>\n",
              "      <td>never smoked</td>\n",
              "      <td>0</td>\n",
              "    </tr>\n",
              "    <tr>\n",
              "      <th>...</th>\n",
              "      <td>...</td>\n",
              "      <td>...</td>\n",
              "      <td>...</td>\n",
              "      <td>...</td>\n",
              "      <td>...</td>\n",
              "      <td>...</td>\n",
              "      <td>...</td>\n",
              "      <td>...</td>\n",
              "      <td>...</td>\n",
              "      <td>...</td>\n",
              "      <td>...</td>\n",
              "      <td>...</td>\n",
              "    </tr>\n",
              "    <tr>\n",
              "      <th>15299</th>\n",
              "      <td>15299</td>\n",
              "      <td>Female</td>\n",
              "      <td>22.0</td>\n",
              "      <td>0</td>\n",
              "      <td>0</td>\n",
              "      <td>No</td>\n",
              "      <td>Govt_job</td>\n",
              "      <td>Urban</td>\n",
              "      <td>72.63</td>\n",
              "      <td>19.5</td>\n",
              "      <td>never smoked</td>\n",
              "      <td>0</td>\n",
              "    </tr>\n",
              "    <tr>\n",
              "      <th>15300</th>\n",
              "      <td>15300</td>\n",
              "      <td>Female</td>\n",
              "      <td>46.0</td>\n",
              "      <td>1</td>\n",
              "      <td>0</td>\n",
              "      <td>Yes</td>\n",
              "      <td>Private</td>\n",
              "      <td>Urban</td>\n",
              "      <td>101.19</td>\n",
              "      <td>32.1</td>\n",
              "      <td>never smoked</td>\n",
              "      <td>0</td>\n",
              "    </tr>\n",
              "    <tr>\n",
              "      <th>15301</th>\n",
              "      <td>15301</td>\n",
              "      <td>Female</td>\n",
              "      <td>75.0</td>\n",
              "      <td>0</td>\n",
              "      <td>0</td>\n",
              "      <td>Yes</td>\n",
              "      <td>Self-employed</td>\n",
              "      <td>Urban</td>\n",
              "      <td>87.69</td>\n",
              "      <td>26.2</td>\n",
              "      <td>never smoked</td>\n",
              "      <td>0</td>\n",
              "    </tr>\n",
              "    <tr>\n",
              "      <th>15302</th>\n",
              "      <td>15302</td>\n",
              "      <td>Male</td>\n",
              "      <td>46.0</td>\n",
              "      <td>0</td>\n",
              "      <td>0</td>\n",
              "      <td>Yes</td>\n",
              "      <td>Private</td>\n",
              "      <td>Rural</td>\n",
              "      <td>101.13</td>\n",
              "      <td>22.5</td>\n",
              "      <td>Unknown</td>\n",
              "      <td>0</td>\n",
              "    </tr>\n",
              "    <tr>\n",
              "      <th>15303</th>\n",
              "      <td>15303</td>\n",
              "      <td>Female</td>\n",
              "      <td>14.0</td>\n",
              "      <td>0</td>\n",
              "      <td>0</td>\n",
              "      <td>No</td>\n",
              "      <td>Private</td>\n",
              "      <td>Rural</td>\n",
              "      <td>85.12</td>\n",
              "      <td>24.7</td>\n",
              "      <td>never smoked</td>\n",
              "      <td>0</td>\n",
              "    </tr>\n",
              "  </tbody>\n",
              "</table>\n",
              "<p>15304 rows × 12 columns</p>\n",
              "</div>\n",
              "      <button class=\"colab-df-convert\" onclick=\"convertToInteractive('df-6f74e0f1-3fc3-4e45-9d22-da677de26ca1')\"\n",
              "              title=\"Convert this dataframe to an interactive table.\"\n",
              "              style=\"display:none;\">\n",
              "        \n",
              "  <svg xmlns=\"http://www.w3.org/2000/svg\" height=\"24px\"viewBox=\"0 0 24 24\"\n",
              "       width=\"24px\">\n",
              "    <path d=\"M0 0h24v24H0V0z\" fill=\"none\"/>\n",
              "    <path d=\"M18.56 5.44l.94 2.06.94-2.06 2.06-.94-2.06-.94-.94-2.06-.94 2.06-2.06.94zm-11 1L8.5 8.5l.94-2.06 2.06-.94-2.06-.94L8.5 2.5l-.94 2.06-2.06.94zm10 10l.94 2.06.94-2.06 2.06-.94-2.06-.94-.94-2.06-.94 2.06-2.06.94z\"/><path d=\"M17.41 7.96l-1.37-1.37c-.4-.4-.92-.59-1.43-.59-.52 0-1.04.2-1.43.59L10.3 9.45l-7.72 7.72c-.78.78-.78 2.05 0 2.83L4 21.41c.39.39.9.59 1.41.59.51 0 1.02-.2 1.41-.59l7.78-7.78 2.81-2.81c.8-.78.8-2.07 0-2.86zM5.41 20L4 18.59l7.72-7.72 1.47 1.35L5.41 20z\"/>\n",
              "  </svg>\n",
              "      </button>\n",
              "      \n",
              "  <style>\n",
              "    .colab-df-container {\n",
              "      display:flex;\n",
              "      flex-wrap:wrap;\n",
              "      gap: 12px;\n",
              "    }\n",
              "\n",
              "    .colab-df-convert {\n",
              "      background-color: #E8F0FE;\n",
              "      border: none;\n",
              "      border-radius: 50%;\n",
              "      cursor: pointer;\n",
              "      display: none;\n",
              "      fill: #1967D2;\n",
              "      height: 32px;\n",
              "      padding: 0 0 0 0;\n",
              "      width: 32px;\n",
              "    }\n",
              "\n",
              "    .colab-df-convert:hover {\n",
              "      background-color: #E2EBFA;\n",
              "      box-shadow: 0px 1px 2px rgba(60, 64, 67, 0.3), 0px 1px 3px 1px rgba(60, 64, 67, 0.15);\n",
              "      fill: #174EA6;\n",
              "    }\n",
              "\n",
              "    [theme=dark] .colab-df-convert {\n",
              "      background-color: #3B4455;\n",
              "      fill: #D2E3FC;\n",
              "    }\n",
              "\n",
              "    [theme=dark] .colab-df-convert:hover {\n",
              "      background-color: #434B5C;\n",
              "      box-shadow: 0px 1px 3px 1px rgba(0, 0, 0, 0.15);\n",
              "      filter: drop-shadow(0px 1px 2px rgba(0, 0, 0, 0.3));\n",
              "      fill: #FFFFFF;\n",
              "    }\n",
              "  </style>\n",
              "\n",
              "      <script>\n",
              "        const buttonEl =\n",
              "          document.querySelector('#df-6f74e0f1-3fc3-4e45-9d22-da677de26ca1 button.colab-df-convert');\n",
              "        buttonEl.style.display =\n",
              "          google.colab.kernel.accessAllowed ? 'block' : 'none';\n",
              "\n",
              "        async function convertToInteractive(key) {\n",
              "          const element = document.querySelector('#df-6f74e0f1-3fc3-4e45-9d22-da677de26ca1');\n",
              "          const dataTable =\n",
              "            await google.colab.kernel.invokeFunction('convertToInteractive',\n",
              "                                                     [key], {});\n",
              "          if (!dataTable) return;\n",
              "\n",
              "          const docLinkHtml = 'Like what you see? Visit the ' +\n",
              "            '<a target=\"_blank\" href=https://colab.research.google.com/notebooks/data_table.ipynb>data table notebook</a>'\n",
              "            + ' to learn more about interactive tables.';\n",
              "          element.innerHTML = '';\n",
              "          dataTable['output_type'] = 'display_data';\n",
              "          await google.colab.output.renderOutput(dataTable, element);\n",
              "          const docLink = document.createElement('div');\n",
              "          docLink.innerHTML = docLinkHtml;\n",
              "          element.appendChild(docLink);\n",
              "        }\n",
              "      </script>\n",
              "    </div>\n",
              "  </div>\n",
              "  "
            ]
          },
          "metadata": {},
          "execution_count": 4
        }
      ]
    },
    {
      "cell_type": "markdown",
      "source": [
        "**2. Se agregan valores nulos al 5 % de las muestras en los campos age, avg_glucose_level**"
      ],
      "metadata": {
        "id": "_nONT-UrcRdL"
      }
    },
    {
      "cell_type": "code",
      "source": [
        "#Se adiciona valores nulos al atributo age y avg_glucose_level\n",
        "#=============================================================\n",
        "#df =datos.copy()\n",
        "lista=[]\n",
        "porc_nulos =int(np.shape(df)[0]*5/100)   #Calculo de porcentaje de datos nulos\n",
        "rango_df = np.shape(df)[0]\n",
        "\n",
        "for i in range(porc_nulos):\n",
        "    num_aleatprio = np.random.randint(rango_df) \n",
        "    lista.append(num_aleatprio)\n",
        "\n",
        "\n",
        "for i in lista:\n",
        "    df.at[i, \"age\"] = np.nan\n",
        "\n",
        "lista=[]\n",
        "rango_df = np.shape(df)[0]\n",
        "\n",
        "for i in range(porc_nulos):\n",
        "    num_aleatprio = np.random.randint(rango_df) \n",
        "    lista.append(num_aleatprio)\n",
        "\n",
        "\n",
        "for i in lista:\n",
        "    df.at[i, \"avg_glucose_level\"] = np.nan"
      ],
      "metadata": {
        "id": "4JvHNVqLcY1h"
      },
      "execution_count": null,
      "outputs": []
    },
    {
      "cell_type": "markdown",
      "source": [
        "**Estado del dataset despues de agregar valores nulos**"
      ],
      "metadata": {
        "id": "VtHKECb2cmmp"
      }
    },
    {
      "cell_type": "code",
      "source": [
        "df.isna().sum().sort_values()"
      ],
      "metadata": {
        "colab": {
          "base_uri": "https://localhost:8080/"
        },
        "id": "H3t1A3FVcpFG",
        "outputId": "bbac5023-2136-494a-b578-26c506fba14f"
      },
      "execution_count": null,
      "outputs": [
        {
          "output_type": "execute_result",
          "data": {
            "text/plain": [
              "id                   0\n",
              "gender               0\n",
              "age                  0\n",
              "hypertension         0\n",
              "heart_disease        0\n",
              "ever_married         0\n",
              "work_type            0\n",
              "Residence_type       0\n",
              "avg_glucose_level    0\n",
              "bmi                  0\n",
              "smoking_status       0\n",
              "stroke               0\n",
              "dtype: int64"
            ]
          },
          "metadata": {},
          "execution_count": 5
        }
      ]
    },
    {
      "cell_type": "markdown",
      "source": [
        "**3. Tratamiento de datos**"
      ],
      "metadata": {
        "id": "-obt_oMadNLj"
      }
    },
    {
      "cell_type": "markdown",
      "source": [
        "**3.1 Se agregan valores promedios a los campos con valores nulos**"
      ],
      "metadata": {
        "id": "ueBUgAcOdhAz"
      }
    },
    {
      "cell_type": "code",
      "source": [
        "#Se agregan valores promedios al atributo age cuando son nulos\n",
        "#==================================================================\n",
        "\n",
        "mean_age = df['age'].mean().astype(int) #Calculo media de las edades\n",
        "\n",
        "for i in range(len(df)):\n",
        "    if math. isnan(df.at[i, \"age\"]):\n",
        "       df.at[i, \"age\"] = mean_age"
      ],
      "metadata": {
        "id": "FeMMQ4KWdsWs"
      },
      "execution_count": null,
      "outputs": []
    },
    {
      "cell_type": "code",
      "source": [
        "#Se agrega valores promedios al atributo avg_glucose_level cuando son nulos\n",
        "#===============================================================================================\n",
        "mean_avg_glucose_level = df['avg_glucose_level'].mean().astype(int) #Calculo media de las edades\n",
        "\n",
        "for i in range(len(df)):\n",
        "    if math. isnan(df.at[i, \"avg_glucose_level\"]):\n",
        "       df.at[i, \"avg_glucose_level\"] = mean_avg_glucose_level"
      ],
      "metadata": {
        "id": "06eFkOr9d090"
      },
      "execution_count": null,
      "outputs": []
    },
    {
      "cell_type": "markdown",
      "source": [
        "**Estado final despues de agregar valores promedios**"
      ],
      "metadata": {
        "id": "pX7IhUSKd8k6"
      }
    },
    {
      "cell_type": "code",
      "source": [
        "datos['age'] = datos['age'].astype('int64') \n",
        "datos.info()"
      ],
      "metadata": {
        "colab": {
          "base_uri": "https://localhost:8080/"
        },
        "id": "P9nTn9WEeK9h",
        "outputId": "be3fca6b-a90c-4d9d-df80-9aa9d600b660"
      },
      "execution_count": null,
      "outputs": [
        {
          "output_type": "stream",
          "name": "stdout",
          "text": [
            "<class 'pandas.core.frame.DataFrame'>\n",
            "RangeIndex: 15304 entries, 0 to 15303\n",
            "Data columns (total 12 columns):\n",
            " #   Column             Non-Null Count  Dtype  \n",
            "---  ------             --------------  -----  \n",
            " 0   id                 15304 non-null  int64  \n",
            " 1   gender             15304 non-null  object \n",
            " 2   age                15304 non-null  int64  \n",
            " 3   hypertension       15304 non-null  int64  \n",
            " 4   heart_disease      15304 non-null  int64  \n",
            " 5   ever_married       15304 non-null  object \n",
            " 6   work_type          15304 non-null  object \n",
            " 7   Residence_type     15304 non-null  object \n",
            " 8   avg_glucose_level  15304 non-null  float64\n",
            " 9   bmi                15304 non-null  float64\n",
            " 10  smoking_status     15304 non-null  object \n",
            " 11  stroke             15304 non-null  int64  \n",
            "dtypes: float64(2), int64(5), object(5)\n",
            "memory usage: 1.4+ MB\n"
          ]
        }
      ]
    },
    {
      "cell_type": "code",
      "source": [
        "df.isnull().sum()"
      ],
      "metadata": {
        "colab": {
          "base_uri": "https://localhost:8080/"
        },
        "id": "4EbxFKrDeQgi",
        "outputId": "b5f2736f-689c-410a-d0ff-e60de57222bb"
      },
      "execution_count": null,
      "outputs": [
        {
          "output_type": "execute_result",
          "data": {
            "text/plain": [
              "id                   0\n",
              "gender               0\n",
              "age                  0\n",
              "hypertension         0\n",
              "heart_disease        0\n",
              "ever_married         0\n",
              "work_type            0\n",
              "Residence_type       0\n",
              "avg_glucose_level    0\n",
              "bmi                  0\n",
              "smoking_status       0\n",
              "stroke               0\n",
              "dtype: int64"
            ]
          },
          "metadata": {},
          "execution_count": 9
        }
      ]
    },
    {
      "cell_type": "markdown",
      "source": [
        "**3.2 Discretización de las variables 'age', 'avge_glucose_level', 'bmi'**\n",
        "\n"
      ],
      "metadata": {
        "id": "JFqAWmwmeUop"
      }
    },
    {
      "cell_type": "code",
      "source": [
        "#Se transforma campo numerico age a un atributo con valores categoricos, se discretisa\n",
        "#========================================================================================================================================================\n",
        "\n",
        "df = datos.copy()\n",
        "\n",
        "edades = pd.cut(df['age'], bins = [0,10,20,40,np.inf], labels =['niño','joven','adulto','mayor'], include_lowest=True, retbins = True)\n",
        "df['new_age'] = list(edades[0]) \n",
        "\n",
        "glucosa = pd.cut(df['avg_glucose_level'], bins = [0,100,125,np.inf], labels = ['normal', 'prediabetico','diabetico'], include_lowest=True, retbins=True)\n",
        "df[\"avg_glucose\"] = list(glucosa[0])\n",
        "\n",
        "im = pd.cut(df['bmi'], bins = [18.5,24.9,25,29.9,np.inf], labels = ['low_weight', 'Healthy_weight','overweight','obesity'], include_lowest=True, retbins=True)\n",
        "df['bmi_range'] = list(im[0])\n",
        "df.shape"
      ],
      "metadata": {
        "colab": {
          "base_uri": "https://localhost:8080/"
        },
        "id": "AvCheFCCebD5",
        "outputId": "8a1e284e-bd0b-4176-badf-956daee402b9"
      },
      "execution_count": null,
      "outputs": [
        {
          "output_type": "execute_result",
          "data": {
            "text/plain": [
              "(15304, 15)"
            ]
          },
          "metadata": {},
          "execution_count": 10
        }
      ]
    },
    {
      "cell_type": "markdown",
      "source": [
        "**3.3 Transformación del dataset, de variables categoricas a númericas**"
      ],
      "metadata": {
        "id": "0rqqF4VLe7_E"
      }
    },
    {
      "cell_type": "code",
      "source": [
        "#Se obtiene un dataset con todos sus atributos numéricos\n",
        "#========================================================================================================================================================================================================================================\n",
        "vnumericas = df.drop([\"id\",\"avg_glucose_level\",\"age\",\"bmi\",\"new_age\",\"avg_glucose\",\"bmi_range\",\"gender\",\"ever_married\",\"work_type\",\"Residence_type\",\"smoking_status\", \"bmi_range\"],axis=1)#SE crea variable númerica sin las categoricas \n",
        "vcategoricas=df.filter([\"new_age\",\"avg_glucose\",\"bmi_range\",\"gender\",\"ever_married\",\"work_type\",\"Residence_type\",\"smoking_status\", \"bmi_range\"]) \n",
        "\n",
        "cat_numerica=pd.get_dummies(vcategoricas,drop_first=False) \n",
        "df=pd.concat([cat_numerica,vnumericas],axis=1)\n",
        "#datos = df\n",
        "df.shape"
      ],
      "metadata": {
        "colab": {
          "base_uri": "https://localhost:8080/"
        },
        "id": "QFoNPUq_e-_b",
        "outputId": "80b11736-6693-4345-d0a1-f7a70ba24d93"
      },
      "execution_count": null,
      "outputs": [
        {
          "output_type": "execute_result",
          "data": {
            "text/plain": [
              "(15304, 34)"
            ]
          },
          "metadata": {},
          "execution_count": 11
        }
      ]
    },
    {
      "cell_type": "markdown",
      "source": [
        "**Organización del dataset final**"
      ],
      "metadata": {
        "id": "RFi0gsPjfUPB"
      }
    },
    {
      "cell_type": "code",
      "source": [
        "X = df[:len(df)]\n",
        "y = df['stroke']\n",
        "X = X.drop(columns=['stroke'])\n",
        "X.columns\n",
        "X.shape"
      ],
      "metadata": {
        "colab": {
          "base_uri": "https://localhost:8080/"
        },
        "id": "kwH-Dr1BfWxa",
        "outputId": "2e2f2578-4863-4b10-9e07-05da54ad0966"
      },
      "execution_count": null,
      "outputs": [
        {
          "output_type": "execute_result",
          "data": {
            "text/plain": [
              "(15304, 33)"
            ]
          },
          "metadata": {},
          "execution_count": 12
        }
      ]
    },
    {
      "cell_type": "markdown",
      "source": [
        "**Generador de muestras sintéticas**"
      ],
      "metadata": {
        "id": "B8lqgWvUfb87"
      }
    },
    {
      "cell_type": "code",
      "source": [
        "pca=PCA(n_components=30) \n",
        "pca.fit(X) #\n",
        "X_pca=pca.transform(X)"
      ],
      "metadata": {
        "id": "L-0WyzeEfvGC"
      },
      "execution_count": null,
      "outputs": []
    },
    {
      "cell_type": "code",
      "source": [
        "ros = RandomOverSampler(random_state=42, sampling_strategy=1.0)                          \n",
        "Xres, yres = ros.fit_resample(X_pca, y)\n",
        "Xtrain, Xtst, ytrain, ytst = train_test_split(Xres,yres, test_size=0.1) #Se toma el 90 % de los datos para Entrenar\n",
        "print (Xtrain.shape, ytrain.shape, Xtst.shape, ytst.shape)\n",
        "X=Xtrain\n",
        "y=ytrain"
      ],
      "metadata": {
        "colab": {
          "base_uri": "https://localhost:8080/"
        },
        "id": "pPKNSyzGfjLi",
        "outputId": "846f0e4f-c1b1-43ef-9209-718894931857"
      },
      "execution_count": null,
      "outputs": [
        {
          "output_type": "stream",
          "name": "stdout",
          "text": [
            "(26409, 30) (26409,) (2935, 30) (2935,)\n"
          ]
        }
      ]
    }
  ]
}